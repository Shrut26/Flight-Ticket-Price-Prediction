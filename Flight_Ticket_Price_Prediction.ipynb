{
  "cells": [
    {
      "cell_type": "markdown",
      "metadata": {
        "id": "-vOolrOjrE8R"
      },
      "source": [
        "<div class = \"container\" align = center>\n",
        "<big><h1 align=center> Flight Ticket Price Prediction </h1></big>\n",
        "\n",
        "</div>"
      ]
    },
    {
      "cell_type": "markdown",
      "metadata": {
        "id": "PAn9lRMRi7tn"
      },
      "source": [
        "#**Useful Library Import**"
      ]
    },
    {
      "cell_type": "code",
      "execution_count": null,
      "metadata": {
        "id": "5YvCzw6niYCf"
      },
      "outputs": [],
      "source": [
        "import pandas as pd \n",
        "import numpy as np \n",
        "import seaborn as sns \n",
        "import matplotlib.pyplot as plt\n",
        "from sklearn.preprocessing import StandardScaler, LabelEncoder\n",
        "from sklearn.metrics import accuracy_score,confusion_matrix, mean_squared_error, mean_squared_log_error\n",
        "import warnings\n",
        "warnings.filterwarnings('ignore')\n",
        "from sklearn.model_selection import train_test_split"
      ]
    },
    {
      "cell_type": "markdown",
      "metadata": {
        "id": "u8L0ZL10oIl0"
      },
      "source": [
        "#**Import Useful Models**"
      ]
    },
    {
      "cell_type": "code",
      "execution_count": null,
      "metadata": {
        "id": "eV1lVohMoPze"
      },
      "outputs": [],
      "source": [
        "from xgboost import XGBRegressor\n",
        "import lightgbm as lgbm\n",
        "from sklearn.ensemble import AdaBoostRegressor\n",
        "from sklearn.ensemble import RandomForestRegressor\n",
        "from sklearn.linear_model import LinearRegression\n",
        "from sklearn.neighbors import KNeighborsRegressor\n",
        "from sklearn.metrics import mean_squared_log_error , mean_squared_error , mean_absolute_error , r2_score\n",
        "from sklearn.model_selection import cross_val_score, RandomizedSearchCV\n",
        "from sklearn.decomposition import PCA"
      ]
    },
    {
      "cell_type": "markdown",
      "metadata": {
        "id": "pKLQdCOnkE_c"
      },
      "source": [
        "#**Reading Dataset**"
      ]
    },
    {
      "cell_type": "code",
      "execution_count": null,
      "metadata": {
        "colab": {
          "base_uri": "https://localhost:8080/"
        },
        "id": "saWzZPOCkJpg",
        "outputId": "0ba7d24c-781f-42d8-c886-f6c756bdd6de"
      },
      "outputs": [
        {
          "output_type": "execute_result",
          "data": {
            "text/plain": [
              "           Airline Date_of_Journey    Source Destination  \\\n",
              "0           IndiGo      24/03/2019  Banglore   New Delhi   \n",
              "1        Air India      01/05/2019   Kolkata    Banglore   \n",
              "2      Jet Airways      09/06/2019     Delhi      Cochin   \n",
              "3           IndiGo      12/05/2019   Kolkata    Banglore   \n",
              "4           IndiGo      01/03/2019  Banglore   New Delhi   \n",
              "...            ...             ...       ...         ...   \n",
              "10678     Air Asia      09/04/2019   Kolkata    Banglore   \n",
              "10679    Air India      27/04/2019   Kolkata    Banglore   \n",
              "10680  Jet Airways      27/04/2019  Banglore       Delhi   \n",
              "10681      Vistara      01/03/2019  Banglore   New Delhi   \n",
              "10682    Air India      09/05/2019     Delhi      Cochin   \n",
              "\n",
              "                       Route Dep_Time  Arrival_Time Duration Total_Stops  \\\n",
              "0                  BLR → DEL    22:20  01:10 22 Mar   2h 50m    non-stop   \n",
              "1      CCU → IXR → BBI → BLR     5:50         13:15   7h 25m     2 stops   \n",
              "2      DEL → LKO → BOM → COK     9:25  04:25 10 Jun      19h     2 stops   \n",
              "3            CCU → NAG → BLR    18:05         23:30   5h 25m      1 stop   \n",
              "4            BLR → NAG → DEL    16:50         21:35   4h 45m      1 stop   \n",
              "...                      ...      ...           ...      ...         ...   \n",
              "10678              CCU → BLR    19:55         22:25   2h 30m    non-stop   \n",
              "10679              CCU → BLR    20:45         23:20   2h 35m    non-stop   \n",
              "10680              BLR → DEL     8:20         11:20       3h    non-stop   \n",
              "10681              BLR → DEL    11:30         14:10   2h 40m    non-stop   \n",
              "10682  DEL → GOI → BOM → COK    10:55         19:15   8h 20m     2 stops   \n",
              "\n",
              "      Additional_Info  Price  \n",
              "0             No info   3897  \n",
              "1             No info   7662  \n",
              "2             No info  13882  \n",
              "3             No info   6218  \n",
              "4             No info  13302  \n",
              "...               ...    ...  \n",
              "10678         No info   4107  \n",
              "10679         No info   4145  \n",
              "10680         No info   7229  \n",
              "10681         No info  12648  \n",
              "10682         No info  11753  \n",
              "\n",
              "[10683 rows x 11 columns]"
            ],
            "text/html": [
              "\n",
              "  <div id=\"df-2e0963cc-15a4-4b0f-95c8-0950af1a160f\">\n",
              "    <div class=\"colab-df-container\">\n",
              "      <div>\n",
              "<style scoped>\n",
              "    .dataframe tbody tr th:only-of-type {\n",
              "        vertical-align: middle;\n",
              "    }\n",
              "\n",
              "    .dataframe tbody tr th {\n",
              "        vertical-align: top;\n",
              "    }\n",
              "\n",
              "    .dataframe thead th {\n",
              "        text-align: right;\n",
              "    }\n",
              "</style>\n",
              "<table border=\"1\" class=\"dataframe\">\n",
              "  <thead>\n",
              "    <tr style=\"text-align: right;\">\n",
              "      <th></th>\n",
              "      <th>Airline</th>\n",
              "      <th>Date_of_Journey</th>\n",
              "      <th>Source</th>\n",
              "      <th>Destination</th>\n",
              "      <th>Route</th>\n",
              "      <th>Dep_Time</th>\n",
              "      <th>Arrival_Time</th>\n",
              "      <th>Duration</th>\n",
              "      <th>Total_Stops</th>\n",
              "      <th>Additional_Info</th>\n",
              "      <th>Price</th>\n",
              "    </tr>\n",
              "  </thead>\n",
              "  <tbody>\n",
              "    <tr>\n",
              "      <th>0</th>\n",
              "      <td>IndiGo</td>\n",
              "      <td>24/03/2019</td>\n",
              "      <td>Banglore</td>\n",
              "      <td>New Delhi</td>\n",
              "      <td>BLR → DEL</td>\n",
              "      <td>22:20</td>\n",
              "      <td>01:10 22 Mar</td>\n",
              "      <td>2h 50m</td>\n",
              "      <td>non-stop</td>\n",
              "      <td>No info</td>\n",
              "      <td>3897</td>\n",
              "    </tr>\n",
              "    <tr>\n",
              "      <th>1</th>\n",
              "      <td>Air India</td>\n",
              "      <td>01/05/2019</td>\n",
              "      <td>Kolkata</td>\n",
              "      <td>Banglore</td>\n",
              "      <td>CCU → IXR → BBI → BLR</td>\n",
              "      <td>5:50</td>\n",
              "      <td>13:15</td>\n",
              "      <td>7h 25m</td>\n",
              "      <td>2 stops</td>\n",
              "      <td>No info</td>\n",
              "      <td>7662</td>\n",
              "    </tr>\n",
              "    <tr>\n",
              "      <th>2</th>\n",
              "      <td>Jet Airways</td>\n",
              "      <td>09/06/2019</td>\n",
              "      <td>Delhi</td>\n",
              "      <td>Cochin</td>\n",
              "      <td>DEL → LKO → BOM → COK</td>\n",
              "      <td>9:25</td>\n",
              "      <td>04:25 10 Jun</td>\n",
              "      <td>19h</td>\n",
              "      <td>2 stops</td>\n",
              "      <td>No info</td>\n",
              "      <td>13882</td>\n",
              "    </tr>\n",
              "    <tr>\n",
              "      <th>3</th>\n",
              "      <td>IndiGo</td>\n",
              "      <td>12/05/2019</td>\n",
              "      <td>Kolkata</td>\n",
              "      <td>Banglore</td>\n",
              "      <td>CCU → NAG → BLR</td>\n",
              "      <td>18:05</td>\n",
              "      <td>23:30</td>\n",
              "      <td>5h 25m</td>\n",
              "      <td>1 stop</td>\n",
              "      <td>No info</td>\n",
              "      <td>6218</td>\n",
              "    </tr>\n",
              "    <tr>\n",
              "      <th>4</th>\n",
              "      <td>IndiGo</td>\n",
              "      <td>01/03/2019</td>\n",
              "      <td>Banglore</td>\n",
              "      <td>New Delhi</td>\n",
              "      <td>BLR → NAG → DEL</td>\n",
              "      <td>16:50</td>\n",
              "      <td>21:35</td>\n",
              "      <td>4h 45m</td>\n",
              "      <td>1 stop</td>\n",
              "      <td>No info</td>\n",
              "      <td>13302</td>\n",
              "    </tr>\n",
              "    <tr>\n",
              "      <th>...</th>\n",
              "      <td>...</td>\n",
              "      <td>...</td>\n",
              "      <td>...</td>\n",
              "      <td>...</td>\n",
              "      <td>...</td>\n",
              "      <td>...</td>\n",
              "      <td>...</td>\n",
              "      <td>...</td>\n",
              "      <td>...</td>\n",
              "      <td>...</td>\n",
              "      <td>...</td>\n",
              "    </tr>\n",
              "    <tr>\n",
              "      <th>10678</th>\n",
              "      <td>Air Asia</td>\n",
              "      <td>09/04/2019</td>\n",
              "      <td>Kolkata</td>\n",
              "      <td>Banglore</td>\n",
              "      <td>CCU → BLR</td>\n",
              "      <td>19:55</td>\n",
              "      <td>22:25</td>\n",
              "      <td>2h 30m</td>\n",
              "      <td>non-stop</td>\n",
              "      <td>No info</td>\n",
              "      <td>4107</td>\n",
              "    </tr>\n",
              "    <tr>\n",
              "      <th>10679</th>\n",
              "      <td>Air India</td>\n",
              "      <td>27/04/2019</td>\n",
              "      <td>Kolkata</td>\n",
              "      <td>Banglore</td>\n",
              "      <td>CCU → BLR</td>\n",
              "      <td>20:45</td>\n",
              "      <td>23:20</td>\n",
              "      <td>2h 35m</td>\n",
              "      <td>non-stop</td>\n",
              "      <td>No info</td>\n",
              "      <td>4145</td>\n",
              "    </tr>\n",
              "    <tr>\n",
              "      <th>10680</th>\n",
              "      <td>Jet Airways</td>\n",
              "      <td>27/04/2019</td>\n",
              "      <td>Banglore</td>\n",
              "      <td>Delhi</td>\n",
              "      <td>BLR → DEL</td>\n",
              "      <td>8:20</td>\n",
              "      <td>11:20</td>\n",
              "      <td>3h</td>\n",
              "      <td>non-stop</td>\n",
              "      <td>No info</td>\n",
              "      <td>7229</td>\n",
              "    </tr>\n",
              "    <tr>\n",
              "      <th>10681</th>\n",
              "      <td>Vistara</td>\n",
              "      <td>01/03/2019</td>\n",
              "      <td>Banglore</td>\n",
              "      <td>New Delhi</td>\n",
              "      <td>BLR → DEL</td>\n",
              "      <td>11:30</td>\n",
              "      <td>14:10</td>\n",
              "      <td>2h 40m</td>\n",
              "      <td>non-stop</td>\n",
              "      <td>No info</td>\n",
              "      <td>12648</td>\n",
              "    </tr>\n",
              "    <tr>\n",
              "      <th>10682</th>\n",
              "      <td>Air India</td>\n",
              "      <td>09/05/2019</td>\n",
              "      <td>Delhi</td>\n",
              "      <td>Cochin</td>\n",
              "      <td>DEL → GOI → BOM → COK</td>\n",
              "      <td>10:55</td>\n",
              "      <td>19:15</td>\n",
              "      <td>8h 20m</td>\n",
              "      <td>2 stops</td>\n",
              "      <td>No info</td>\n",
              "      <td>11753</td>\n",
              "    </tr>\n",
              "  </tbody>\n",
              "</table>\n",
              "<p>10683 rows × 11 columns</p>\n",
              "</div>\n",
              "      <button class=\"colab-df-convert\" onclick=\"convertToInteractive('df-2e0963cc-15a4-4b0f-95c8-0950af1a160f')\"\n",
              "              title=\"Convert this dataframe to an interactive table.\"\n",
              "              style=\"display:none;\">\n",
              "        \n",
              "  <svg xmlns=\"http://www.w3.org/2000/svg\" height=\"24px\"viewBox=\"0 0 24 24\"\n",
              "       width=\"24px\">\n",
              "    <path d=\"M0 0h24v24H0V0z\" fill=\"none\"/>\n",
              "    <path d=\"M18.56 5.44l.94 2.06.94-2.06 2.06-.94-2.06-.94-.94-2.06-.94 2.06-2.06.94zm-11 1L8.5 8.5l.94-2.06 2.06-.94-2.06-.94L8.5 2.5l-.94 2.06-2.06.94zm10 10l.94 2.06.94-2.06 2.06-.94-2.06-.94-.94-2.06-.94 2.06-2.06.94z\"/><path d=\"M17.41 7.96l-1.37-1.37c-.4-.4-.92-.59-1.43-.59-.52 0-1.04.2-1.43.59L10.3 9.45l-7.72 7.72c-.78.78-.78 2.05 0 2.83L4 21.41c.39.39.9.59 1.41.59.51 0 1.02-.2 1.41-.59l7.78-7.78 2.81-2.81c.8-.78.8-2.07 0-2.86zM5.41 20L4 18.59l7.72-7.72 1.47 1.35L5.41 20z\"/>\n",
              "  </svg>\n",
              "      </button>\n",
              "      \n",
              "  <style>\n",
              "    .colab-df-container {\n",
              "      display:flex;\n",
              "      flex-wrap:wrap;\n",
              "      gap: 12px;\n",
              "    }\n",
              "\n",
              "    .colab-df-convert {\n",
              "      background-color: #E8F0FE;\n",
              "      border: none;\n",
              "      border-radius: 50%;\n",
              "      cursor: pointer;\n",
              "      display: none;\n",
              "      fill: #1967D2;\n",
              "      height: 32px;\n",
              "      padding: 0 0 0 0;\n",
              "      width: 32px;\n",
              "    }\n",
              "\n",
              "    .colab-df-convert:hover {\n",
              "      background-color: #E2EBFA;\n",
              "      box-shadow: 0px 1px 2px rgba(60, 64, 67, 0.3), 0px 1px 3px 1px rgba(60, 64, 67, 0.15);\n",
              "      fill: #174EA6;\n",
              "    }\n",
              "\n",
              "    [theme=dark] .colab-df-convert {\n",
              "      background-color: #3B4455;\n",
              "      fill: #D2E3FC;\n",
              "    }\n",
              "\n",
              "    [theme=dark] .colab-df-convert:hover {\n",
              "      background-color: #434B5C;\n",
              "      box-shadow: 0px 1px 3px 1px rgba(0, 0, 0, 0.15);\n",
              "      filter: drop-shadow(0px 1px 2px rgba(0, 0, 0, 0.3));\n",
              "      fill: #FFFFFF;\n",
              "    }\n",
              "  </style>\n",
              "\n",
              "      <script>\n",
              "        const buttonEl =\n",
              "          document.querySelector('#df-2e0963cc-15a4-4b0f-95c8-0950af1a160f button.colab-df-convert');\n",
              "        buttonEl.style.display =\n",
              "          google.colab.kernel.accessAllowed ? 'block' : 'none';\n",
              "\n",
              "        async function convertToInteractive(key) {\n",
              "          const element = document.querySelector('#df-2e0963cc-15a4-4b0f-95c8-0950af1a160f');\n",
              "          const dataTable =\n",
              "            await google.colab.kernel.invokeFunction('convertToInteractive',\n",
              "                                                     [key], {});\n",
              "          if (!dataTable) return;\n",
              "\n",
              "          const docLinkHtml = 'Like what you see? Visit the ' +\n",
              "            '<a target=\"_blank\" href=https://colab.research.google.com/notebooks/data_table.ipynb>data table notebook</a>'\n",
              "            + ' to learn more about interactive tables.';\n",
              "          element.innerHTML = '';\n",
              "          dataTable['output_type'] = 'display_data';\n",
              "          await google.colab.output.renderOutput(dataTable, element);\n",
              "          const docLink = document.createElement('div');\n",
              "          docLink.innerHTML = docLinkHtml;\n",
              "          element.appendChild(docLink);\n",
              "        }\n",
              "      </script>\n",
              "    </div>\n",
              "  </div>\n",
              "  "
            ]
          },
          "metadata": {},
          "execution_count": 101
        }
      ],
      "source": [
        "data = pd.read_csv('https://docs.google.com/spreadsheets/d/e/2PACX-1vTVF_Hy83R3lxjXAOfhvAvVMf12s7SYbNIoUAmqcclSpolebRWUkjFONleBN59m8fkpLVhTZbmPkVUT/pub?output=csv')\n",
        "data"
      ]
    },
    {
      "cell_type": "markdown",
      "metadata": {
        "id": "iTdzjpuu_ScV"
      },
      "source": [
        "##Dataset Describition "
      ]
    },
    {
      "cell_type": "markdown",
      "metadata": {
        "id": "613yNPd3_c8i"
      },
      "source": [
        "The given dataset has 11 columns which consists of :\n",
        "1. Airline -> name of airline\n",
        "2. Date of Journey -> starting date of journey\n",
        "3. Source -> starting station of journey\n",
        "4. Destination -> End station of journey\n",
        "5. Route -> Stations which will occur between Source and destination\n",
        "6. Dep_Time -> starting time of journey\n",
        "7. Arrival_time -> end time of journey\n",
        "8. Duration -> Time duration of the journey\n",
        "9. Total_stops -> stops taken by the flight during the journey\n",
        "10. Additional_info -> additional information\n",
        "11. Price -> Ticket Price"
      ]
    },
    {
      "cell_type": "markdown",
      "metadata": {
        "id": "39djXTnVlusm"
      },
      "source": [
        "#**Preprocessing of Dataset and constructing proper dataset**"
      ]
    },
    {
      "cell_type": "markdown",
      "metadata": {
        "id": "FqVRcy8C3MyC"
      },
      "source": [
        "Exploratory Data Analysis"
      ]
    },
    {
      "cell_type": "markdown",
      "metadata": {
        "id": "Bm5vIt2lAzQZ"
      },
      "source": [
        "checking dataset describe"
      ]
    },
    {
      "cell_type": "code",
      "execution_count": null,
      "metadata": {
        "colab": {
          "base_uri": "https://localhost:8080/",
          "height": 300
        },
        "id": "IdwiFnJskUQa",
        "outputId": "1197c3d4-4559-4fcf-d86c-4320167c15c4"
      },
      "outputs": [
        {
          "output_type": "execute_result",
          "data": {
            "text/plain": [
              "              Price\n",
              "count  10683.000000\n",
              "mean    9087.064121\n",
              "std     4611.359167\n",
              "min     1759.000000\n",
              "25%     5277.000000\n",
              "50%     8372.000000\n",
              "75%    12373.000000\n",
              "max    79512.000000"
            ],
            "text/html": [
              "\n",
              "  <div id=\"df-8eb292cb-805e-4104-816e-915580600466\">\n",
              "    <div class=\"colab-df-container\">\n",
              "      <div>\n",
              "<style scoped>\n",
              "    .dataframe tbody tr th:only-of-type {\n",
              "        vertical-align: middle;\n",
              "    }\n",
              "\n",
              "    .dataframe tbody tr th {\n",
              "        vertical-align: top;\n",
              "    }\n",
              "\n",
              "    .dataframe thead th {\n",
              "        text-align: right;\n",
              "    }\n",
              "</style>\n",
              "<table border=\"1\" class=\"dataframe\">\n",
              "  <thead>\n",
              "    <tr style=\"text-align: right;\">\n",
              "      <th></th>\n",
              "      <th>Price</th>\n",
              "    </tr>\n",
              "  </thead>\n",
              "  <tbody>\n",
              "    <tr>\n",
              "      <th>count</th>\n",
              "      <td>10683.000000</td>\n",
              "    </tr>\n",
              "    <tr>\n",
              "      <th>mean</th>\n",
              "      <td>9087.064121</td>\n",
              "    </tr>\n",
              "    <tr>\n",
              "      <th>std</th>\n",
              "      <td>4611.359167</td>\n",
              "    </tr>\n",
              "    <tr>\n",
              "      <th>min</th>\n",
              "      <td>1759.000000</td>\n",
              "    </tr>\n",
              "    <tr>\n",
              "      <th>25%</th>\n",
              "      <td>5277.000000</td>\n",
              "    </tr>\n",
              "    <tr>\n",
              "      <th>50%</th>\n",
              "      <td>8372.000000</td>\n",
              "    </tr>\n",
              "    <tr>\n",
              "      <th>75%</th>\n",
              "      <td>12373.000000</td>\n",
              "    </tr>\n",
              "    <tr>\n",
              "      <th>max</th>\n",
              "      <td>79512.000000</td>\n",
              "    </tr>\n",
              "  </tbody>\n",
              "</table>\n",
              "</div>\n",
              "      <button class=\"colab-df-convert\" onclick=\"convertToInteractive('df-8eb292cb-805e-4104-816e-915580600466')\"\n",
              "              title=\"Convert this dataframe to an interactive table.\"\n",
              "              style=\"display:none;\">\n",
              "        \n",
              "  <svg xmlns=\"http://www.w3.org/2000/svg\" height=\"24px\"viewBox=\"0 0 24 24\"\n",
              "       width=\"24px\">\n",
              "    <path d=\"M0 0h24v24H0V0z\" fill=\"none\"/>\n",
              "    <path d=\"M18.56 5.44l.94 2.06.94-2.06 2.06-.94-2.06-.94-.94-2.06-.94 2.06-2.06.94zm-11 1L8.5 8.5l.94-2.06 2.06-.94-2.06-.94L8.5 2.5l-.94 2.06-2.06.94zm10 10l.94 2.06.94-2.06 2.06-.94-2.06-.94-.94-2.06-.94 2.06-2.06.94z\"/><path d=\"M17.41 7.96l-1.37-1.37c-.4-.4-.92-.59-1.43-.59-.52 0-1.04.2-1.43.59L10.3 9.45l-7.72 7.72c-.78.78-.78 2.05 0 2.83L4 21.41c.39.39.9.59 1.41.59.51 0 1.02-.2 1.41-.59l7.78-7.78 2.81-2.81c.8-.78.8-2.07 0-2.86zM5.41 20L4 18.59l7.72-7.72 1.47 1.35L5.41 20z\"/>\n",
              "  </svg>\n",
              "      </button>\n",
              "      \n",
              "  <style>\n",
              "    .colab-df-container {\n",
              "      display:flex;\n",
              "      flex-wrap:wrap;\n",
              "      gap: 12px;\n",
              "    }\n",
              "\n",
              "    .colab-df-convert {\n",
              "      background-color: #E8F0FE;\n",
              "      border: none;\n",
              "      border-radius: 50%;\n",
              "      cursor: pointer;\n",
              "      display: none;\n",
              "      fill: #1967D2;\n",
              "      height: 32px;\n",
              "      padding: 0 0 0 0;\n",
              "      width: 32px;\n",
              "    }\n",
              "\n",
              "    .colab-df-convert:hover {\n",
              "      background-color: #E2EBFA;\n",
              "      box-shadow: 0px 1px 2px rgba(60, 64, 67, 0.3), 0px 1px 3px 1px rgba(60, 64, 67, 0.15);\n",
              "      fill: #174EA6;\n",
              "    }\n",
              "\n",
              "    [theme=dark] .colab-df-convert {\n",
              "      background-color: #3B4455;\n",
              "      fill: #D2E3FC;\n",
              "    }\n",
              "\n",
              "    [theme=dark] .colab-df-convert:hover {\n",
              "      background-color: #434B5C;\n",
              "      box-shadow: 0px 1px 3px 1px rgba(0, 0, 0, 0.15);\n",
              "      filter: drop-shadow(0px 1px 2px rgba(0, 0, 0, 0.3));\n",
              "      fill: #FFFFFF;\n",
              "    }\n",
              "  </style>\n",
              "\n",
              "      <script>\n",
              "        const buttonEl =\n",
              "          document.querySelector('#df-8eb292cb-805e-4104-816e-915580600466 button.colab-df-convert');\n",
              "        buttonEl.style.display =\n",
              "          google.colab.kernel.accessAllowed ? 'block' : 'none';\n",
              "\n",
              "        async function convertToInteractive(key) {\n",
              "          const element = document.querySelector('#df-8eb292cb-805e-4104-816e-915580600466');\n",
              "          const dataTable =\n",
              "            await google.colab.kernel.invokeFunction('convertToInteractive',\n",
              "                                                     [key], {});\n",
              "          if (!dataTable) return;\n",
              "\n",
              "          const docLinkHtml = 'Like what you see? Visit the ' +\n",
              "            '<a target=\"_blank\" href=https://colab.research.google.com/notebooks/data_table.ipynb>data table notebook</a>'\n",
              "            + ' to learn more about interactive tables.';\n",
              "          element.innerHTML = '';\n",
              "          dataTable['output_type'] = 'display_data';\n",
              "          await google.colab.output.renderOutput(dataTable, element);\n",
              "          const docLink = document.createElement('div');\n",
              "          docLink.innerHTML = docLinkHtml;\n",
              "          element.appendChild(docLink);\n",
              "        }\n",
              "      </script>\n",
              "    </div>\n",
              "  </div>\n",
              "  "
            ]
          },
          "metadata": {},
          "execution_count": 102
        }
      ],
      "source": [
        "data.describe()"
      ]
    },
    {
      "cell_type": "markdown",
      "metadata": {
        "id": "dsu1-iHGA3Ub"
      },
      "source": [
        "Checking for any  null values"
      ]
    },
    {
      "cell_type": "code",
      "execution_count": null,
      "metadata": {
        "colab": {
          "base_uri": "https://localhost:8080/"
        },
        "id": "VlGCet0MkX6o",
        "outputId": "6ff38802-89ec-4e7b-fe2a-4cf5575eb7ea"
      },
      "outputs": [
        {
          "output_type": "execute_result",
          "data": {
            "text/plain": [
              "Airline            0\n",
              "Date_of_Journey    0\n",
              "Source             0\n",
              "Destination        0\n",
              "Route              1\n",
              "Dep_Time           0\n",
              "Arrival_Time       0\n",
              "Duration           0\n",
              "Total_Stops        1\n",
              "Additional_Info    0\n",
              "Price              0\n",
              "dtype: int64"
            ]
          },
          "metadata": {},
          "execution_count": 103
        }
      ],
      "source": [
        "data.isnull().sum()"
      ]
    },
    {
      "cell_type": "markdown",
      "metadata": {
        "id": "tB86Nz7PA7XK"
      },
      "source": [
        "Dropped null rows"
      ]
    },
    {
      "cell_type": "code",
      "execution_count": null,
      "metadata": {
        "id": "swJ_iAhGkcgi"
      },
      "outputs": [],
      "source": [
        "data = data.dropna()"
      ]
    },
    {
      "cell_type": "markdown",
      "metadata": {
        "id": "PSGk2_QOA-ZB"
      },
      "source": [
        "Checking data types of columns and looking for their correctness"
      ]
    },
    {
      "cell_type": "code",
      "execution_count": null,
      "metadata": {
        "colab": {
          "base_uri": "https://localhost:8080/"
        },
        "id": "4vWnlDmnkla5",
        "outputId": "5d9d9855-3cba-4e47-8bb5-42711a6268cd"
      },
      "outputs": [
        {
          "output_type": "execute_result",
          "data": {
            "text/plain": [
              "Airline            object\n",
              "Date_of_Journey    object\n",
              "Source             object\n",
              "Destination        object\n",
              "Route              object\n",
              "Dep_Time           object\n",
              "Arrival_Time       object\n",
              "Duration           object\n",
              "Total_Stops        object\n",
              "Additional_Info    object\n",
              "Price               int64\n",
              "dtype: object"
            ]
          },
          "metadata": {},
          "execution_count": 105
        }
      ],
      "source": [
        "data.dtypes"
      ]
    },
    {
      "cell_type": "markdown",
      "metadata": {
        "id": "68lmdC7KlBXo"
      },
      "source": [
        "[ ' Date of Journey' , ' Dep Time ' , ' Arrival Time ' ] are objects, so these columns needs to be converted to date and time."
      ]
    },
    {
      "cell_type": "code",
      "execution_count": null,
      "metadata": {
        "id": "dXfMetVdlare"
      },
      "outputs": [],
      "source": [
        "for col in ['Date_of_Journey','Dep_Time', 'Arrival_Time']:\n",
        "  data[col] = pd.to_datetime(data[col])"
      ]
    },
    {
      "cell_type": "code",
      "execution_count": null,
      "metadata": {
        "colab": {
          "base_uri": "https://localhost:8080/"
        },
        "id": "vWLi_r6dllkS",
        "outputId": "7f31cc8c-dacc-4cdf-f78b-67dbe4f4ee73"
      },
      "outputs": [
        {
          "output_type": "execute_result",
          "data": {
            "text/plain": [
              "Airline                    object\n",
              "Date_of_Journey    datetime64[ns]\n",
              "Source                     object\n",
              "Destination                object\n",
              "Route                      object\n",
              "Dep_Time           datetime64[ns]\n",
              "Arrival_Time       datetime64[ns]\n",
              "Duration                   object\n",
              "Total_Stops                object\n",
              "Additional_Info            object\n",
              "Price                       int64\n",
              "dtype: object"
            ]
          },
          "metadata": {},
          "execution_count": 107
        }
      ],
      "source": [
        "data.dtypes"
      ]
    },
    {
      "cell_type": "markdown",
      "metadata": {
        "id": "Hj7FJ_mPm4kH"
      },
      "source": [
        "Extracting date and month from Date_of_journey, as a result there would be no use of 'Date_of_journey' column so it will be dropped."
      ]
    },
    {
      "cell_type": "code",
      "execution_count": null,
      "metadata": {
        "id": "dnZskTDGnK_o"
      },
      "outputs": [],
      "source": [
        "data['journey_day'] = data['Date_of_Journey'].dt.day\n",
        "data['journey_month'] = data['Date_of_Journey'].dt.month"
      ]
    },
    {
      "cell_type": "code",
      "execution_count": null,
      "metadata": {
        "id": "frjFwj-2nR1X"
      },
      "outputs": [],
      "source": [
        "data = data.drop(columns = ['Date_of_Journey'], axis = 1)"
      ]
    },
    {
      "cell_type": "markdown",
      "metadata": {
        "id": "JJr5JncqoSbe"
      },
      "source": [
        "Similarly Extracting Hours and minutes from Departure Time and Arrival Time"
      ]
    },
    {
      "cell_type": "code",
      "execution_count": null,
      "metadata": {
        "id": "4utk91kXoRc6"
      },
      "outputs": [],
      "source": [
        "data['Dep_Time_hour'] = data['Dep_Time'].dt.hour\n",
        "data['Dep_Time_min'] = data['Dep_Time'].dt.minute"
      ]
    },
    {
      "cell_type": "code",
      "execution_count": null,
      "metadata": {
        "id": "y7AQ_XTCop5q"
      },
      "outputs": [],
      "source": [
        "data['Arrival_Time_hour'] = data['Arrival_Time'].dt.hour\n",
        "data['Arrival_Time_min'] = data['Arrival_Time'].dt.minute"
      ]
    },
    {
      "cell_type": "code",
      "execution_count": null,
      "metadata": {
        "colab": {
          "base_uri": "https://localhost:8080/",
          "height": 1000
        },
        "id": "DgxzGtJ4ox5J",
        "outputId": "0f7230ff-8a24-4835-a008-6183eb1a1ecb"
      },
      "outputs": [
        {
          "output_type": "execute_result",
          "data": {
            "text/plain": [
              "           Airline    Source Destination                  Route  \\\n",
              "0           IndiGo  Banglore   New Delhi              BLR → DEL   \n",
              "1        Air India   Kolkata    Banglore  CCU → IXR → BBI → BLR   \n",
              "2      Jet Airways     Delhi      Cochin  DEL → LKO → BOM → COK   \n",
              "3           IndiGo   Kolkata    Banglore        CCU → NAG → BLR   \n",
              "4           IndiGo  Banglore   New Delhi        BLR → NAG → DEL   \n",
              "...            ...       ...         ...                    ...   \n",
              "10678     Air Asia   Kolkata    Banglore              CCU → BLR   \n",
              "10679    Air India   Kolkata    Banglore              CCU → BLR   \n",
              "10680  Jet Airways  Banglore       Delhi              BLR → DEL   \n",
              "10681      Vistara  Banglore   New Delhi              BLR → DEL   \n",
              "10682    Air India     Delhi      Cochin  DEL → GOI → BOM → COK   \n",
              "\n",
              "                 Dep_Time        Arrival_Time Duration Total_Stops  \\\n",
              "0     2022-04-27 22:20:00 2022-03-22 01:10:00   2h 50m    non-stop   \n",
              "1     2022-04-27 05:50:00 2022-04-27 13:15:00   7h 25m     2 stops   \n",
              "2     2022-04-27 09:25:00 2022-06-10 04:25:00      19h     2 stops   \n",
              "3     2022-04-27 18:05:00 2022-04-27 23:30:00   5h 25m      1 stop   \n",
              "4     2022-04-27 16:50:00 2022-04-27 21:35:00   4h 45m      1 stop   \n",
              "...                   ...                 ...      ...         ...   \n",
              "10678 2022-04-27 19:55:00 2022-04-27 22:25:00   2h 30m    non-stop   \n",
              "10679 2022-04-27 20:45:00 2022-04-27 23:20:00   2h 35m    non-stop   \n",
              "10680 2022-04-27 08:20:00 2022-04-27 11:20:00       3h    non-stop   \n",
              "10681 2022-04-27 11:30:00 2022-04-27 14:10:00   2h 40m    non-stop   \n",
              "10682 2022-04-27 10:55:00 2022-04-27 19:15:00   8h 20m     2 stops   \n",
              "\n",
              "      Additional_Info  Price  journey_day  journey_month  Dep_Time_hour  \\\n",
              "0             No info   3897           24              3             22   \n",
              "1             No info   7662            5              1              5   \n",
              "2             No info  13882            6              9              9   \n",
              "3             No info   6218            5             12             18   \n",
              "4             No info  13302            3              1             16   \n",
              "...               ...    ...          ...            ...            ...   \n",
              "10678         No info   4107            4              9             19   \n",
              "10679         No info   4145           27              4             20   \n",
              "10680         No info   7229           27              4              8   \n",
              "10681         No info  12648            3              1             11   \n",
              "10682         No info  11753            5              9             10   \n",
              "\n",
              "       Dep_Time_min  Arrival_Time_hour  Arrival_Time_min  \n",
              "0                20                  1                10  \n",
              "1                50                 13                15  \n",
              "2                25                  4                25  \n",
              "3                 5                 23                30  \n",
              "4                50                 21                35  \n",
              "...             ...                ...               ...  \n",
              "10678            55                 22                25  \n",
              "10679            45                 23                20  \n",
              "10680            20                 11                20  \n",
              "10681            30                 14                10  \n",
              "10682            55                 19                15  \n",
              "\n",
              "[10682 rows x 16 columns]"
            ],
            "text/html": [
              "\n",
              "  <div id=\"df-610a730f-80c4-4473-973a-29f849571c5b\">\n",
              "    <div class=\"colab-df-container\">\n",
              "      <div>\n",
              "<style scoped>\n",
              "    .dataframe tbody tr th:only-of-type {\n",
              "        vertical-align: middle;\n",
              "    }\n",
              "\n",
              "    .dataframe tbody tr th {\n",
              "        vertical-align: top;\n",
              "    }\n",
              "\n",
              "    .dataframe thead th {\n",
              "        text-align: right;\n",
              "    }\n",
              "</style>\n",
              "<table border=\"1\" class=\"dataframe\">\n",
              "  <thead>\n",
              "    <tr style=\"text-align: right;\">\n",
              "      <th></th>\n",
              "      <th>Airline</th>\n",
              "      <th>Source</th>\n",
              "      <th>Destination</th>\n",
              "      <th>Route</th>\n",
              "      <th>Dep_Time</th>\n",
              "      <th>Arrival_Time</th>\n",
              "      <th>Duration</th>\n",
              "      <th>Total_Stops</th>\n",
              "      <th>Additional_Info</th>\n",
              "      <th>Price</th>\n",
              "      <th>journey_day</th>\n",
              "      <th>journey_month</th>\n",
              "      <th>Dep_Time_hour</th>\n",
              "      <th>Dep_Time_min</th>\n",
              "      <th>Arrival_Time_hour</th>\n",
              "      <th>Arrival_Time_min</th>\n",
              "    </tr>\n",
              "  </thead>\n",
              "  <tbody>\n",
              "    <tr>\n",
              "      <th>0</th>\n",
              "      <td>IndiGo</td>\n",
              "      <td>Banglore</td>\n",
              "      <td>New Delhi</td>\n",
              "      <td>BLR → DEL</td>\n",
              "      <td>2022-04-27 22:20:00</td>\n",
              "      <td>2022-03-22 01:10:00</td>\n",
              "      <td>2h 50m</td>\n",
              "      <td>non-stop</td>\n",
              "      <td>No info</td>\n",
              "      <td>3897</td>\n",
              "      <td>24</td>\n",
              "      <td>3</td>\n",
              "      <td>22</td>\n",
              "      <td>20</td>\n",
              "      <td>1</td>\n",
              "      <td>10</td>\n",
              "    </tr>\n",
              "    <tr>\n",
              "      <th>1</th>\n",
              "      <td>Air India</td>\n",
              "      <td>Kolkata</td>\n",
              "      <td>Banglore</td>\n",
              "      <td>CCU → IXR → BBI → BLR</td>\n",
              "      <td>2022-04-27 05:50:00</td>\n",
              "      <td>2022-04-27 13:15:00</td>\n",
              "      <td>7h 25m</td>\n",
              "      <td>2 stops</td>\n",
              "      <td>No info</td>\n",
              "      <td>7662</td>\n",
              "      <td>5</td>\n",
              "      <td>1</td>\n",
              "      <td>5</td>\n",
              "      <td>50</td>\n",
              "      <td>13</td>\n",
              "      <td>15</td>\n",
              "    </tr>\n",
              "    <tr>\n",
              "      <th>2</th>\n",
              "      <td>Jet Airways</td>\n",
              "      <td>Delhi</td>\n",
              "      <td>Cochin</td>\n",
              "      <td>DEL → LKO → BOM → COK</td>\n",
              "      <td>2022-04-27 09:25:00</td>\n",
              "      <td>2022-06-10 04:25:00</td>\n",
              "      <td>19h</td>\n",
              "      <td>2 stops</td>\n",
              "      <td>No info</td>\n",
              "      <td>13882</td>\n",
              "      <td>6</td>\n",
              "      <td>9</td>\n",
              "      <td>9</td>\n",
              "      <td>25</td>\n",
              "      <td>4</td>\n",
              "      <td>25</td>\n",
              "    </tr>\n",
              "    <tr>\n",
              "      <th>3</th>\n",
              "      <td>IndiGo</td>\n",
              "      <td>Kolkata</td>\n",
              "      <td>Banglore</td>\n",
              "      <td>CCU → NAG → BLR</td>\n",
              "      <td>2022-04-27 18:05:00</td>\n",
              "      <td>2022-04-27 23:30:00</td>\n",
              "      <td>5h 25m</td>\n",
              "      <td>1 stop</td>\n",
              "      <td>No info</td>\n",
              "      <td>6218</td>\n",
              "      <td>5</td>\n",
              "      <td>12</td>\n",
              "      <td>18</td>\n",
              "      <td>5</td>\n",
              "      <td>23</td>\n",
              "      <td>30</td>\n",
              "    </tr>\n",
              "    <tr>\n",
              "      <th>4</th>\n",
              "      <td>IndiGo</td>\n",
              "      <td>Banglore</td>\n",
              "      <td>New Delhi</td>\n",
              "      <td>BLR → NAG → DEL</td>\n",
              "      <td>2022-04-27 16:50:00</td>\n",
              "      <td>2022-04-27 21:35:00</td>\n",
              "      <td>4h 45m</td>\n",
              "      <td>1 stop</td>\n",
              "      <td>No info</td>\n",
              "      <td>13302</td>\n",
              "      <td>3</td>\n",
              "      <td>1</td>\n",
              "      <td>16</td>\n",
              "      <td>50</td>\n",
              "      <td>21</td>\n",
              "      <td>35</td>\n",
              "    </tr>\n",
              "    <tr>\n",
              "      <th>...</th>\n",
              "      <td>...</td>\n",
              "      <td>...</td>\n",
              "      <td>...</td>\n",
              "      <td>...</td>\n",
              "      <td>...</td>\n",
              "      <td>...</td>\n",
              "      <td>...</td>\n",
              "      <td>...</td>\n",
              "      <td>...</td>\n",
              "      <td>...</td>\n",
              "      <td>...</td>\n",
              "      <td>...</td>\n",
              "      <td>...</td>\n",
              "      <td>...</td>\n",
              "      <td>...</td>\n",
              "      <td>...</td>\n",
              "    </tr>\n",
              "    <tr>\n",
              "      <th>10678</th>\n",
              "      <td>Air Asia</td>\n",
              "      <td>Kolkata</td>\n",
              "      <td>Banglore</td>\n",
              "      <td>CCU → BLR</td>\n",
              "      <td>2022-04-27 19:55:00</td>\n",
              "      <td>2022-04-27 22:25:00</td>\n",
              "      <td>2h 30m</td>\n",
              "      <td>non-stop</td>\n",
              "      <td>No info</td>\n",
              "      <td>4107</td>\n",
              "      <td>4</td>\n",
              "      <td>9</td>\n",
              "      <td>19</td>\n",
              "      <td>55</td>\n",
              "      <td>22</td>\n",
              "      <td>25</td>\n",
              "    </tr>\n",
              "    <tr>\n",
              "      <th>10679</th>\n",
              "      <td>Air India</td>\n",
              "      <td>Kolkata</td>\n",
              "      <td>Banglore</td>\n",
              "      <td>CCU → BLR</td>\n",
              "      <td>2022-04-27 20:45:00</td>\n",
              "      <td>2022-04-27 23:20:00</td>\n",
              "      <td>2h 35m</td>\n",
              "      <td>non-stop</td>\n",
              "      <td>No info</td>\n",
              "      <td>4145</td>\n",
              "      <td>27</td>\n",
              "      <td>4</td>\n",
              "      <td>20</td>\n",
              "      <td>45</td>\n",
              "      <td>23</td>\n",
              "      <td>20</td>\n",
              "    </tr>\n",
              "    <tr>\n",
              "      <th>10680</th>\n",
              "      <td>Jet Airways</td>\n",
              "      <td>Banglore</td>\n",
              "      <td>Delhi</td>\n",
              "      <td>BLR → DEL</td>\n",
              "      <td>2022-04-27 08:20:00</td>\n",
              "      <td>2022-04-27 11:20:00</td>\n",
              "      <td>3h</td>\n",
              "      <td>non-stop</td>\n",
              "      <td>No info</td>\n",
              "      <td>7229</td>\n",
              "      <td>27</td>\n",
              "      <td>4</td>\n",
              "      <td>8</td>\n",
              "      <td>20</td>\n",
              "      <td>11</td>\n",
              "      <td>20</td>\n",
              "    </tr>\n",
              "    <tr>\n",
              "      <th>10681</th>\n",
              "      <td>Vistara</td>\n",
              "      <td>Banglore</td>\n",
              "      <td>New Delhi</td>\n",
              "      <td>BLR → DEL</td>\n",
              "      <td>2022-04-27 11:30:00</td>\n",
              "      <td>2022-04-27 14:10:00</td>\n",
              "      <td>2h 40m</td>\n",
              "      <td>non-stop</td>\n",
              "      <td>No info</td>\n",
              "      <td>12648</td>\n",
              "      <td>3</td>\n",
              "      <td>1</td>\n",
              "      <td>11</td>\n",
              "      <td>30</td>\n",
              "      <td>14</td>\n",
              "      <td>10</td>\n",
              "    </tr>\n",
              "    <tr>\n",
              "      <th>10682</th>\n",
              "      <td>Air India</td>\n",
              "      <td>Delhi</td>\n",
              "      <td>Cochin</td>\n",
              "      <td>DEL → GOI → BOM → COK</td>\n",
              "      <td>2022-04-27 10:55:00</td>\n",
              "      <td>2022-04-27 19:15:00</td>\n",
              "      <td>8h 20m</td>\n",
              "      <td>2 stops</td>\n",
              "      <td>No info</td>\n",
              "      <td>11753</td>\n",
              "      <td>5</td>\n",
              "      <td>9</td>\n",
              "      <td>10</td>\n",
              "      <td>55</td>\n",
              "      <td>19</td>\n",
              "      <td>15</td>\n",
              "    </tr>\n",
              "  </tbody>\n",
              "</table>\n",
              "<p>10682 rows × 16 columns</p>\n",
              "</div>\n",
              "      <button class=\"colab-df-convert\" onclick=\"convertToInteractive('df-610a730f-80c4-4473-973a-29f849571c5b')\"\n",
              "              title=\"Convert this dataframe to an interactive table.\"\n",
              "              style=\"display:none;\">\n",
              "        \n",
              "  <svg xmlns=\"http://www.w3.org/2000/svg\" height=\"24px\"viewBox=\"0 0 24 24\"\n",
              "       width=\"24px\">\n",
              "    <path d=\"M0 0h24v24H0V0z\" fill=\"none\"/>\n",
              "    <path d=\"M18.56 5.44l.94 2.06.94-2.06 2.06-.94-2.06-.94-.94-2.06-.94 2.06-2.06.94zm-11 1L8.5 8.5l.94-2.06 2.06-.94-2.06-.94L8.5 2.5l-.94 2.06-2.06.94zm10 10l.94 2.06.94-2.06 2.06-.94-2.06-.94-.94-2.06-.94 2.06-2.06.94z\"/><path d=\"M17.41 7.96l-1.37-1.37c-.4-.4-.92-.59-1.43-.59-.52 0-1.04.2-1.43.59L10.3 9.45l-7.72 7.72c-.78.78-.78 2.05 0 2.83L4 21.41c.39.39.9.59 1.41.59.51 0 1.02-.2 1.41-.59l7.78-7.78 2.81-2.81c.8-.78.8-2.07 0-2.86zM5.41 20L4 18.59l7.72-7.72 1.47 1.35L5.41 20z\"/>\n",
              "  </svg>\n",
              "      </button>\n",
              "      \n",
              "  <style>\n",
              "    .colab-df-container {\n",
              "      display:flex;\n",
              "      flex-wrap:wrap;\n",
              "      gap: 12px;\n",
              "    }\n",
              "\n",
              "    .colab-df-convert {\n",
              "      background-color: #E8F0FE;\n",
              "      border: none;\n",
              "      border-radius: 50%;\n",
              "      cursor: pointer;\n",
              "      display: none;\n",
              "      fill: #1967D2;\n",
              "      height: 32px;\n",
              "      padding: 0 0 0 0;\n",
              "      width: 32px;\n",
              "    }\n",
              "\n",
              "    .colab-df-convert:hover {\n",
              "      background-color: #E2EBFA;\n",
              "      box-shadow: 0px 1px 2px rgba(60, 64, 67, 0.3), 0px 1px 3px 1px rgba(60, 64, 67, 0.15);\n",
              "      fill: #174EA6;\n",
              "    }\n",
              "\n",
              "    [theme=dark] .colab-df-convert {\n",
              "      background-color: #3B4455;\n",
              "      fill: #D2E3FC;\n",
              "    }\n",
              "\n",
              "    [theme=dark] .colab-df-convert:hover {\n",
              "      background-color: #434B5C;\n",
              "      box-shadow: 0px 1px 3px 1px rgba(0, 0, 0, 0.15);\n",
              "      filter: drop-shadow(0px 1px 2px rgba(0, 0, 0, 0.3));\n",
              "      fill: #FFFFFF;\n",
              "    }\n",
              "  </style>\n",
              "\n",
              "      <script>\n",
              "        const buttonEl =\n",
              "          document.querySelector('#df-610a730f-80c4-4473-973a-29f849571c5b button.colab-df-convert');\n",
              "        buttonEl.style.display =\n",
              "          google.colab.kernel.accessAllowed ? 'block' : 'none';\n",
              "\n",
              "        async function convertToInteractive(key) {\n",
              "          const element = document.querySelector('#df-610a730f-80c4-4473-973a-29f849571c5b');\n",
              "          const dataTable =\n",
              "            await google.colab.kernel.invokeFunction('convertToInteractive',\n",
              "                                                     [key], {});\n",
              "          if (!dataTable) return;\n",
              "\n",
              "          const docLinkHtml = 'Like what you see? Visit the ' +\n",
              "            '<a target=\"_blank\" href=https://colab.research.google.com/notebooks/data_table.ipynb>data table notebook</a>'\n",
              "            + ' to learn more about interactive tables.';\n",
              "          element.innerHTML = '';\n",
              "          dataTable['output_type'] = 'display_data';\n",
              "          await google.colab.output.renderOutput(dataTable, element);\n",
              "          const docLink = document.createElement('div');\n",
              "          docLink.innerHTML = docLinkHtml;\n",
              "          element.appendChild(docLink);\n",
              "        }\n",
              "      </script>\n",
              "    </div>\n",
              "  </div>\n",
              "  "
            ]
          },
          "metadata": {},
          "execution_count": 112
        }
      ],
      "source": [
        "data"
      ]
    },
    {
      "cell_type": "code",
      "execution_count": null,
      "metadata": {
        "id": "DtWVYnGn7Kvy"
      },
      "outputs": [],
      "source": [
        "data = data.drop(columns = ['Dep_Time','Arrival_Time'], axis = 1)"
      ]
    },
    {
      "cell_type": "markdown",
      "metadata": {
        "id": "Z52cxpKe7ft5"
      },
      "source": [
        "Separate hours and minutes from duration"
      ]
    },
    {
      "cell_type": "code",
      "execution_count": null,
      "metadata": {
        "id": "dr4JTtMuECQW"
      },
      "outputs": [],
      "source": [
        "def duration_convertion(x):\n",
        "    if len(x.split()) == 2:\n",
        "        one = int(x.split()[0][:-1])\n",
        "        two = int(x.split()[1][:-1])\n",
        "        return one * 60 + two\n",
        "    else:\n",
        "        return int(x[:-1]) * 60"
      ]
    },
    {
      "cell_type": "code",
      "execution_count": null,
      "metadata": {
        "id": "o1XTgpsrEEja"
      },
      "outputs": [],
      "source": [
        "data[\"Duration\"] = data[\"Duration\"].apply(duration_convertion)"
      ]
    },
    {
      "cell_type": "code",
      "execution_count": null,
      "metadata": {
        "colab": {
          "base_uri": "https://localhost:8080/",
          "height": 1000
        },
        "id": "TVvucwz-75FW",
        "outputId": "0007ac20-b688-4c7a-d358-2cdedeaf5f9c"
      },
      "outputs": [
        {
          "output_type": "execute_result",
          "data": {
            "text/plain": [
              "           Airline    Source Destination                  Route  Duration  \\\n",
              "0           IndiGo  Banglore   New Delhi              BLR → DEL       170   \n",
              "1        Air India   Kolkata    Banglore  CCU → IXR → BBI → BLR       445   \n",
              "2      Jet Airways     Delhi      Cochin  DEL → LKO → BOM → COK      1140   \n",
              "3           IndiGo   Kolkata    Banglore        CCU → NAG → BLR       325   \n",
              "4           IndiGo  Banglore   New Delhi        BLR → NAG → DEL       285   \n",
              "...            ...       ...         ...                    ...       ...   \n",
              "10678     Air Asia   Kolkata    Banglore              CCU → BLR       150   \n",
              "10679    Air India   Kolkata    Banglore              CCU → BLR       155   \n",
              "10680  Jet Airways  Banglore       Delhi              BLR → DEL       180   \n",
              "10681      Vistara  Banglore   New Delhi              BLR → DEL       160   \n",
              "10682    Air India     Delhi      Cochin  DEL → GOI → BOM → COK       500   \n",
              "\n",
              "      Total_Stops Additional_Info  Price  journey_day  journey_month  \\\n",
              "0        non-stop         No info   3897           24              3   \n",
              "1         2 stops         No info   7662            5              1   \n",
              "2         2 stops         No info  13882            6              9   \n",
              "3          1 stop         No info   6218            5             12   \n",
              "4          1 stop         No info  13302            3              1   \n",
              "...           ...             ...    ...          ...            ...   \n",
              "10678    non-stop         No info   4107            4              9   \n",
              "10679    non-stop         No info   4145           27              4   \n",
              "10680    non-stop         No info   7229           27              4   \n",
              "10681    non-stop         No info  12648            3              1   \n",
              "10682     2 stops         No info  11753            5              9   \n",
              "\n",
              "       Dep_Time_hour  Dep_Time_min  Arrival_Time_hour  Arrival_Time_min  \n",
              "0                 22            20                  1                10  \n",
              "1                  5            50                 13                15  \n",
              "2                  9            25                  4                25  \n",
              "3                 18             5                 23                30  \n",
              "4                 16            50                 21                35  \n",
              "...              ...           ...                ...               ...  \n",
              "10678             19            55                 22                25  \n",
              "10679             20            45                 23                20  \n",
              "10680              8            20                 11                20  \n",
              "10681             11            30                 14                10  \n",
              "10682             10            55                 19                15  \n",
              "\n",
              "[10682 rows x 14 columns]"
            ],
            "text/html": [
              "\n",
              "  <div id=\"df-5b9cd07e-e5b2-40ed-96d0-9528c8435e04\">\n",
              "    <div class=\"colab-df-container\">\n",
              "      <div>\n",
              "<style scoped>\n",
              "    .dataframe tbody tr th:only-of-type {\n",
              "        vertical-align: middle;\n",
              "    }\n",
              "\n",
              "    .dataframe tbody tr th {\n",
              "        vertical-align: top;\n",
              "    }\n",
              "\n",
              "    .dataframe thead th {\n",
              "        text-align: right;\n",
              "    }\n",
              "</style>\n",
              "<table border=\"1\" class=\"dataframe\">\n",
              "  <thead>\n",
              "    <tr style=\"text-align: right;\">\n",
              "      <th></th>\n",
              "      <th>Airline</th>\n",
              "      <th>Source</th>\n",
              "      <th>Destination</th>\n",
              "      <th>Route</th>\n",
              "      <th>Duration</th>\n",
              "      <th>Total_Stops</th>\n",
              "      <th>Additional_Info</th>\n",
              "      <th>Price</th>\n",
              "      <th>journey_day</th>\n",
              "      <th>journey_month</th>\n",
              "      <th>Dep_Time_hour</th>\n",
              "      <th>Dep_Time_min</th>\n",
              "      <th>Arrival_Time_hour</th>\n",
              "      <th>Arrival_Time_min</th>\n",
              "    </tr>\n",
              "  </thead>\n",
              "  <tbody>\n",
              "    <tr>\n",
              "      <th>0</th>\n",
              "      <td>IndiGo</td>\n",
              "      <td>Banglore</td>\n",
              "      <td>New Delhi</td>\n",
              "      <td>BLR → DEL</td>\n",
              "      <td>170</td>\n",
              "      <td>non-stop</td>\n",
              "      <td>No info</td>\n",
              "      <td>3897</td>\n",
              "      <td>24</td>\n",
              "      <td>3</td>\n",
              "      <td>22</td>\n",
              "      <td>20</td>\n",
              "      <td>1</td>\n",
              "      <td>10</td>\n",
              "    </tr>\n",
              "    <tr>\n",
              "      <th>1</th>\n",
              "      <td>Air India</td>\n",
              "      <td>Kolkata</td>\n",
              "      <td>Banglore</td>\n",
              "      <td>CCU → IXR → BBI → BLR</td>\n",
              "      <td>445</td>\n",
              "      <td>2 stops</td>\n",
              "      <td>No info</td>\n",
              "      <td>7662</td>\n",
              "      <td>5</td>\n",
              "      <td>1</td>\n",
              "      <td>5</td>\n",
              "      <td>50</td>\n",
              "      <td>13</td>\n",
              "      <td>15</td>\n",
              "    </tr>\n",
              "    <tr>\n",
              "      <th>2</th>\n",
              "      <td>Jet Airways</td>\n",
              "      <td>Delhi</td>\n",
              "      <td>Cochin</td>\n",
              "      <td>DEL → LKO → BOM → COK</td>\n",
              "      <td>1140</td>\n",
              "      <td>2 stops</td>\n",
              "      <td>No info</td>\n",
              "      <td>13882</td>\n",
              "      <td>6</td>\n",
              "      <td>9</td>\n",
              "      <td>9</td>\n",
              "      <td>25</td>\n",
              "      <td>4</td>\n",
              "      <td>25</td>\n",
              "    </tr>\n",
              "    <tr>\n",
              "      <th>3</th>\n",
              "      <td>IndiGo</td>\n",
              "      <td>Kolkata</td>\n",
              "      <td>Banglore</td>\n",
              "      <td>CCU → NAG → BLR</td>\n",
              "      <td>325</td>\n",
              "      <td>1 stop</td>\n",
              "      <td>No info</td>\n",
              "      <td>6218</td>\n",
              "      <td>5</td>\n",
              "      <td>12</td>\n",
              "      <td>18</td>\n",
              "      <td>5</td>\n",
              "      <td>23</td>\n",
              "      <td>30</td>\n",
              "    </tr>\n",
              "    <tr>\n",
              "      <th>4</th>\n",
              "      <td>IndiGo</td>\n",
              "      <td>Banglore</td>\n",
              "      <td>New Delhi</td>\n",
              "      <td>BLR → NAG → DEL</td>\n",
              "      <td>285</td>\n",
              "      <td>1 stop</td>\n",
              "      <td>No info</td>\n",
              "      <td>13302</td>\n",
              "      <td>3</td>\n",
              "      <td>1</td>\n",
              "      <td>16</td>\n",
              "      <td>50</td>\n",
              "      <td>21</td>\n",
              "      <td>35</td>\n",
              "    </tr>\n",
              "    <tr>\n",
              "      <th>...</th>\n",
              "      <td>...</td>\n",
              "      <td>...</td>\n",
              "      <td>...</td>\n",
              "      <td>...</td>\n",
              "      <td>...</td>\n",
              "      <td>...</td>\n",
              "      <td>...</td>\n",
              "      <td>...</td>\n",
              "      <td>...</td>\n",
              "      <td>...</td>\n",
              "      <td>...</td>\n",
              "      <td>...</td>\n",
              "      <td>...</td>\n",
              "      <td>...</td>\n",
              "    </tr>\n",
              "    <tr>\n",
              "      <th>10678</th>\n",
              "      <td>Air Asia</td>\n",
              "      <td>Kolkata</td>\n",
              "      <td>Banglore</td>\n",
              "      <td>CCU → BLR</td>\n",
              "      <td>150</td>\n",
              "      <td>non-stop</td>\n",
              "      <td>No info</td>\n",
              "      <td>4107</td>\n",
              "      <td>4</td>\n",
              "      <td>9</td>\n",
              "      <td>19</td>\n",
              "      <td>55</td>\n",
              "      <td>22</td>\n",
              "      <td>25</td>\n",
              "    </tr>\n",
              "    <tr>\n",
              "      <th>10679</th>\n",
              "      <td>Air India</td>\n",
              "      <td>Kolkata</td>\n",
              "      <td>Banglore</td>\n",
              "      <td>CCU → BLR</td>\n",
              "      <td>155</td>\n",
              "      <td>non-stop</td>\n",
              "      <td>No info</td>\n",
              "      <td>4145</td>\n",
              "      <td>27</td>\n",
              "      <td>4</td>\n",
              "      <td>20</td>\n",
              "      <td>45</td>\n",
              "      <td>23</td>\n",
              "      <td>20</td>\n",
              "    </tr>\n",
              "    <tr>\n",
              "      <th>10680</th>\n",
              "      <td>Jet Airways</td>\n",
              "      <td>Banglore</td>\n",
              "      <td>Delhi</td>\n",
              "      <td>BLR → DEL</td>\n",
              "      <td>180</td>\n",
              "      <td>non-stop</td>\n",
              "      <td>No info</td>\n",
              "      <td>7229</td>\n",
              "      <td>27</td>\n",
              "      <td>4</td>\n",
              "      <td>8</td>\n",
              "      <td>20</td>\n",
              "      <td>11</td>\n",
              "      <td>20</td>\n",
              "    </tr>\n",
              "    <tr>\n",
              "      <th>10681</th>\n",
              "      <td>Vistara</td>\n",
              "      <td>Banglore</td>\n",
              "      <td>New Delhi</td>\n",
              "      <td>BLR → DEL</td>\n",
              "      <td>160</td>\n",
              "      <td>non-stop</td>\n",
              "      <td>No info</td>\n",
              "      <td>12648</td>\n",
              "      <td>3</td>\n",
              "      <td>1</td>\n",
              "      <td>11</td>\n",
              "      <td>30</td>\n",
              "      <td>14</td>\n",
              "      <td>10</td>\n",
              "    </tr>\n",
              "    <tr>\n",
              "      <th>10682</th>\n",
              "      <td>Air India</td>\n",
              "      <td>Delhi</td>\n",
              "      <td>Cochin</td>\n",
              "      <td>DEL → GOI → BOM → COK</td>\n",
              "      <td>500</td>\n",
              "      <td>2 stops</td>\n",
              "      <td>No info</td>\n",
              "      <td>11753</td>\n",
              "      <td>5</td>\n",
              "      <td>9</td>\n",
              "      <td>10</td>\n",
              "      <td>55</td>\n",
              "      <td>19</td>\n",
              "      <td>15</td>\n",
              "    </tr>\n",
              "  </tbody>\n",
              "</table>\n",
              "<p>10682 rows × 14 columns</p>\n",
              "</div>\n",
              "      <button class=\"colab-df-convert\" onclick=\"convertToInteractive('df-5b9cd07e-e5b2-40ed-96d0-9528c8435e04')\"\n",
              "              title=\"Convert this dataframe to an interactive table.\"\n",
              "              style=\"display:none;\">\n",
              "        \n",
              "  <svg xmlns=\"http://www.w3.org/2000/svg\" height=\"24px\"viewBox=\"0 0 24 24\"\n",
              "       width=\"24px\">\n",
              "    <path d=\"M0 0h24v24H0V0z\" fill=\"none\"/>\n",
              "    <path d=\"M18.56 5.44l.94 2.06.94-2.06 2.06-.94-2.06-.94-.94-2.06-.94 2.06-2.06.94zm-11 1L8.5 8.5l.94-2.06 2.06-.94-2.06-.94L8.5 2.5l-.94 2.06-2.06.94zm10 10l.94 2.06.94-2.06 2.06-.94-2.06-.94-.94-2.06-.94 2.06-2.06.94z\"/><path d=\"M17.41 7.96l-1.37-1.37c-.4-.4-.92-.59-1.43-.59-.52 0-1.04.2-1.43.59L10.3 9.45l-7.72 7.72c-.78.78-.78 2.05 0 2.83L4 21.41c.39.39.9.59 1.41.59.51 0 1.02-.2 1.41-.59l7.78-7.78 2.81-2.81c.8-.78.8-2.07 0-2.86zM5.41 20L4 18.59l7.72-7.72 1.47 1.35L5.41 20z\"/>\n",
              "  </svg>\n",
              "      </button>\n",
              "      \n",
              "  <style>\n",
              "    .colab-df-container {\n",
              "      display:flex;\n",
              "      flex-wrap:wrap;\n",
              "      gap: 12px;\n",
              "    }\n",
              "\n",
              "    .colab-df-convert {\n",
              "      background-color: #E8F0FE;\n",
              "      border: none;\n",
              "      border-radius: 50%;\n",
              "      cursor: pointer;\n",
              "      display: none;\n",
              "      fill: #1967D2;\n",
              "      height: 32px;\n",
              "      padding: 0 0 0 0;\n",
              "      width: 32px;\n",
              "    }\n",
              "\n",
              "    .colab-df-convert:hover {\n",
              "      background-color: #E2EBFA;\n",
              "      box-shadow: 0px 1px 2px rgba(60, 64, 67, 0.3), 0px 1px 3px 1px rgba(60, 64, 67, 0.15);\n",
              "      fill: #174EA6;\n",
              "    }\n",
              "\n",
              "    [theme=dark] .colab-df-convert {\n",
              "      background-color: #3B4455;\n",
              "      fill: #D2E3FC;\n",
              "    }\n",
              "\n",
              "    [theme=dark] .colab-df-convert:hover {\n",
              "      background-color: #434B5C;\n",
              "      box-shadow: 0px 1px 3px 1px rgba(0, 0, 0, 0.15);\n",
              "      filter: drop-shadow(0px 1px 2px rgba(0, 0, 0, 0.3));\n",
              "      fill: #FFFFFF;\n",
              "    }\n",
              "  </style>\n",
              "\n",
              "      <script>\n",
              "        const buttonEl =\n",
              "          document.querySelector('#df-5b9cd07e-e5b2-40ed-96d0-9528c8435e04 button.colab-df-convert');\n",
              "        buttonEl.style.display =\n",
              "          google.colab.kernel.accessAllowed ? 'block' : 'none';\n",
              "\n",
              "        async function convertToInteractive(key) {\n",
              "          const element = document.querySelector('#df-5b9cd07e-e5b2-40ed-96d0-9528c8435e04');\n",
              "          const dataTable =\n",
              "            await google.colab.kernel.invokeFunction('convertToInteractive',\n",
              "                                                     [key], {});\n",
              "          if (!dataTable) return;\n",
              "\n",
              "          const docLinkHtml = 'Like what you see? Visit the ' +\n",
              "            '<a target=\"_blank\" href=https://colab.research.google.com/notebooks/data_table.ipynb>data table notebook</a>'\n",
              "            + ' to learn more about interactive tables.';\n",
              "          element.innerHTML = '';\n",
              "          dataTable['output_type'] = 'display_data';\n",
              "          await google.colab.output.renderOutput(dataTable, element);\n",
              "          const docLink = document.createElement('div');\n",
              "          docLink.innerHTML = docLinkHtml;\n",
              "          element.appendChild(docLink);\n",
              "        }\n",
              "      </script>\n",
              "    </div>\n",
              "  </div>\n",
              "  "
            ]
          },
          "metadata": {},
          "execution_count": 116
        }
      ],
      "source": [
        "data"
      ]
    },
    {
      "cell_type": "code",
      "execution_count": null,
      "metadata": {
        "id": "4OWCTPg3GPBl"
      },
      "outputs": [],
      "source": [
        "data.reset_index(inplace = True)\n",
        "data.drop(\"index\",inplace = True, axis = 1)"
      ]
    },
    {
      "cell_type": "markdown",
      "metadata": {
        "id": "KiwkRNrfBpZU"
      },
      "source": [
        "Splitting the via column and removing all '->' from it and making each inserting each station in a separate column."
      ]
    },
    {
      "cell_type": "code",
      "execution_count": null,
      "metadata": {
        "id": "QbDJwl63JI_d"
      },
      "outputs": [],
      "source": [
        "via = []\n",
        "for i in range(len(data)):\n",
        "    via.append(data[\"Route\"][i].split(\"→\"))   # making a list of list of routes station so that each station in route can be inserted into a different column\n",
        "# via"
      ]
    },
    {
      "cell_type": "code",
      "execution_count": null,
      "metadata": {
        "id": "H7wlgAk2Jbh_"
      },
      "outputs": [],
      "source": [
        "lens = []\n",
        "for i in via:\n",
        "    lens.append((len(i) , i))  \n",
        "# max(lens)[0]   "
      ]
    },
    {
      "cell_type": "code",
      "execution_count": null,
      "metadata": {
        "id": "H10HQGtvJgCs"
      },
      "outputs": [],
      "source": [
        "for i in via:\n",
        "    while len(i) <= 5:\n",
        "        i.append(\"None\")"
      ]
    },
    {
      "cell_type": "markdown",
      "metadata": {
        "id": "_JRCWyIKEJeW"
      },
      "source": [
        "Inserting different station in separate columns"
      ]
    },
    {
      "cell_type": "code",
      "execution_count": null,
      "metadata": {
        "id": "Hlf0c8XBJlFu"
      },
      "outputs": [],
      "source": [
        "data['Route1'] = [row[0] for row in via]\n",
        "data['Route2'] = [row[1] for row in via]\n",
        "data['Route3'] = [row[2] for row in via]\n",
        "data['Route4'] = [row[3] for row in via]\n",
        "data['Route5'] = [row[4] for row in via]\n",
        "data['Route6'] = [row[5] for row in via]"
      ]
    },
    {
      "cell_type": "markdown",
      "metadata": {
        "id": "2KPA9NMxERH0"
      },
      "source": [
        "Now we don't neeed Route column"
      ]
    },
    {
      "cell_type": "code",
      "execution_count": null,
      "metadata": {
        "colab": {
          "base_uri": "https://localhost:8080/",
          "height": 522
        },
        "id": "61n9ae54KyFI",
        "outputId": "31a466f6-e77e-4438-e647-416df17c7a76"
      },
      "outputs": [
        {
          "output_type": "execute_result",
          "data": {
            "text/plain": [
              "           Airline    Source Destination  Duration Total_Stops  \\\n",
              "0           IndiGo  Banglore   New Delhi       170    non-stop   \n",
              "1        Air India   Kolkata    Banglore       445     2 stops   \n",
              "2      Jet Airways     Delhi      Cochin      1140     2 stops   \n",
              "3           IndiGo   Kolkata    Banglore       325      1 stop   \n",
              "4           IndiGo  Banglore   New Delhi       285      1 stop   \n",
              "...            ...       ...         ...       ...         ...   \n",
              "10677     Air Asia   Kolkata    Banglore       150    non-stop   \n",
              "10678    Air India   Kolkata    Banglore       155    non-stop   \n",
              "10679  Jet Airways  Banglore       Delhi       180    non-stop   \n",
              "10680      Vistara  Banglore   New Delhi       160    non-stop   \n",
              "10681    Air India     Delhi      Cochin       500     2 stops   \n",
              "\n",
              "      Additional_Info  Price  journey_day  journey_month  Dep_Time_hour  \\\n",
              "0             No info   3897           24              3             22   \n",
              "1             No info   7662            5              1              5   \n",
              "2             No info  13882            6              9              9   \n",
              "3             No info   6218            5             12             18   \n",
              "4             No info  13302            3              1             16   \n",
              "...               ...    ...          ...            ...            ...   \n",
              "10677         No info   4107            4              9             19   \n",
              "10678         No info   4145           27              4             20   \n",
              "10679         No info   7229           27              4              8   \n",
              "10680         No info  12648            3              1             11   \n",
              "10681         No info  11753            5              9             10   \n",
              "\n",
              "       Dep_Time_min  Arrival_Time_hour  Arrival_Time_min Route1 Route2 Route3  \\\n",
              "0                20                  1                10   BLR     DEL   None   \n",
              "1                50                 13                15   CCU    IXR    BBI    \n",
              "2                25                  4                25   DEL    LKO    BOM    \n",
              "3                 5                 23                30   CCU    NAG     BLR   \n",
              "4                50                 21                35   BLR    NAG     DEL   \n",
              "...             ...                ...               ...    ...    ...    ...   \n",
              "10677            55                 22                25   CCU     BLR   None   \n",
              "10678            45                 23                20   CCU     BLR   None   \n",
              "10679            20                 11                20   BLR     DEL   None   \n",
              "10680            30                 14                10   BLR     DEL   None   \n",
              "10681            55                 19                15   DEL    GOI    BOM    \n",
              "\n",
              "      Route4 Route5 Route6  \n",
              "0       None   None   None  \n",
              "1        BLR   None   None  \n",
              "2        COK   None   None  \n",
              "3       None   None   None  \n",
              "4       None   None   None  \n",
              "...      ...    ...    ...  \n",
              "10677   None   None   None  \n",
              "10678   None   None   None  \n",
              "10679   None   None   None  \n",
              "10680   None   None   None  \n",
              "10681    COK   None   None  \n",
              "\n",
              "[10682 rows x 19 columns]"
            ],
            "text/html": [
              "\n",
              "  <div id=\"df-c348ebba-6788-461a-ad9a-431b9204fbce\">\n",
              "    <div class=\"colab-df-container\">\n",
              "      <div>\n",
              "<style scoped>\n",
              "    .dataframe tbody tr th:only-of-type {\n",
              "        vertical-align: middle;\n",
              "    }\n",
              "\n",
              "    .dataframe tbody tr th {\n",
              "        vertical-align: top;\n",
              "    }\n",
              "\n",
              "    .dataframe thead th {\n",
              "        text-align: right;\n",
              "    }\n",
              "</style>\n",
              "<table border=\"1\" class=\"dataframe\">\n",
              "  <thead>\n",
              "    <tr style=\"text-align: right;\">\n",
              "      <th></th>\n",
              "      <th>Airline</th>\n",
              "      <th>Source</th>\n",
              "      <th>Destination</th>\n",
              "      <th>Duration</th>\n",
              "      <th>Total_Stops</th>\n",
              "      <th>Additional_Info</th>\n",
              "      <th>Price</th>\n",
              "      <th>journey_day</th>\n",
              "      <th>journey_month</th>\n",
              "      <th>Dep_Time_hour</th>\n",
              "      <th>Dep_Time_min</th>\n",
              "      <th>Arrival_Time_hour</th>\n",
              "      <th>Arrival_Time_min</th>\n",
              "      <th>Route1</th>\n",
              "      <th>Route2</th>\n",
              "      <th>Route3</th>\n",
              "      <th>Route4</th>\n",
              "      <th>Route5</th>\n",
              "      <th>Route6</th>\n",
              "    </tr>\n",
              "  </thead>\n",
              "  <tbody>\n",
              "    <tr>\n",
              "      <th>0</th>\n",
              "      <td>IndiGo</td>\n",
              "      <td>Banglore</td>\n",
              "      <td>New Delhi</td>\n",
              "      <td>170</td>\n",
              "      <td>non-stop</td>\n",
              "      <td>No info</td>\n",
              "      <td>3897</td>\n",
              "      <td>24</td>\n",
              "      <td>3</td>\n",
              "      <td>22</td>\n",
              "      <td>20</td>\n",
              "      <td>1</td>\n",
              "      <td>10</td>\n",
              "      <td>BLR</td>\n",
              "      <td>DEL</td>\n",
              "      <td>None</td>\n",
              "      <td>None</td>\n",
              "      <td>None</td>\n",
              "      <td>None</td>\n",
              "    </tr>\n",
              "    <tr>\n",
              "      <th>1</th>\n",
              "      <td>Air India</td>\n",
              "      <td>Kolkata</td>\n",
              "      <td>Banglore</td>\n",
              "      <td>445</td>\n",
              "      <td>2 stops</td>\n",
              "      <td>No info</td>\n",
              "      <td>7662</td>\n",
              "      <td>5</td>\n",
              "      <td>1</td>\n",
              "      <td>5</td>\n",
              "      <td>50</td>\n",
              "      <td>13</td>\n",
              "      <td>15</td>\n",
              "      <td>CCU</td>\n",
              "      <td>IXR</td>\n",
              "      <td>BBI</td>\n",
              "      <td>BLR</td>\n",
              "      <td>None</td>\n",
              "      <td>None</td>\n",
              "    </tr>\n",
              "    <tr>\n",
              "      <th>2</th>\n",
              "      <td>Jet Airways</td>\n",
              "      <td>Delhi</td>\n",
              "      <td>Cochin</td>\n",
              "      <td>1140</td>\n",
              "      <td>2 stops</td>\n",
              "      <td>No info</td>\n",
              "      <td>13882</td>\n",
              "      <td>6</td>\n",
              "      <td>9</td>\n",
              "      <td>9</td>\n",
              "      <td>25</td>\n",
              "      <td>4</td>\n",
              "      <td>25</td>\n",
              "      <td>DEL</td>\n",
              "      <td>LKO</td>\n",
              "      <td>BOM</td>\n",
              "      <td>COK</td>\n",
              "      <td>None</td>\n",
              "      <td>None</td>\n",
              "    </tr>\n",
              "    <tr>\n",
              "      <th>3</th>\n",
              "      <td>IndiGo</td>\n",
              "      <td>Kolkata</td>\n",
              "      <td>Banglore</td>\n",
              "      <td>325</td>\n",
              "      <td>1 stop</td>\n",
              "      <td>No info</td>\n",
              "      <td>6218</td>\n",
              "      <td>5</td>\n",
              "      <td>12</td>\n",
              "      <td>18</td>\n",
              "      <td>5</td>\n",
              "      <td>23</td>\n",
              "      <td>30</td>\n",
              "      <td>CCU</td>\n",
              "      <td>NAG</td>\n",
              "      <td>BLR</td>\n",
              "      <td>None</td>\n",
              "      <td>None</td>\n",
              "      <td>None</td>\n",
              "    </tr>\n",
              "    <tr>\n",
              "      <th>4</th>\n",
              "      <td>IndiGo</td>\n",
              "      <td>Banglore</td>\n",
              "      <td>New Delhi</td>\n",
              "      <td>285</td>\n",
              "      <td>1 stop</td>\n",
              "      <td>No info</td>\n",
              "      <td>13302</td>\n",
              "      <td>3</td>\n",
              "      <td>1</td>\n",
              "      <td>16</td>\n",
              "      <td>50</td>\n",
              "      <td>21</td>\n",
              "      <td>35</td>\n",
              "      <td>BLR</td>\n",
              "      <td>NAG</td>\n",
              "      <td>DEL</td>\n",
              "      <td>None</td>\n",
              "      <td>None</td>\n",
              "      <td>None</td>\n",
              "    </tr>\n",
              "    <tr>\n",
              "      <th>...</th>\n",
              "      <td>...</td>\n",
              "      <td>...</td>\n",
              "      <td>...</td>\n",
              "      <td>...</td>\n",
              "      <td>...</td>\n",
              "      <td>...</td>\n",
              "      <td>...</td>\n",
              "      <td>...</td>\n",
              "      <td>...</td>\n",
              "      <td>...</td>\n",
              "      <td>...</td>\n",
              "      <td>...</td>\n",
              "      <td>...</td>\n",
              "      <td>...</td>\n",
              "      <td>...</td>\n",
              "      <td>...</td>\n",
              "      <td>...</td>\n",
              "      <td>...</td>\n",
              "      <td>...</td>\n",
              "    </tr>\n",
              "    <tr>\n",
              "      <th>10677</th>\n",
              "      <td>Air Asia</td>\n",
              "      <td>Kolkata</td>\n",
              "      <td>Banglore</td>\n",
              "      <td>150</td>\n",
              "      <td>non-stop</td>\n",
              "      <td>No info</td>\n",
              "      <td>4107</td>\n",
              "      <td>4</td>\n",
              "      <td>9</td>\n",
              "      <td>19</td>\n",
              "      <td>55</td>\n",
              "      <td>22</td>\n",
              "      <td>25</td>\n",
              "      <td>CCU</td>\n",
              "      <td>BLR</td>\n",
              "      <td>None</td>\n",
              "      <td>None</td>\n",
              "      <td>None</td>\n",
              "      <td>None</td>\n",
              "    </tr>\n",
              "    <tr>\n",
              "      <th>10678</th>\n",
              "      <td>Air India</td>\n",
              "      <td>Kolkata</td>\n",
              "      <td>Banglore</td>\n",
              "      <td>155</td>\n",
              "      <td>non-stop</td>\n",
              "      <td>No info</td>\n",
              "      <td>4145</td>\n",
              "      <td>27</td>\n",
              "      <td>4</td>\n",
              "      <td>20</td>\n",
              "      <td>45</td>\n",
              "      <td>23</td>\n",
              "      <td>20</td>\n",
              "      <td>CCU</td>\n",
              "      <td>BLR</td>\n",
              "      <td>None</td>\n",
              "      <td>None</td>\n",
              "      <td>None</td>\n",
              "      <td>None</td>\n",
              "    </tr>\n",
              "    <tr>\n",
              "      <th>10679</th>\n",
              "      <td>Jet Airways</td>\n",
              "      <td>Banglore</td>\n",
              "      <td>Delhi</td>\n",
              "      <td>180</td>\n",
              "      <td>non-stop</td>\n",
              "      <td>No info</td>\n",
              "      <td>7229</td>\n",
              "      <td>27</td>\n",
              "      <td>4</td>\n",
              "      <td>8</td>\n",
              "      <td>20</td>\n",
              "      <td>11</td>\n",
              "      <td>20</td>\n",
              "      <td>BLR</td>\n",
              "      <td>DEL</td>\n",
              "      <td>None</td>\n",
              "      <td>None</td>\n",
              "      <td>None</td>\n",
              "      <td>None</td>\n",
              "    </tr>\n",
              "    <tr>\n",
              "      <th>10680</th>\n",
              "      <td>Vistara</td>\n",
              "      <td>Banglore</td>\n",
              "      <td>New Delhi</td>\n",
              "      <td>160</td>\n",
              "      <td>non-stop</td>\n",
              "      <td>No info</td>\n",
              "      <td>12648</td>\n",
              "      <td>3</td>\n",
              "      <td>1</td>\n",
              "      <td>11</td>\n",
              "      <td>30</td>\n",
              "      <td>14</td>\n",
              "      <td>10</td>\n",
              "      <td>BLR</td>\n",
              "      <td>DEL</td>\n",
              "      <td>None</td>\n",
              "      <td>None</td>\n",
              "      <td>None</td>\n",
              "      <td>None</td>\n",
              "    </tr>\n",
              "    <tr>\n",
              "      <th>10681</th>\n",
              "      <td>Air India</td>\n",
              "      <td>Delhi</td>\n",
              "      <td>Cochin</td>\n",
              "      <td>500</td>\n",
              "      <td>2 stops</td>\n",
              "      <td>No info</td>\n",
              "      <td>11753</td>\n",
              "      <td>5</td>\n",
              "      <td>9</td>\n",
              "      <td>10</td>\n",
              "      <td>55</td>\n",
              "      <td>19</td>\n",
              "      <td>15</td>\n",
              "      <td>DEL</td>\n",
              "      <td>GOI</td>\n",
              "      <td>BOM</td>\n",
              "      <td>COK</td>\n",
              "      <td>None</td>\n",
              "      <td>None</td>\n",
              "    </tr>\n",
              "  </tbody>\n",
              "</table>\n",
              "<p>10682 rows × 19 columns</p>\n",
              "</div>\n",
              "      <button class=\"colab-df-convert\" onclick=\"convertToInteractive('df-c348ebba-6788-461a-ad9a-431b9204fbce')\"\n",
              "              title=\"Convert this dataframe to an interactive table.\"\n",
              "              style=\"display:none;\">\n",
              "        \n",
              "  <svg xmlns=\"http://www.w3.org/2000/svg\" height=\"24px\"viewBox=\"0 0 24 24\"\n",
              "       width=\"24px\">\n",
              "    <path d=\"M0 0h24v24H0V0z\" fill=\"none\"/>\n",
              "    <path d=\"M18.56 5.44l.94 2.06.94-2.06 2.06-.94-2.06-.94-.94-2.06-.94 2.06-2.06.94zm-11 1L8.5 8.5l.94-2.06 2.06-.94-2.06-.94L8.5 2.5l-.94 2.06-2.06.94zm10 10l.94 2.06.94-2.06 2.06-.94-2.06-.94-.94-2.06-.94 2.06-2.06.94z\"/><path d=\"M17.41 7.96l-1.37-1.37c-.4-.4-.92-.59-1.43-.59-.52 0-1.04.2-1.43.59L10.3 9.45l-7.72 7.72c-.78.78-.78 2.05 0 2.83L4 21.41c.39.39.9.59 1.41.59.51 0 1.02-.2 1.41-.59l7.78-7.78 2.81-2.81c.8-.78.8-2.07 0-2.86zM5.41 20L4 18.59l7.72-7.72 1.47 1.35L5.41 20z\"/>\n",
              "  </svg>\n",
              "      </button>\n",
              "      \n",
              "  <style>\n",
              "    .colab-df-container {\n",
              "      display:flex;\n",
              "      flex-wrap:wrap;\n",
              "      gap: 12px;\n",
              "    }\n",
              "\n",
              "    .colab-df-convert {\n",
              "      background-color: #E8F0FE;\n",
              "      border: none;\n",
              "      border-radius: 50%;\n",
              "      cursor: pointer;\n",
              "      display: none;\n",
              "      fill: #1967D2;\n",
              "      height: 32px;\n",
              "      padding: 0 0 0 0;\n",
              "      width: 32px;\n",
              "    }\n",
              "\n",
              "    .colab-df-convert:hover {\n",
              "      background-color: #E2EBFA;\n",
              "      box-shadow: 0px 1px 2px rgba(60, 64, 67, 0.3), 0px 1px 3px 1px rgba(60, 64, 67, 0.15);\n",
              "      fill: #174EA6;\n",
              "    }\n",
              "\n",
              "    [theme=dark] .colab-df-convert {\n",
              "      background-color: #3B4455;\n",
              "      fill: #D2E3FC;\n",
              "    }\n",
              "\n",
              "    [theme=dark] .colab-df-convert:hover {\n",
              "      background-color: #434B5C;\n",
              "      box-shadow: 0px 1px 3px 1px rgba(0, 0, 0, 0.15);\n",
              "      filter: drop-shadow(0px 1px 2px rgba(0, 0, 0, 0.3));\n",
              "      fill: #FFFFFF;\n",
              "    }\n",
              "  </style>\n",
              "\n",
              "      <script>\n",
              "        const buttonEl =\n",
              "          document.querySelector('#df-c348ebba-6788-461a-ad9a-431b9204fbce button.colab-df-convert');\n",
              "        buttonEl.style.display =\n",
              "          google.colab.kernel.accessAllowed ? 'block' : 'none';\n",
              "\n",
              "        async function convertToInteractive(key) {\n",
              "          const element = document.querySelector('#df-c348ebba-6788-461a-ad9a-431b9204fbce');\n",
              "          const dataTable =\n",
              "            await google.colab.kernel.invokeFunction('convertToInteractive',\n",
              "                                                     [key], {});\n",
              "          if (!dataTable) return;\n",
              "\n",
              "          const docLinkHtml = 'Like what you see? Visit the ' +\n",
              "            '<a target=\"_blank\" href=https://colab.research.google.com/notebooks/data_table.ipynb>data table notebook</a>'\n",
              "            + ' to learn more about interactive tables.';\n",
              "          element.innerHTML = '';\n",
              "          dataTable['output_type'] = 'display_data';\n",
              "          await google.colab.output.renderOutput(dataTable, element);\n",
              "          const docLink = document.createElement('div');\n",
              "          docLink.innerHTML = docLinkHtml;\n",
              "          element.appendChild(docLink);\n",
              "        }\n",
              "      </script>\n",
              "    </div>\n",
              "  </div>\n",
              "  "
            ]
          },
          "metadata": {},
          "execution_count": 122
        }
      ],
      "source": [
        "data = data.drop(columns = ['Route'], axis = 1)\n",
        "data"
      ]
    },
    {
      "cell_type": "code",
      "execution_count": null,
      "metadata": {
        "colab": {
          "base_uri": "https://localhost:8080/"
        },
        "id": "T-ECsyghLB0I",
        "outputId": "6f8c35e2-1506-4ec8-b8a4-ef89761e74e2"
      },
      "outputs": [
        {
          "output_type": "execute_result",
          "data": {
            "text/plain": [
              "No info                         8344\n",
              "In-flight meal not included     1982\n",
              "No check-in baggage included     320\n",
              "1 Long layover                    19\n",
              "Change airports                    7\n",
              "Business class                     4\n",
              "No Info                            3\n",
              "1 Short layover                    1\n",
              "Red-eye flight                     1\n",
              "2 Long layover                     1\n",
              "Name: Additional_Info, dtype: int64"
            ]
          },
          "metadata": {},
          "execution_count": 123
        }
      ],
      "source": [
        "data['Additional_Info'].value_counts()"
      ]
    },
    {
      "cell_type": "code",
      "execution_count": null,
      "metadata": {
        "colab": {
          "base_uri": "https://localhost:8080/",
          "height": 522
        },
        "id": "z8vGQJYMLuuv",
        "outputId": "f42edb5e-5559-4644-9483-03c317d576a4"
      },
      "outputs": [
        {
          "output_type": "execute_result",
          "data": {
            "text/plain": [
              "           Airline    Source Destination  Duration Total_Stops  \\\n",
              "0           IndiGo  Banglore   New Delhi       170    non-stop   \n",
              "1        Air India   Kolkata    Banglore       445     2 stops   \n",
              "2      Jet Airways     Delhi      Cochin      1140     2 stops   \n",
              "3           IndiGo   Kolkata    Banglore       325      1 stop   \n",
              "4           IndiGo  Banglore   New Delhi       285      1 stop   \n",
              "...            ...       ...         ...       ...         ...   \n",
              "10677     Air Asia   Kolkata    Banglore       150    non-stop   \n",
              "10678    Air India   Kolkata    Banglore       155    non-stop   \n",
              "10679  Jet Airways  Banglore       Delhi       180    non-stop   \n",
              "10680      Vistara  Banglore   New Delhi       160    non-stop   \n",
              "10681    Air India     Delhi      Cochin       500     2 stops   \n",
              "\n",
              "      Additional_Info  Price  journey_day  journey_month  Dep_Time_hour  \\\n",
              "0             No info   3897           24              3             22   \n",
              "1             No info   7662            5              1              5   \n",
              "2             No info  13882            6              9              9   \n",
              "3             No info   6218            5             12             18   \n",
              "4             No info  13302            3              1             16   \n",
              "...               ...    ...          ...            ...            ...   \n",
              "10677         No info   4107            4              9             19   \n",
              "10678         No info   4145           27              4             20   \n",
              "10679         No info   7229           27              4              8   \n",
              "10680         No info  12648            3              1             11   \n",
              "10681         No info  11753            5              9             10   \n",
              "\n",
              "       Dep_Time_min  Arrival_Time_hour  Arrival_Time_min  Route1  Route2  \\\n",
              "0                20                  1                10       0      13   \n",
              "1                50                 13                15       2      25   \n",
              "2                25                  4                25       3      32   \n",
              "3                 5                 23                30       2      34   \n",
              "4                50                 21                35       0      34   \n",
              "...             ...                ...               ...     ...     ...   \n",
              "10677            55                 22                25       2       5   \n",
              "10678            45                 23                20       2       5   \n",
              "10679            20                 11                20       0      13   \n",
              "10680            30                 14                10       0      13   \n",
              "10681            55                 19                15       3      16   \n",
              "\n",
              "       Route3  Route4  Route5  Route6  \n",
              "0          29      13       5       1  \n",
              "1           1       3       5       1  \n",
              "2           4       5       5       1  \n",
              "3           3      13       5       1  \n",
              "4           8      13       5       1  \n",
              "...       ...     ...     ...     ...  \n",
              "10677      29      13       5       1  \n",
              "10678      29      13       5       1  \n",
              "10679      29      13       5       1  \n",
              "10680      29      13       5       1  \n",
              "10681       4       5       5       1  \n",
              "\n",
              "[10682 rows x 19 columns]"
            ],
            "text/html": [
              "\n",
              "  <div id=\"df-3e713203-70d5-4260-8165-001e3d915614\">\n",
              "    <div class=\"colab-df-container\">\n",
              "      <div>\n",
              "<style scoped>\n",
              "    .dataframe tbody tr th:only-of-type {\n",
              "        vertical-align: middle;\n",
              "    }\n",
              "\n",
              "    .dataframe tbody tr th {\n",
              "        vertical-align: top;\n",
              "    }\n",
              "\n",
              "    .dataframe thead th {\n",
              "        text-align: right;\n",
              "    }\n",
              "</style>\n",
              "<table border=\"1\" class=\"dataframe\">\n",
              "  <thead>\n",
              "    <tr style=\"text-align: right;\">\n",
              "      <th></th>\n",
              "      <th>Airline</th>\n",
              "      <th>Source</th>\n",
              "      <th>Destination</th>\n",
              "      <th>Duration</th>\n",
              "      <th>Total_Stops</th>\n",
              "      <th>Additional_Info</th>\n",
              "      <th>Price</th>\n",
              "      <th>journey_day</th>\n",
              "      <th>journey_month</th>\n",
              "      <th>Dep_Time_hour</th>\n",
              "      <th>Dep_Time_min</th>\n",
              "      <th>Arrival_Time_hour</th>\n",
              "      <th>Arrival_Time_min</th>\n",
              "      <th>Route1</th>\n",
              "      <th>Route2</th>\n",
              "      <th>Route3</th>\n",
              "      <th>Route4</th>\n",
              "      <th>Route5</th>\n",
              "      <th>Route6</th>\n",
              "    </tr>\n",
              "  </thead>\n",
              "  <tbody>\n",
              "    <tr>\n",
              "      <th>0</th>\n",
              "      <td>IndiGo</td>\n",
              "      <td>Banglore</td>\n",
              "      <td>New Delhi</td>\n",
              "      <td>170</td>\n",
              "      <td>non-stop</td>\n",
              "      <td>No info</td>\n",
              "      <td>3897</td>\n",
              "      <td>24</td>\n",
              "      <td>3</td>\n",
              "      <td>22</td>\n",
              "      <td>20</td>\n",
              "      <td>1</td>\n",
              "      <td>10</td>\n",
              "      <td>0</td>\n",
              "      <td>13</td>\n",
              "      <td>29</td>\n",
              "      <td>13</td>\n",
              "      <td>5</td>\n",
              "      <td>1</td>\n",
              "    </tr>\n",
              "    <tr>\n",
              "      <th>1</th>\n",
              "      <td>Air India</td>\n",
              "      <td>Kolkata</td>\n",
              "      <td>Banglore</td>\n",
              "      <td>445</td>\n",
              "      <td>2 stops</td>\n",
              "      <td>No info</td>\n",
              "      <td>7662</td>\n",
              "      <td>5</td>\n",
              "      <td>1</td>\n",
              "      <td>5</td>\n",
              "      <td>50</td>\n",
              "      <td>13</td>\n",
              "      <td>15</td>\n",
              "      <td>2</td>\n",
              "      <td>25</td>\n",
              "      <td>1</td>\n",
              "      <td>3</td>\n",
              "      <td>5</td>\n",
              "      <td>1</td>\n",
              "    </tr>\n",
              "    <tr>\n",
              "      <th>2</th>\n",
              "      <td>Jet Airways</td>\n",
              "      <td>Delhi</td>\n",
              "      <td>Cochin</td>\n",
              "      <td>1140</td>\n",
              "      <td>2 stops</td>\n",
              "      <td>No info</td>\n",
              "      <td>13882</td>\n",
              "      <td>6</td>\n",
              "      <td>9</td>\n",
              "      <td>9</td>\n",
              "      <td>25</td>\n",
              "      <td>4</td>\n",
              "      <td>25</td>\n",
              "      <td>3</td>\n",
              "      <td>32</td>\n",
              "      <td>4</td>\n",
              "      <td>5</td>\n",
              "      <td>5</td>\n",
              "      <td>1</td>\n",
              "    </tr>\n",
              "    <tr>\n",
              "      <th>3</th>\n",
              "      <td>IndiGo</td>\n",
              "      <td>Kolkata</td>\n",
              "      <td>Banglore</td>\n",
              "      <td>325</td>\n",
              "      <td>1 stop</td>\n",
              "      <td>No info</td>\n",
              "      <td>6218</td>\n",
              "      <td>5</td>\n",
              "      <td>12</td>\n",
              "      <td>18</td>\n",
              "      <td>5</td>\n",
              "      <td>23</td>\n",
              "      <td>30</td>\n",
              "      <td>2</td>\n",
              "      <td>34</td>\n",
              "      <td>3</td>\n",
              "      <td>13</td>\n",
              "      <td>5</td>\n",
              "      <td>1</td>\n",
              "    </tr>\n",
              "    <tr>\n",
              "      <th>4</th>\n",
              "      <td>IndiGo</td>\n",
              "      <td>Banglore</td>\n",
              "      <td>New Delhi</td>\n",
              "      <td>285</td>\n",
              "      <td>1 stop</td>\n",
              "      <td>No info</td>\n",
              "      <td>13302</td>\n",
              "      <td>3</td>\n",
              "      <td>1</td>\n",
              "      <td>16</td>\n",
              "      <td>50</td>\n",
              "      <td>21</td>\n",
              "      <td>35</td>\n",
              "      <td>0</td>\n",
              "      <td>34</td>\n",
              "      <td>8</td>\n",
              "      <td>13</td>\n",
              "      <td>5</td>\n",
              "      <td>1</td>\n",
              "    </tr>\n",
              "    <tr>\n",
              "      <th>...</th>\n",
              "      <td>...</td>\n",
              "      <td>...</td>\n",
              "      <td>...</td>\n",
              "      <td>...</td>\n",
              "      <td>...</td>\n",
              "      <td>...</td>\n",
              "      <td>...</td>\n",
              "      <td>...</td>\n",
              "      <td>...</td>\n",
              "      <td>...</td>\n",
              "      <td>...</td>\n",
              "      <td>...</td>\n",
              "      <td>...</td>\n",
              "      <td>...</td>\n",
              "      <td>...</td>\n",
              "      <td>...</td>\n",
              "      <td>...</td>\n",
              "      <td>...</td>\n",
              "      <td>...</td>\n",
              "    </tr>\n",
              "    <tr>\n",
              "      <th>10677</th>\n",
              "      <td>Air Asia</td>\n",
              "      <td>Kolkata</td>\n",
              "      <td>Banglore</td>\n",
              "      <td>150</td>\n",
              "      <td>non-stop</td>\n",
              "      <td>No info</td>\n",
              "      <td>4107</td>\n",
              "      <td>4</td>\n",
              "      <td>9</td>\n",
              "      <td>19</td>\n",
              "      <td>55</td>\n",
              "      <td>22</td>\n",
              "      <td>25</td>\n",
              "      <td>2</td>\n",
              "      <td>5</td>\n",
              "      <td>29</td>\n",
              "      <td>13</td>\n",
              "      <td>5</td>\n",
              "      <td>1</td>\n",
              "    </tr>\n",
              "    <tr>\n",
              "      <th>10678</th>\n",
              "      <td>Air India</td>\n",
              "      <td>Kolkata</td>\n",
              "      <td>Banglore</td>\n",
              "      <td>155</td>\n",
              "      <td>non-stop</td>\n",
              "      <td>No info</td>\n",
              "      <td>4145</td>\n",
              "      <td>27</td>\n",
              "      <td>4</td>\n",
              "      <td>20</td>\n",
              "      <td>45</td>\n",
              "      <td>23</td>\n",
              "      <td>20</td>\n",
              "      <td>2</td>\n",
              "      <td>5</td>\n",
              "      <td>29</td>\n",
              "      <td>13</td>\n",
              "      <td>5</td>\n",
              "      <td>1</td>\n",
              "    </tr>\n",
              "    <tr>\n",
              "      <th>10679</th>\n",
              "      <td>Jet Airways</td>\n",
              "      <td>Banglore</td>\n",
              "      <td>Delhi</td>\n",
              "      <td>180</td>\n",
              "      <td>non-stop</td>\n",
              "      <td>No info</td>\n",
              "      <td>7229</td>\n",
              "      <td>27</td>\n",
              "      <td>4</td>\n",
              "      <td>8</td>\n",
              "      <td>20</td>\n",
              "      <td>11</td>\n",
              "      <td>20</td>\n",
              "      <td>0</td>\n",
              "      <td>13</td>\n",
              "      <td>29</td>\n",
              "      <td>13</td>\n",
              "      <td>5</td>\n",
              "      <td>1</td>\n",
              "    </tr>\n",
              "    <tr>\n",
              "      <th>10680</th>\n",
              "      <td>Vistara</td>\n",
              "      <td>Banglore</td>\n",
              "      <td>New Delhi</td>\n",
              "      <td>160</td>\n",
              "      <td>non-stop</td>\n",
              "      <td>No info</td>\n",
              "      <td>12648</td>\n",
              "      <td>3</td>\n",
              "      <td>1</td>\n",
              "      <td>11</td>\n",
              "      <td>30</td>\n",
              "      <td>14</td>\n",
              "      <td>10</td>\n",
              "      <td>0</td>\n",
              "      <td>13</td>\n",
              "      <td>29</td>\n",
              "      <td>13</td>\n",
              "      <td>5</td>\n",
              "      <td>1</td>\n",
              "    </tr>\n",
              "    <tr>\n",
              "      <th>10681</th>\n",
              "      <td>Air India</td>\n",
              "      <td>Delhi</td>\n",
              "      <td>Cochin</td>\n",
              "      <td>500</td>\n",
              "      <td>2 stops</td>\n",
              "      <td>No info</td>\n",
              "      <td>11753</td>\n",
              "      <td>5</td>\n",
              "      <td>9</td>\n",
              "      <td>10</td>\n",
              "      <td>55</td>\n",
              "      <td>19</td>\n",
              "      <td>15</td>\n",
              "      <td>3</td>\n",
              "      <td>16</td>\n",
              "      <td>4</td>\n",
              "      <td>5</td>\n",
              "      <td>5</td>\n",
              "      <td>1</td>\n",
              "    </tr>\n",
              "  </tbody>\n",
              "</table>\n",
              "<p>10682 rows × 19 columns</p>\n",
              "</div>\n",
              "      <button class=\"colab-df-convert\" onclick=\"convertToInteractive('df-3e713203-70d5-4260-8165-001e3d915614')\"\n",
              "              title=\"Convert this dataframe to an interactive table.\"\n",
              "              style=\"display:none;\">\n",
              "        \n",
              "  <svg xmlns=\"http://www.w3.org/2000/svg\" height=\"24px\"viewBox=\"0 0 24 24\"\n",
              "       width=\"24px\">\n",
              "    <path d=\"M0 0h24v24H0V0z\" fill=\"none\"/>\n",
              "    <path d=\"M18.56 5.44l.94 2.06.94-2.06 2.06-.94-2.06-.94-.94-2.06-.94 2.06-2.06.94zm-11 1L8.5 8.5l.94-2.06 2.06-.94-2.06-.94L8.5 2.5l-.94 2.06-2.06.94zm10 10l.94 2.06.94-2.06 2.06-.94-2.06-.94-.94-2.06-.94 2.06-2.06.94z\"/><path d=\"M17.41 7.96l-1.37-1.37c-.4-.4-.92-.59-1.43-.59-.52 0-1.04.2-1.43.59L10.3 9.45l-7.72 7.72c-.78.78-.78 2.05 0 2.83L4 21.41c.39.39.9.59 1.41.59.51 0 1.02-.2 1.41-.59l7.78-7.78 2.81-2.81c.8-.78.8-2.07 0-2.86zM5.41 20L4 18.59l7.72-7.72 1.47 1.35L5.41 20z\"/>\n",
              "  </svg>\n",
              "      </button>\n",
              "      \n",
              "  <style>\n",
              "    .colab-df-container {\n",
              "      display:flex;\n",
              "      flex-wrap:wrap;\n",
              "      gap: 12px;\n",
              "    }\n",
              "\n",
              "    .colab-df-convert {\n",
              "      background-color: #E8F0FE;\n",
              "      border: none;\n",
              "      border-radius: 50%;\n",
              "      cursor: pointer;\n",
              "      display: none;\n",
              "      fill: #1967D2;\n",
              "      height: 32px;\n",
              "      padding: 0 0 0 0;\n",
              "      width: 32px;\n",
              "    }\n",
              "\n",
              "    .colab-df-convert:hover {\n",
              "      background-color: #E2EBFA;\n",
              "      box-shadow: 0px 1px 2px rgba(60, 64, 67, 0.3), 0px 1px 3px 1px rgba(60, 64, 67, 0.15);\n",
              "      fill: #174EA6;\n",
              "    }\n",
              "\n",
              "    [theme=dark] .colab-df-convert {\n",
              "      background-color: #3B4455;\n",
              "      fill: #D2E3FC;\n",
              "    }\n",
              "\n",
              "    [theme=dark] .colab-df-convert:hover {\n",
              "      background-color: #434B5C;\n",
              "      box-shadow: 0px 1px 3px 1px rgba(0, 0, 0, 0.15);\n",
              "      filter: drop-shadow(0px 1px 2px rgba(0, 0, 0, 0.3));\n",
              "      fill: #FFFFFF;\n",
              "    }\n",
              "  </style>\n",
              "\n",
              "      <script>\n",
              "        const buttonEl =\n",
              "          document.querySelector('#df-3e713203-70d5-4260-8165-001e3d915614 button.colab-df-convert');\n",
              "        buttonEl.style.display =\n",
              "          google.colab.kernel.accessAllowed ? 'block' : 'none';\n",
              "\n",
              "        async function convertToInteractive(key) {\n",
              "          const element = document.querySelector('#df-3e713203-70d5-4260-8165-001e3d915614');\n",
              "          const dataTable =\n",
              "            await google.colab.kernel.invokeFunction('convertToInteractive',\n",
              "                                                     [key], {});\n",
              "          if (!dataTable) return;\n",
              "\n",
              "          const docLinkHtml = 'Like what you see? Visit the ' +\n",
              "            '<a target=\"_blank\" href=https://colab.research.google.com/notebooks/data_table.ipynb>data table notebook</a>'\n",
              "            + ' to learn more about interactive tables.';\n",
              "          element.innerHTML = '';\n",
              "          dataTable['output_type'] = 'display_data';\n",
              "          await google.colab.output.renderOutput(dataTable, element);\n",
              "          const docLink = document.createElement('div');\n",
              "          docLink.innerHTML = docLinkHtml;\n",
              "          element.appendChild(docLink);\n",
              "        }\n",
              "      </script>\n",
              "    </div>\n",
              "  </div>\n",
              "  "
            ]
          },
          "metadata": {},
          "execution_count": 124
        }
      ],
      "source": [
        "route_columns = ['Route1','Route2','Route3','Route4','Route5','Route6']\n",
        "for route in route_columns:\n",
        "  data[route] = LabelEncoder().fit_transform(data[route])\n",
        "data"
      ]
    },
    {
      "cell_type": "code",
      "execution_count": null,
      "metadata": {
        "colab": {
          "base_uri": "https://localhost:8080/"
        },
        "id": "V7r6j0D5M1Lg",
        "outputId": "8054e661-73d8-416d-8b91-30bedd03988e"
      },
      "outputs": [
        {
          "output_type": "execute_result",
          "data": {
            "text/plain": [
              "1 stop      5625\n",
              "non-stop    3491\n",
              "2 stops     1520\n",
              "3 stops       45\n",
              "4 stops        1\n",
              "Name: Total_Stops, dtype: int64"
            ]
          },
          "metadata": {},
          "execution_count": 125
        }
      ],
      "source": [
        "data['Total_Stops'].value_counts()"
      ]
    },
    {
      "cell_type": "markdown",
      "metadata": {
        "id": "rzhdCMPoEXRV"
      },
      "source": [
        "Encoding Total_stops column"
      ]
    },
    {
      "cell_type": "code",
      "execution_count": null,
      "metadata": {
        "colab": {
          "base_uri": "https://localhost:8080/",
          "height": 522
        },
        "id": "hQ58s2FBMiVr",
        "outputId": "a29283b2-cbfc-4dd2-b26f-1d6c41e42bf4"
      },
      "outputs": [
        {
          "output_type": "execute_result",
          "data": {
            "text/plain": [
              "           Airline    Source Destination  Duration Total_Stops  \\\n",
              "0           IndiGo  Banglore   New Delhi       170           0   \n",
              "1        Air India   Kolkata    Banglore       445           2   \n",
              "2      Jet Airways     Delhi      Cochin      1140           2   \n",
              "3           IndiGo   Kolkata    Banglore       325           1   \n",
              "4           IndiGo  Banglore   New Delhi       285           1   \n",
              "...            ...       ...         ...       ...         ...   \n",
              "10677     Air Asia   Kolkata    Banglore       150           0   \n",
              "10678    Air India   Kolkata    Banglore       155           0   \n",
              "10679  Jet Airways  Banglore       Delhi       180           0   \n",
              "10680      Vistara  Banglore   New Delhi       160           0   \n",
              "10681    Air India     Delhi      Cochin       500           2   \n",
              "\n",
              "      Additional_Info  Price  journey_day  journey_month  Dep_Time_hour  \\\n",
              "0             No info   3897           24              3             22   \n",
              "1             No info   7662            5              1              5   \n",
              "2             No info  13882            6              9              9   \n",
              "3             No info   6218            5             12             18   \n",
              "4             No info  13302            3              1             16   \n",
              "...               ...    ...          ...            ...            ...   \n",
              "10677         No info   4107            4              9             19   \n",
              "10678         No info   4145           27              4             20   \n",
              "10679         No info   7229           27              4              8   \n",
              "10680         No info  12648            3              1             11   \n",
              "10681         No info  11753            5              9             10   \n",
              "\n",
              "       Dep_Time_min  Arrival_Time_hour  Arrival_Time_min  Route1  Route2  \\\n",
              "0                20                  1                10       0      13   \n",
              "1                50                 13                15       2      25   \n",
              "2                25                  4                25       3      32   \n",
              "3                 5                 23                30       2      34   \n",
              "4                50                 21                35       0      34   \n",
              "...             ...                ...               ...     ...     ...   \n",
              "10677            55                 22                25       2       5   \n",
              "10678            45                 23                20       2       5   \n",
              "10679            20                 11                20       0      13   \n",
              "10680            30                 14                10       0      13   \n",
              "10681            55                 19                15       3      16   \n",
              "\n",
              "       Route3  Route4  Route5  Route6  \n",
              "0          29      13       5       1  \n",
              "1           1       3       5       1  \n",
              "2           4       5       5       1  \n",
              "3           3      13       5       1  \n",
              "4           8      13       5       1  \n",
              "...       ...     ...     ...     ...  \n",
              "10677      29      13       5       1  \n",
              "10678      29      13       5       1  \n",
              "10679      29      13       5       1  \n",
              "10680      29      13       5       1  \n",
              "10681       4       5       5       1  \n",
              "\n",
              "[10682 rows x 19 columns]"
            ],
            "text/html": [
              "\n",
              "  <div id=\"df-f989cc8a-bcc8-45b8-8567-1a241718e54a\">\n",
              "    <div class=\"colab-df-container\">\n",
              "      <div>\n",
              "<style scoped>\n",
              "    .dataframe tbody tr th:only-of-type {\n",
              "        vertical-align: middle;\n",
              "    }\n",
              "\n",
              "    .dataframe tbody tr th {\n",
              "        vertical-align: top;\n",
              "    }\n",
              "\n",
              "    .dataframe thead th {\n",
              "        text-align: right;\n",
              "    }\n",
              "</style>\n",
              "<table border=\"1\" class=\"dataframe\">\n",
              "  <thead>\n",
              "    <tr style=\"text-align: right;\">\n",
              "      <th></th>\n",
              "      <th>Airline</th>\n",
              "      <th>Source</th>\n",
              "      <th>Destination</th>\n",
              "      <th>Duration</th>\n",
              "      <th>Total_Stops</th>\n",
              "      <th>Additional_Info</th>\n",
              "      <th>Price</th>\n",
              "      <th>journey_day</th>\n",
              "      <th>journey_month</th>\n",
              "      <th>Dep_Time_hour</th>\n",
              "      <th>Dep_Time_min</th>\n",
              "      <th>Arrival_Time_hour</th>\n",
              "      <th>Arrival_Time_min</th>\n",
              "      <th>Route1</th>\n",
              "      <th>Route2</th>\n",
              "      <th>Route3</th>\n",
              "      <th>Route4</th>\n",
              "      <th>Route5</th>\n",
              "      <th>Route6</th>\n",
              "    </tr>\n",
              "  </thead>\n",
              "  <tbody>\n",
              "    <tr>\n",
              "      <th>0</th>\n",
              "      <td>IndiGo</td>\n",
              "      <td>Banglore</td>\n",
              "      <td>New Delhi</td>\n",
              "      <td>170</td>\n",
              "      <td>0</td>\n",
              "      <td>No info</td>\n",
              "      <td>3897</td>\n",
              "      <td>24</td>\n",
              "      <td>3</td>\n",
              "      <td>22</td>\n",
              "      <td>20</td>\n",
              "      <td>1</td>\n",
              "      <td>10</td>\n",
              "      <td>0</td>\n",
              "      <td>13</td>\n",
              "      <td>29</td>\n",
              "      <td>13</td>\n",
              "      <td>5</td>\n",
              "      <td>1</td>\n",
              "    </tr>\n",
              "    <tr>\n",
              "      <th>1</th>\n",
              "      <td>Air India</td>\n",
              "      <td>Kolkata</td>\n",
              "      <td>Banglore</td>\n",
              "      <td>445</td>\n",
              "      <td>2</td>\n",
              "      <td>No info</td>\n",
              "      <td>7662</td>\n",
              "      <td>5</td>\n",
              "      <td>1</td>\n",
              "      <td>5</td>\n",
              "      <td>50</td>\n",
              "      <td>13</td>\n",
              "      <td>15</td>\n",
              "      <td>2</td>\n",
              "      <td>25</td>\n",
              "      <td>1</td>\n",
              "      <td>3</td>\n",
              "      <td>5</td>\n",
              "      <td>1</td>\n",
              "    </tr>\n",
              "    <tr>\n",
              "      <th>2</th>\n",
              "      <td>Jet Airways</td>\n",
              "      <td>Delhi</td>\n",
              "      <td>Cochin</td>\n",
              "      <td>1140</td>\n",
              "      <td>2</td>\n",
              "      <td>No info</td>\n",
              "      <td>13882</td>\n",
              "      <td>6</td>\n",
              "      <td>9</td>\n",
              "      <td>9</td>\n",
              "      <td>25</td>\n",
              "      <td>4</td>\n",
              "      <td>25</td>\n",
              "      <td>3</td>\n",
              "      <td>32</td>\n",
              "      <td>4</td>\n",
              "      <td>5</td>\n",
              "      <td>5</td>\n",
              "      <td>1</td>\n",
              "    </tr>\n",
              "    <tr>\n",
              "      <th>3</th>\n",
              "      <td>IndiGo</td>\n",
              "      <td>Kolkata</td>\n",
              "      <td>Banglore</td>\n",
              "      <td>325</td>\n",
              "      <td>1</td>\n",
              "      <td>No info</td>\n",
              "      <td>6218</td>\n",
              "      <td>5</td>\n",
              "      <td>12</td>\n",
              "      <td>18</td>\n",
              "      <td>5</td>\n",
              "      <td>23</td>\n",
              "      <td>30</td>\n",
              "      <td>2</td>\n",
              "      <td>34</td>\n",
              "      <td>3</td>\n",
              "      <td>13</td>\n",
              "      <td>5</td>\n",
              "      <td>1</td>\n",
              "    </tr>\n",
              "    <tr>\n",
              "      <th>4</th>\n",
              "      <td>IndiGo</td>\n",
              "      <td>Banglore</td>\n",
              "      <td>New Delhi</td>\n",
              "      <td>285</td>\n",
              "      <td>1</td>\n",
              "      <td>No info</td>\n",
              "      <td>13302</td>\n",
              "      <td>3</td>\n",
              "      <td>1</td>\n",
              "      <td>16</td>\n",
              "      <td>50</td>\n",
              "      <td>21</td>\n",
              "      <td>35</td>\n",
              "      <td>0</td>\n",
              "      <td>34</td>\n",
              "      <td>8</td>\n",
              "      <td>13</td>\n",
              "      <td>5</td>\n",
              "      <td>1</td>\n",
              "    </tr>\n",
              "    <tr>\n",
              "      <th>...</th>\n",
              "      <td>...</td>\n",
              "      <td>...</td>\n",
              "      <td>...</td>\n",
              "      <td>...</td>\n",
              "      <td>...</td>\n",
              "      <td>...</td>\n",
              "      <td>...</td>\n",
              "      <td>...</td>\n",
              "      <td>...</td>\n",
              "      <td>...</td>\n",
              "      <td>...</td>\n",
              "      <td>...</td>\n",
              "      <td>...</td>\n",
              "      <td>...</td>\n",
              "      <td>...</td>\n",
              "      <td>...</td>\n",
              "      <td>...</td>\n",
              "      <td>...</td>\n",
              "      <td>...</td>\n",
              "    </tr>\n",
              "    <tr>\n",
              "      <th>10677</th>\n",
              "      <td>Air Asia</td>\n",
              "      <td>Kolkata</td>\n",
              "      <td>Banglore</td>\n",
              "      <td>150</td>\n",
              "      <td>0</td>\n",
              "      <td>No info</td>\n",
              "      <td>4107</td>\n",
              "      <td>4</td>\n",
              "      <td>9</td>\n",
              "      <td>19</td>\n",
              "      <td>55</td>\n",
              "      <td>22</td>\n",
              "      <td>25</td>\n",
              "      <td>2</td>\n",
              "      <td>5</td>\n",
              "      <td>29</td>\n",
              "      <td>13</td>\n",
              "      <td>5</td>\n",
              "      <td>1</td>\n",
              "    </tr>\n",
              "    <tr>\n",
              "      <th>10678</th>\n",
              "      <td>Air India</td>\n",
              "      <td>Kolkata</td>\n",
              "      <td>Banglore</td>\n",
              "      <td>155</td>\n",
              "      <td>0</td>\n",
              "      <td>No info</td>\n",
              "      <td>4145</td>\n",
              "      <td>27</td>\n",
              "      <td>4</td>\n",
              "      <td>20</td>\n",
              "      <td>45</td>\n",
              "      <td>23</td>\n",
              "      <td>20</td>\n",
              "      <td>2</td>\n",
              "      <td>5</td>\n",
              "      <td>29</td>\n",
              "      <td>13</td>\n",
              "      <td>5</td>\n",
              "      <td>1</td>\n",
              "    </tr>\n",
              "    <tr>\n",
              "      <th>10679</th>\n",
              "      <td>Jet Airways</td>\n",
              "      <td>Banglore</td>\n",
              "      <td>Delhi</td>\n",
              "      <td>180</td>\n",
              "      <td>0</td>\n",
              "      <td>No info</td>\n",
              "      <td>7229</td>\n",
              "      <td>27</td>\n",
              "      <td>4</td>\n",
              "      <td>8</td>\n",
              "      <td>20</td>\n",
              "      <td>11</td>\n",
              "      <td>20</td>\n",
              "      <td>0</td>\n",
              "      <td>13</td>\n",
              "      <td>29</td>\n",
              "      <td>13</td>\n",
              "      <td>5</td>\n",
              "      <td>1</td>\n",
              "    </tr>\n",
              "    <tr>\n",
              "      <th>10680</th>\n",
              "      <td>Vistara</td>\n",
              "      <td>Banglore</td>\n",
              "      <td>New Delhi</td>\n",
              "      <td>160</td>\n",
              "      <td>0</td>\n",
              "      <td>No info</td>\n",
              "      <td>12648</td>\n",
              "      <td>3</td>\n",
              "      <td>1</td>\n",
              "      <td>11</td>\n",
              "      <td>30</td>\n",
              "      <td>14</td>\n",
              "      <td>10</td>\n",
              "      <td>0</td>\n",
              "      <td>13</td>\n",
              "      <td>29</td>\n",
              "      <td>13</td>\n",
              "      <td>5</td>\n",
              "      <td>1</td>\n",
              "    </tr>\n",
              "    <tr>\n",
              "      <th>10681</th>\n",
              "      <td>Air India</td>\n",
              "      <td>Delhi</td>\n",
              "      <td>Cochin</td>\n",
              "      <td>500</td>\n",
              "      <td>2</td>\n",
              "      <td>No info</td>\n",
              "      <td>11753</td>\n",
              "      <td>5</td>\n",
              "      <td>9</td>\n",
              "      <td>10</td>\n",
              "      <td>55</td>\n",
              "      <td>19</td>\n",
              "      <td>15</td>\n",
              "      <td>3</td>\n",
              "      <td>16</td>\n",
              "      <td>4</td>\n",
              "      <td>5</td>\n",
              "      <td>5</td>\n",
              "      <td>1</td>\n",
              "    </tr>\n",
              "  </tbody>\n",
              "</table>\n",
              "<p>10682 rows × 19 columns</p>\n",
              "</div>\n",
              "      <button class=\"colab-df-convert\" onclick=\"convertToInteractive('df-f989cc8a-bcc8-45b8-8567-1a241718e54a')\"\n",
              "              title=\"Convert this dataframe to an interactive table.\"\n",
              "              style=\"display:none;\">\n",
              "        \n",
              "  <svg xmlns=\"http://www.w3.org/2000/svg\" height=\"24px\"viewBox=\"0 0 24 24\"\n",
              "       width=\"24px\">\n",
              "    <path d=\"M0 0h24v24H0V0z\" fill=\"none\"/>\n",
              "    <path d=\"M18.56 5.44l.94 2.06.94-2.06 2.06-.94-2.06-.94-.94-2.06-.94 2.06-2.06.94zm-11 1L8.5 8.5l.94-2.06 2.06-.94-2.06-.94L8.5 2.5l-.94 2.06-2.06.94zm10 10l.94 2.06.94-2.06 2.06-.94-2.06-.94-.94-2.06-.94 2.06-2.06.94z\"/><path d=\"M17.41 7.96l-1.37-1.37c-.4-.4-.92-.59-1.43-.59-.52 0-1.04.2-1.43.59L10.3 9.45l-7.72 7.72c-.78.78-.78 2.05 0 2.83L4 21.41c.39.39.9.59 1.41.59.51 0 1.02-.2 1.41-.59l7.78-7.78 2.81-2.81c.8-.78.8-2.07 0-2.86zM5.41 20L4 18.59l7.72-7.72 1.47 1.35L5.41 20z\"/>\n",
              "  </svg>\n",
              "      </button>\n",
              "      \n",
              "  <style>\n",
              "    .colab-df-container {\n",
              "      display:flex;\n",
              "      flex-wrap:wrap;\n",
              "      gap: 12px;\n",
              "    }\n",
              "\n",
              "    .colab-df-convert {\n",
              "      background-color: #E8F0FE;\n",
              "      border: none;\n",
              "      border-radius: 50%;\n",
              "      cursor: pointer;\n",
              "      display: none;\n",
              "      fill: #1967D2;\n",
              "      height: 32px;\n",
              "      padding: 0 0 0 0;\n",
              "      width: 32px;\n",
              "    }\n",
              "\n",
              "    .colab-df-convert:hover {\n",
              "      background-color: #E2EBFA;\n",
              "      box-shadow: 0px 1px 2px rgba(60, 64, 67, 0.3), 0px 1px 3px 1px rgba(60, 64, 67, 0.15);\n",
              "      fill: #174EA6;\n",
              "    }\n",
              "\n",
              "    [theme=dark] .colab-df-convert {\n",
              "      background-color: #3B4455;\n",
              "      fill: #D2E3FC;\n",
              "    }\n",
              "\n",
              "    [theme=dark] .colab-df-convert:hover {\n",
              "      background-color: #434B5C;\n",
              "      box-shadow: 0px 1px 3px 1px rgba(0, 0, 0, 0.15);\n",
              "      filter: drop-shadow(0px 1px 2px rgba(0, 0, 0, 0.3));\n",
              "      fill: #FFFFFF;\n",
              "    }\n",
              "  </style>\n",
              "\n",
              "      <script>\n",
              "        const buttonEl =\n",
              "          document.querySelector('#df-f989cc8a-bcc8-45b8-8567-1a241718e54a button.colab-df-convert');\n",
              "        buttonEl.style.display =\n",
              "          google.colab.kernel.accessAllowed ? 'block' : 'none';\n",
              "\n",
              "        async function convertToInteractive(key) {\n",
              "          const element = document.querySelector('#df-f989cc8a-bcc8-45b8-8567-1a241718e54a');\n",
              "          const dataTable =\n",
              "            await google.colab.kernel.invokeFunction('convertToInteractive',\n",
              "                                                     [key], {});\n",
              "          if (!dataTable) return;\n",
              "\n",
              "          const docLinkHtml = 'Like what you see? Visit the ' +\n",
              "            '<a target=\"_blank\" href=https://colab.research.google.com/notebooks/data_table.ipynb>data table notebook</a>'\n",
              "            + ' to learn more about interactive tables.';\n",
              "          element.innerHTML = '';\n",
              "          dataTable['output_type'] = 'display_data';\n",
              "          await google.colab.output.renderOutput(dataTable, element);\n",
              "          const docLink = document.createElement('div');\n",
              "          docLink.innerHTML = docLinkHtml;\n",
              "          element.appendChild(docLink);\n",
              "        }\n",
              "      </script>\n",
              "    </div>\n",
              "  </div>\n",
              "  "
            ]
          },
          "metadata": {},
          "execution_count": 126
        }
      ],
      "source": [
        "for stop in range(len(data)):\n",
        "  if(data['Total_Stops'][stop] == 'non-stop'):\n",
        "    data['Total_Stops'][stop] = 0\n",
        "  elif(data['Total_Stops'][stop] == '1 stop'):\n",
        "    data['Total_Stops'][stop] = 1\n",
        "  elif(data['Total_Stops'][stop] == '2 stops'):\n",
        "    data['Total_Stops'][stop] = 2\n",
        "  elif(data['Total_Stops'][stop] == '3 stops'):\n",
        "    data['Total_Stops'][stop] = 3\n",
        "  elif(data['Total_Stops'][stop] == '4 stops'):\n",
        "    data['Total_Stops'][stop] = 4\n",
        "data"
      ]
    },
    {
      "cell_type": "markdown",
      "metadata": {
        "id": "VV8RL2yURR9s"
      },
      "source": [
        "Since it is obvious that Source and the Route1 are to be same, so we Route1 column is dropped"
      ]
    },
    {
      "cell_type": "code",
      "execution_count": null,
      "metadata": {
        "id": "EcV16ytxRa6x"
      },
      "outputs": [],
      "source": [
        "data = data.drop(columns = ['Route1'], axis = 1)"
      ]
    },
    {
      "cell_type": "markdown",
      "metadata": {
        "id": "GRMcpyx6Emtp"
      },
      "source": [
        "Getting dummies for the categorical columns"
      ]
    },
    {
      "cell_type": "code",
      "execution_count": null,
      "metadata": {
        "id": "IRp0b7dPdOod"
      },
      "outputs": [],
      "source": [
        "data = pd.get_dummies(data , columns = [\"Airline\" , \"Source\" , \"Destination\" , \"Additional_Info\"] , \n",
        "                      prefix = [\"Airline\" , \"Source\" , \"Destination\" , \"Additional_Info\"] , drop_first = True)"
      ]
    },
    {
      "cell_type": "code",
      "execution_count": null,
      "metadata": {
        "colab": {
          "base_uri": "https://localhost:8080/"
        },
        "id": "aVwwqe_LdWfu",
        "outputId": "8524f03a-2d5c-44bf-9219-4edeb3937de1"
      },
      "outputs": [
        {
          "output_type": "execute_result",
          "data": {
            "text/plain": [
              "Index(['Duration', 'Total_Stops', 'Price', 'journey_day', 'journey_month',\n",
              "       'Dep_Time_hour', 'Dep_Time_min', 'Arrival_Time_hour',\n",
              "       'Arrival_Time_min', 'Route2', 'Route3', 'Route4', 'Route5', 'Route6',\n",
              "       'Airline_Air India', 'Airline_GoAir', 'Airline_IndiGo',\n",
              "       'Airline_Jet Airways', 'Airline_Jet Airways Business',\n",
              "       'Airline_Multiple carriers',\n",
              "       'Airline_Multiple carriers Premium economy', 'Airline_SpiceJet',\n",
              "       'Airline_Trujet', 'Airline_Vistara', 'Airline_Vistara Premium economy',\n",
              "       'Source_Chennai', 'Source_Delhi', 'Source_Kolkata', 'Source_Mumbai',\n",
              "       'Destination_Cochin', 'Destination_Delhi', 'Destination_Hyderabad',\n",
              "       'Destination_Kolkata', 'Destination_New Delhi',\n",
              "       'Additional_Info_1 Short layover', 'Additional_Info_2 Long layover',\n",
              "       'Additional_Info_Business class', 'Additional_Info_Change airports',\n",
              "       'Additional_Info_In-flight meal not included',\n",
              "       'Additional_Info_No Info',\n",
              "       'Additional_Info_No check-in baggage included',\n",
              "       'Additional_Info_No info', 'Additional_Info_Red-eye flight'],\n",
              "      dtype='object')"
            ]
          },
          "metadata": {},
          "execution_count": 129
        }
      ],
      "source": [
        "data.columns"
      ]
    },
    {
      "cell_type": "code",
      "execution_count": null,
      "metadata": {
        "id": "z_t5kUgXeFti"
      },
      "outputs": [],
      "source": [
        "data['Total_Stops'] = data['Total_Stops'].astype(int)"
      ]
    },
    {
      "cell_type": "code",
      "execution_count": null,
      "metadata": {
        "colab": {
          "base_uri": "https://localhost:8080/"
        },
        "id": "1llGtIz4ehGl",
        "outputId": "3d7a17de-ff73-4dd9-f565-4d6d494f2c60"
      },
      "outputs": [
        {
          "output_type": "execute_result",
          "data": {
            "text/plain": [
              "Duration                                        int64\n",
              "Total_Stops                                     int64\n",
              "Price                                           int64\n",
              "journey_day                                     int64\n",
              "journey_month                                   int64\n",
              "Dep_Time_hour                                   int64\n",
              "Dep_Time_min                                    int64\n",
              "Arrival_Time_hour                               int64\n",
              "Arrival_Time_min                                int64\n",
              "Route2                                          int64\n",
              "Route3                                          int64\n",
              "Route4                                          int64\n",
              "Route5                                          int64\n",
              "Route6                                          int64\n",
              "Airline_Air India                               uint8\n",
              "Airline_GoAir                                   uint8\n",
              "Airline_IndiGo                                  uint8\n",
              "Airline_Jet Airways                             uint8\n",
              "Airline_Jet Airways Business                    uint8\n",
              "Airline_Multiple carriers                       uint8\n",
              "Airline_Multiple carriers Premium economy       uint8\n",
              "Airline_SpiceJet                                uint8\n",
              "Airline_Trujet                                  uint8\n",
              "Airline_Vistara                                 uint8\n",
              "Airline_Vistara Premium economy                 uint8\n",
              "Source_Chennai                                  uint8\n",
              "Source_Delhi                                    uint8\n",
              "Source_Kolkata                                  uint8\n",
              "Source_Mumbai                                   uint8\n",
              "Destination_Cochin                              uint8\n",
              "Destination_Delhi                               uint8\n",
              "Destination_Hyderabad                           uint8\n",
              "Destination_Kolkata                             uint8\n",
              "Destination_New Delhi                           uint8\n",
              "Additional_Info_1 Short layover                 uint8\n",
              "Additional_Info_2 Long layover                  uint8\n",
              "Additional_Info_Business class                  uint8\n",
              "Additional_Info_Change airports                 uint8\n",
              "Additional_Info_In-flight meal not included     uint8\n",
              "Additional_Info_No Info                         uint8\n",
              "Additional_Info_No check-in baggage included    uint8\n",
              "Additional_Info_No info                         uint8\n",
              "Additional_Info_Red-eye flight                  uint8\n",
              "dtype: object"
            ]
          },
          "metadata": {},
          "execution_count": 131
        }
      ],
      "source": [
        "data.dtypes"
      ]
    },
    {
      "cell_type": "code",
      "execution_count": null,
      "metadata": {
        "id": "Fg8QMk5tjycc"
      },
      "outputs": [],
      "source": [
        "continuous_columns = ['Duration','Total_Stops','journey_day','journey_month','Dep_Time_hour','Dep_Time_min','Arrival_Time_hour','Arrival_Time_min']\n",
        "data[continuous_columns] = StandardScaler().fit_transform(data[continuous_columns])"
      ]
    },
    {
      "cell_type": "code",
      "execution_count": null,
      "metadata": {
        "colab": {
          "base_uri": "https://localhost:8080/",
          "height": 522
        },
        "id": "ZYTIz9TKkoJb",
        "outputId": "ac8eba64-d604-4c6a-d942-3a61c9005960"
      },
      "outputs": [
        {
          "output_type": "execute_result",
          "data": {
            "text/plain": [
              "       Duration  Total_Stops  Price  journey_day  journey_month  \\\n",
              "0     -0.931601    -1.220666   3897     1.285536      -0.848450   \n",
              "1     -0.390028     1.741432   7662    -0.872724      -1.517909   \n",
              "2      0.978676     1.741432  13882    -0.759131       1.159928   \n",
              "3     -0.626351     0.260383   6218    -0.872724       2.164117   \n",
              "4     -0.705125     0.260383  13302    -1.099909      -1.517909   \n",
              "...         ...          ...    ...          ...            ...   \n",
              "10677 -0.970988    -1.220666   4107    -0.986316       1.159928   \n",
              "10678 -0.961141    -1.220666   4145     1.626314      -0.513720   \n",
              "10679 -0.911908    -1.220666   7229     1.626314      -0.513720   \n",
              "10680 -0.951295    -1.220666  12648    -1.099909      -1.517909   \n",
              "10681 -0.281713     1.741432  11753    -0.872724       1.159928   \n",
              "\n",
              "       Dep_Time_hour  Dep_Time_min  Arrival_Time_hour  Arrival_Time_min  \\\n",
              "0           1.654154     -0.234950          -1.800436         -0.890014   \n",
              "1          -1.303113      1.363607          -0.050909         -0.587094   \n",
              "2          -0.607286      0.031476          -1.363054          0.018745   \n",
              "3           0.958326     -1.034229           1.407030          0.321664   \n",
              "4           0.610412      1.363607           1.115442          0.624584   \n",
              "...              ...           ...                ...               ...   \n",
              "10677       1.132283      1.630034           1.261236          0.018745   \n",
              "10678       1.306240      1.097181           1.407030         -0.284175   \n",
              "10679      -0.781243     -0.234950          -0.342497         -0.284175   \n",
              "10680      -0.259372      0.297903           0.094885         -0.890014   \n",
              "10681      -0.433329      1.630034           0.823854         -0.587094   \n",
              "\n",
              "       Route2  ...  Destination_New Delhi  Additional_Info_1 Short layover  \\\n",
              "0          13  ...                      1                                0   \n",
              "1          25  ...                      0                                0   \n",
              "2          32  ...                      0                                0   \n",
              "3          34  ...                      0                                0   \n",
              "4          34  ...                      1                                0   \n",
              "...       ...  ...                    ...                              ...   \n",
              "10677       5  ...                      0                                0   \n",
              "10678       5  ...                      0                                0   \n",
              "10679      13  ...                      0                                0   \n",
              "10680      13  ...                      1                                0   \n",
              "10681      16  ...                      0                                0   \n",
              "\n",
              "       Additional_Info_2 Long layover  Additional_Info_Business class  \\\n",
              "0                                   0                               0   \n",
              "1                                   0                               0   \n",
              "2                                   0                               0   \n",
              "3                                   0                               0   \n",
              "4                                   0                               0   \n",
              "...                               ...                             ...   \n",
              "10677                               0                               0   \n",
              "10678                               0                               0   \n",
              "10679                               0                               0   \n",
              "10680                               0                               0   \n",
              "10681                               0                               0   \n",
              "\n",
              "       Additional_Info_Change airports  \\\n",
              "0                                    0   \n",
              "1                                    0   \n",
              "2                                    0   \n",
              "3                                    0   \n",
              "4                                    0   \n",
              "...                                ...   \n",
              "10677                                0   \n",
              "10678                                0   \n",
              "10679                                0   \n",
              "10680                                0   \n",
              "10681                                0   \n",
              "\n",
              "       Additional_Info_In-flight meal not included  Additional_Info_No Info  \\\n",
              "0                                                0                        0   \n",
              "1                                                0                        0   \n",
              "2                                                0                        0   \n",
              "3                                                0                        0   \n",
              "4                                                0                        0   \n",
              "...                                            ...                      ...   \n",
              "10677                                            0                        0   \n",
              "10678                                            0                        0   \n",
              "10679                                            0                        0   \n",
              "10680                                            0                        0   \n",
              "10681                                            0                        0   \n",
              "\n",
              "       Additional_Info_No check-in baggage included  Additional_Info_No info  \\\n",
              "0                                                 0                        1   \n",
              "1                                                 0                        1   \n",
              "2                                                 0                        1   \n",
              "3                                                 0                        1   \n",
              "4                                                 0                        1   \n",
              "...                                             ...                      ...   \n",
              "10677                                             0                        1   \n",
              "10678                                             0                        1   \n",
              "10679                                             0                        1   \n",
              "10680                                             0                        1   \n",
              "10681                                             0                        1   \n",
              "\n",
              "       Additional_Info_Red-eye flight  \n",
              "0                                   0  \n",
              "1                                   0  \n",
              "2                                   0  \n",
              "3                                   0  \n",
              "4                                   0  \n",
              "...                               ...  \n",
              "10677                               0  \n",
              "10678                               0  \n",
              "10679                               0  \n",
              "10680                               0  \n",
              "10681                               0  \n",
              "\n",
              "[10682 rows x 43 columns]"
            ],
            "text/html": [
              "\n",
              "  <div id=\"df-d298e6b4-380f-4dab-baf0-d7520c5ca0ae\">\n",
              "    <div class=\"colab-df-container\">\n",
              "      <div>\n",
              "<style scoped>\n",
              "    .dataframe tbody tr th:only-of-type {\n",
              "        vertical-align: middle;\n",
              "    }\n",
              "\n",
              "    .dataframe tbody tr th {\n",
              "        vertical-align: top;\n",
              "    }\n",
              "\n",
              "    .dataframe thead th {\n",
              "        text-align: right;\n",
              "    }\n",
              "</style>\n",
              "<table border=\"1\" class=\"dataframe\">\n",
              "  <thead>\n",
              "    <tr style=\"text-align: right;\">\n",
              "      <th></th>\n",
              "      <th>Duration</th>\n",
              "      <th>Total_Stops</th>\n",
              "      <th>Price</th>\n",
              "      <th>journey_day</th>\n",
              "      <th>journey_month</th>\n",
              "      <th>Dep_Time_hour</th>\n",
              "      <th>Dep_Time_min</th>\n",
              "      <th>Arrival_Time_hour</th>\n",
              "      <th>Arrival_Time_min</th>\n",
              "      <th>Route2</th>\n",
              "      <th>...</th>\n",
              "      <th>Destination_New Delhi</th>\n",
              "      <th>Additional_Info_1 Short layover</th>\n",
              "      <th>Additional_Info_2 Long layover</th>\n",
              "      <th>Additional_Info_Business class</th>\n",
              "      <th>Additional_Info_Change airports</th>\n",
              "      <th>Additional_Info_In-flight meal not included</th>\n",
              "      <th>Additional_Info_No Info</th>\n",
              "      <th>Additional_Info_No check-in baggage included</th>\n",
              "      <th>Additional_Info_No info</th>\n",
              "      <th>Additional_Info_Red-eye flight</th>\n",
              "    </tr>\n",
              "  </thead>\n",
              "  <tbody>\n",
              "    <tr>\n",
              "      <th>0</th>\n",
              "      <td>-0.931601</td>\n",
              "      <td>-1.220666</td>\n",
              "      <td>3897</td>\n",
              "      <td>1.285536</td>\n",
              "      <td>-0.848450</td>\n",
              "      <td>1.654154</td>\n",
              "      <td>-0.234950</td>\n",
              "      <td>-1.800436</td>\n",
              "      <td>-0.890014</td>\n",
              "      <td>13</td>\n",
              "      <td>...</td>\n",
              "      <td>1</td>\n",
              "      <td>0</td>\n",
              "      <td>0</td>\n",
              "      <td>0</td>\n",
              "      <td>0</td>\n",
              "      <td>0</td>\n",
              "      <td>0</td>\n",
              "      <td>0</td>\n",
              "      <td>1</td>\n",
              "      <td>0</td>\n",
              "    </tr>\n",
              "    <tr>\n",
              "      <th>1</th>\n",
              "      <td>-0.390028</td>\n",
              "      <td>1.741432</td>\n",
              "      <td>7662</td>\n",
              "      <td>-0.872724</td>\n",
              "      <td>-1.517909</td>\n",
              "      <td>-1.303113</td>\n",
              "      <td>1.363607</td>\n",
              "      <td>-0.050909</td>\n",
              "      <td>-0.587094</td>\n",
              "      <td>25</td>\n",
              "      <td>...</td>\n",
              "      <td>0</td>\n",
              "      <td>0</td>\n",
              "      <td>0</td>\n",
              "      <td>0</td>\n",
              "      <td>0</td>\n",
              "      <td>0</td>\n",
              "      <td>0</td>\n",
              "      <td>0</td>\n",
              "      <td>1</td>\n",
              "      <td>0</td>\n",
              "    </tr>\n",
              "    <tr>\n",
              "      <th>2</th>\n",
              "      <td>0.978676</td>\n",
              "      <td>1.741432</td>\n",
              "      <td>13882</td>\n",
              "      <td>-0.759131</td>\n",
              "      <td>1.159928</td>\n",
              "      <td>-0.607286</td>\n",
              "      <td>0.031476</td>\n",
              "      <td>-1.363054</td>\n",
              "      <td>0.018745</td>\n",
              "      <td>32</td>\n",
              "      <td>...</td>\n",
              "      <td>0</td>\n",
              "      <td>0</td>\n",
              "      <td>0</td>\n",
              "      <td>0</td>\n",
              "      <td>0</td>\n",
              "      <td>0</td>\n",
              "      <td>0</td>\n",
              "      <td>0</td>\n",
              "      <td>1</td>\n",
              "      <td>0</td>\n",
              "    </tr>\n",
              "    <tr>\n",
              "      <th>3</th>\n",
              "      <td>-0.626351</td>\n",
              "      <td>0.260383</td>\n",
              "      <td>6218</td>\n",
              "      <td>-0.872724</td>\n",
              "      <td>2.164117</td>\n",
              "      <td>0.958326</td>\n",
              "      <td>-1.034229</td>\n",
              "      <td>1.407030</td>\n",
              "      <td>0.321664</td>\n",
              "      <td>34</td>\n",
              "      <td>...</td>\n",
              "      <td>0</td>\n",
              "      <td>0</td>\n",
              "      <td>0</td>\n",
              "      <td>0</td>\n",
              "      <td>0</td>\n",
              "      <td>0</td>\n",
              "      <td>0</td>\n",
              "      <td>0</td>\n",
              "      <td>1</td>\n",
              "      <td>0</td>\n",
              "    </tr>\n",
              "    <tr>\n",
              "      <th>4</th>\n",
              "      <td>-0.705125</td>\n",
              "      <td>0.260383</td>\n",
              "      <td>13302</td>\n",
              "      <td>-1.099909</td>\n",
              "      <td>-1.517909</td>\n",
              "      <td>0.610412</td>\n",
              "      <td>1.363607</td>\n",
              "      <td>1.115442</td>\n",
              "      <td>0.624584</td>\n",
              "      <td>34</td>\n",
              "      <td>...</td>\n",
              "      <td>1</td>\n",
              "      <td>0</td>\n",
              "      <td>0</td>\n",
              "      <td>0</td>\n",
              "      <td>0</td>\n",
              "      <td>0</td>\n",
              "      <td>0</td>\n",
              "      <td>0</td>\n",
              "      <td>1</td>\n",
              "      <td>0</td>\n",
              "    </tr>\n",
              "    <tr>\n",
              "      <th>...</th>\n",
              "      <td>...</td>\n",
              "      <td>...</td>\n",
              "      <td>...</td>\n",
              "      <td>...</td>\n",
              "      <td>...</td>\n",
              "      <td>...</td>\n",
              "      <td>...</td>\n",
              "      <td>...</td>\n",
              "      <td>...</td>\n",
              "      <td>...</td>\n",
              "      <td>...</td>\n",
              "      <td>...</td>\n",
              "      <td>...</td>\n",
              "      <td>...</td>\n",
              "      <td>...</td>\n",
              "      <td>...</td>\n",
              "      <td>...</td>\n",
              "      <td>...</td>\n",
              "      <td>...</td>\n",
              "      <td>...</td>\n",
              "      <td>...</td>\n",
              "    </tr>\n",
              "    <tr>\n",
              "      <th>10677</th>\n",
              "      <td>-0.970988</td>\n",
              "      <td>-1.220666</td>\n",
              "      <td>4107</td>\n",
              "      <td>-0.986316</td>\n",
              "      <td>1.159928</td>\n",
              "      <td>1.132283</td>\n",
              "      <td>1.630034</td>\n",
              "      <td>1.261236</td>\n",
              "      <td>0.018745</td>\n",
              "      <td>5</td>\n",
              "      <td>...</td>\n",
              "      <td>0</td>\n",
              "      <td>0</td>\n",
              "      <td>0</td>\n",
              "      <td>0</td>\n",
              "      <td>0</td>\n",
              "      <td>0</td>\n",
              "      <td>0</td>\n",
              "      <td>0</td>\n",
              "      <td>1</td>\n",
              "      <td>0</td>\n",
              "    </tr>\n",
              "    <tr>\n",
              "      <th>10678</th>\n",
              "      <td>-0.961141</td>\n",
              "      <td>-1.220666</td>\n",
              "      <td>4145</td>\n",
              "      <td>1.626314</td>\n",
              "      <td>-0.513720</td>\n",
              "      <td>1.306240</td>\n",
              "      <td>1.097181</td>\n",
              "      <td>1.407030</td>\n",
              "      <td>-0.284175</td>\n",
              "      <td>5</td>\n",
              "      <td>...</td>\n",
              "      <td>0</td>\n",
              "      <td>0</td>\n",
              "      <td>0</td>\n",
              "      <td>0</td>\n",
              "      <td>0</td>\n",
              "      <td>0</td>\n",
              "      <td>0</td>\n",
              "      <td>0</td>\n",
              "      <td>1</td>\n",
              "      <td>0</td>\n",
              "    </tr>\n",
              "    <tr>\n",
              "      <th>10679</th>\n",
              "      <td>-0.911908</td>\n",
              "      <td>-1.220666</td>\n",
              "      <td>7229</td>\n",
              "      <td>1.626314</td>\n",
              "      <td>-0.513720</td>\n",
              "      <td>-0.781243</td>\n",
              "      <td>-0.234950</td>\n",
              "      <td>-0.342497</td>\n",
              "      <td>-0.284175</td>\n",
              "      <td>13</td>\n",
              "      <td>...</td>\n",
              "      <td>0</td>\n",
              "      <td>0</td>\n",
              "      <td>0</td>\n",
              "      <td>0</td>\n",
              "      <td>0</td>\n",
              "      <td>0</td>\n",
              "      <td>0</td>\n",
              "      <td>0</td>\n",
              "      <td>1</td>\n",
              "      <td>0</td>\n",
              "    </tr>\n",
              "    <tr>\n",
              "      <th>10680</th>\n",
              "      <td>-0.951295</td>\n",
              "      <td>-1.220666</td>\n",
              "      <td>12648</td>\n",
              "      <td>-1.099909</td>\n",
              "      <td>-1.517909</td>\n",
              "      <td>-0.259372</td>\n",
              "      <td>0.297903</td>\n",
              "      <td>0.094885</td>\n",
              "      <td>-0.890014</td>\n",
              "      <td>13</td>\n",
              "      <td>...</td>\n",
              "      <td>1</td>\n",
              "      <td>0</td>\n",
              "      <td>0</td>\n",
              "      <td>0</td>\n",
              "      <td>0</td>\n",
              "      <td>0</td>\n",
              "      <td>0</td>\n",
              "      <td>0</td>\n",
              "      <td>1</td>\n",
              "      <td>0</td>\n",
              "    </tr>\n",
              "    <tr>\n",
              "      <th>10681</th>\n",
              "      <td>-0.281713</td>\n",
              "      <td>1.741432</td>\n",
              "      <td>11753</td>\n",
              "      <td>-0.872724</td>\n",
              "      <td>1.159928</td>\n",
              "      <td>-0.433329</td>\n",
              "      <td>1.630034</td>\n",
              "      <td>0.823854</td>\n",
              "      <td>-0.587094</td>\n",
              "      <td>16</td>\n",
              "      <td>...</td>\n",
              "      <td>0</td>\n",
              "      <td>0</td>\n",
              "      <td>0</td>\n",
              "      <td>0</td>\n",
              "      <td>0</td>\n",
              "      <td>0</td>\n",
              "      <td>0</td>\n",
              "      <td>0</td>\n",
              "      <td>1</td>\n",
              "      <td>0</td>\n",
              "    </tr>\n",
              "  </tbody>\n",
              "</table>\n",
              "<p>10682 rows × 43 columns</p>\n",
              "</div>\n",
              "      <button class=\"colab-df-convert\" onclick=\"convertToInteractive('df-d298e6b4-380f-4dab-baf0-d7520c5ca0ae')\"\n",
              "              title=\"Convert this dataframe to an interactive table.\"\n",
              "              style=\"display:none;\">\n",
              "        \n",
              "  <svg xmlns=\"http://www.w3.org/2000/svg\" height=\"24px\"viewBox=\"0 0 24 24\"\n",
              "       width=\"24px\">\n",
              "    <path d=\"M0 0h24v24H0V0z\" fill=\"none\"/>\n",
              "    <path d=\"M18.56 5.44l.94 2.06.94-2.06 2.06-.94-2.06-.94-.94-2.06-.94 2.06-2.06.94zm-11 1L8.5 8.5l.94-2.06 2.06-.94-2.06-.94L8.5 2.5l-.94 2.06-2.06.94zm10 10l.94 2.06.94-2.06 2.06-.94-2.06-.94-.94-2.06-.94 2.06-2.06.94z\"/><path d=\"M17.41 7.96l-1.37-1.37c-.4-.4-.92-.59-1.43-.59-.52 0-1.04.2-1.43.59L10.3 9.45l-7.72 7.72c-.78.78-.78 2.05 0 2.83L4 21.41c.39.39.9.59 1.41.59.51 0 1.02-.2 1.41-.59l7.78-7.78 2.81-2.81c.8-.78.8-2.07 0-2.86zM5.41 20L4 18.59l7.72-7.72 1.47 1.35L5.41 20z\"/>\n",
              "  </svg>\n",
              "      </button>\n",
              "      \n",
              "  <style>\n",
              "    .colab-df-container {\n",
              "      display:flex;\n",
              "      flex-wrap:wrap;\n",
              "      gap: 12px;\n",
              "    }\n",
              "\n",
              "    .colab-df-convert {\n",
              "      background-color: #E8F0FE;\n",
              "      border: none;\n",
              "      border-radius: 50%;\n",
              "      cursor: pointer;\n",
              "      display: none;\n",
              "      fill: #1967D2;\n",
              "      height: 32px;\n",
              "      padding: 0 0 0 0;\n",
              "      width: 32px;\n",
              "    }\n",
              "\n",
              "    .colab-df-convert:hover {\n",
              "      background-color: #E2EBFA;\n",
              "      box-shadow: 0px 1px 2px rgba(60, 64, 67, 0.3), 0px 1px 3px 1px rgba(60, 64, 67, 0.15);\n",
              "      fill: #174EA6;\n",
              "    }\n",
              "\n",
              "    [theme=dark] .colab-df-convert {\n",
              "      background-color: #3B4455;\n",
              "      fill: #D2E3FC;\n",
              "    }\n",
              "\n",
              "    [theme=dark] .colab-df-convert:hover {\n",
              "      background-color: #434B5C;\n",
              "      box-shadow: 0px 1px 3px 1px rgba(0, 0, 0, 0.15);\n",
              "      filter: drop-shadow(0px 1px 2px rgba(0, 0, 0, 0.3));\n",
              "      fill: #FFFFFF;\n",
              "    }\n",
              "  </style>\n",
              "\n",
              "      <script>\n",
              "        const buttonEl =\n",
              "          document.querySelector('#df-d298e6b4-380f-4dab-baf0-d7520c5ca0ae button.colab-df-convert');\n",
              "        buttonEl.style.display =\n",
              "          google.colab.kernel.accessAllowed ? 'block' : 'none';\n",
              "\n",
              "        async function convertToInteractive(key) {\n",
              "          const element = document.querySelector('#df-d298e6b4-380f-4dab-baf0-d7520c5ca0ae');\n",
              "          const dataTable =\n",
              "            await google.colab.kernel.invokeFunction('convertToInteractive',\n",
              "                                                     [key], {});\n",
              "          if (!dataTable) return;\n",
              "\n",
              "          const docLinkHtml = 'Like what you see? Visit the ' +\n",
              "            '<a target=\"_blank\" href=https://colab.research.google.com/notebooks/data_table.ipynb>data table notebook</a>'\n",
              "            + ' to learn more about interactive tables.';\n",
              "          element.innerHTML = '';\n",
              "          dataTable['output_type'] = 'display_data';\n",
              "          await google.colab.output.renderOutput(dataTable, element);\n",
              "          const docLink = document.createElement('div');\n",
              "          docLink.innerHTML = docLinkHtml;\n",
              "          element.appendChild(docLink);\n",
              "        }\n",
              "      </script>\n",
              "    </div>\n",
              "  </div>\n",
              "  "
            ]
          },
          "metadata": {},
          "execution_count": 133
        }
      ],
      "source": [
        "data"
      ]
    },
    {
      "cell_type": "markdown",
      "metadata": {
        "id": "rNxtU3d2Fp9A"
      },
      "source": [
        "##Checking for any outliers in the dataset"
      ]
    },
    {
      "cell_type": "code",
      "execution_count": null,
      "metadata": {
        "colab": {
          "base_uri": "https://localhost:8080/"
        },
        "id": "-lMQFHkzFSJp",
        "outputId": "b098a915-c61e-4779-b6a7-d92fccd48113"
      },
      "outputs": [
        {
          "output_type": "display_data",
          "data": {
            "text/plain": [
              "<Figure size 432x288 with 2 Axes>"
            ],
            "image/png": "[encoded data removed]"
          },
          "metadata": {
            "needs_background": "light"
          }
        }
      ],
      "source": [
        "def plot(data,col):\n",
        "    fig,(ax1,ax2)=plt.subplots(2,1)\n",
        "    sns.distplot(data[col],ax=ax1)\n",
        "    sns.boxplot(data[col],ax=ax2)\n",
        "plot(data,'Price')"
      ]
    },
    {
      "cell_type": "markdown",
      "metadata": {
        "id": "Fu1QoYy7Fxyg"
      },
      "source": [
        "As from the above dataset we can clearly see the outliers , so I will replace all the prices > 40000 with the median value of price."
      ]
    },
    {
      "cell_type": "code",
      "execution_count": null,
      "metadata": {
        "id": "dkDdhhH2GA_y"
      },
      "outputs": [],
      "source": [
        "data['Price']=np.where(data['Price']>=40000,data['Price'].median(),data['Price'])"
      ]
    },
    {
      "cell_type": "code",
      "execution_count": null,
      "metadata": {
        "colab": {
          "base_uri": "https://localhost:8080/"
        },
        "id": "0OE7nQz4GIUn",
        "outputId": "408331c2-46a2-4e75-dd5b-4c4b41fcacc7"
      },
      "outputs": [
        {
          "output_type": "display_data",
          "data": {
            "text/plain": [
              "<Figure size 432x288 with 2 Axes>"
            ],
            "image/png": "[encoded data removed]"
          },
          "metadata": {
            "needs_background": "light"
          }
        }
      ],
      "source": [
        "plot(data,'Price')"
      ]
    },
    {
      "cell_type": "markdown",
      "metadata": {
        "id": "FJSqAeZJH3c_"
      },
      "source": [
        "##Train test Split"
      ]
    },
    {
      "cell_type": "code",
      "execution_count": null,
      "metadata": {
        "id": "1Y1XL4Lbkn9s"
      },
      "outputs": [],
      "source": [
        "X = data.drop(columns = ['Price'], axis = 1)\n",
        "Y = data[['Price']]"
      ]
    },
    {
      "cell_type": "code",
      "execution_count": null,
      "metadata": {
        "id": "Sxktc6Wvleol"
      },
      "outputs": [],
      "source": [
        "x_train, x_test, y_train, y_test = train_test_split(X,Y,test_size = 0.3, random_state = 42)\n",
        "x_val, x_test, y_val, y_test = train_test_split(x_test, y_test, test_size = 2/3, random_state = 42)"
      ]
    },
    {
      "cell_type": "code",
      "execution_count": null,
      "metadata": {
        "id": "gW-AnQXkmFHS"
      },
      "outputs": [],
      "source": [
        "x_train.reset_index(inplace = True)\n",
        "x_train.drop(\"index\",axis = 1, inplace = True)\n",
        "\n",
        "y_train.reset_index(inplace = True)\n",
        "y_train.drop(\"index\",axis = 1, inplace = True)\n",
        "\n",
        "x_val.reset_index(inplace = True)\n",
        "x_val.drop(\"index\",axis = 1, inplace = True)\n",
        "\n",
        "y_val.reset_index(inplace = True)\n",
        "y_val.drop(\"index\",axis = 1, inplace = True)\n",
        "\n",
        "x_test.reset_index(inplace = True)\n",
        "x_test.drop(\"index\",axis = 1, inplace = True)\n",
        "\n",
        "y_test.reset_index(inplace = True)\n",
        "y_test.drop(\"index\",axis = 1, inplace = True)"
      ]
    },
    {
      "cell_type": "markdown",
      "metadata": {
        "id": "M3Xa9w-UbbYy"
      },
      "source": [
        "#Applying Models "
      ]
    },
    {
      "cell_type": "markdown",
      "source": [
        "##Modelling"
      ],
      "metadata": {
        "id": "CZzy3xOP0fgi"
      }
    },
    {
      "cell_type": "code",
      "execution_count": null,
      "metadata": {
        "id": "qvs6y-b1lRAz"
      },
      "outputs": [],
      "source": [
        "Models = ['XGBRegressor','RandomForestRegressor','Linear Regressor','KNeighborsRegressor','AdaBoostRegressor','LGBMRegressor']\n",
        "r2_scores = []\n",
        "training_scores = []\n",
        "testing_scores = []\n",
        "cross_val_scores = []\n",
        "mse_scores = []\n",
        "log_scores = []"
      ]
    },
    {
      "cell_type": "code",
      "execution_count": null,
      "metadata": {
        "id": "hLD58wD_EKyB"
      },
      "outputs": [],
      "source": [
        "training_x = pd.concat([x_train,x_val], axis = 0)\n",
        "training_y = pd.concat([y_train,y_val], axis = 0)"
      ]
    },
    {
      "cell_type": "code",
      "source": [
        "def modelling(model, model_name):\n",
        "  print(\"--------------------------------------Applying \" + model_name + \" on the given dataset----------------------------------------\")\n",
        "  regressor = model\n",
        "  regressor.fit(x_train, y_train)\n",
        "  cross_validation_score = cross_val_score(estimator = regressor, X = training_x, y = training_y, cv = 5, scoring = \"r2\")\n",
        "  preds = regressor.predict(x_test)\n",
        "  score = max(0 , 100 * r2_score(y_test , preds))\n",
        "  log_error = mean_squared_log_error(y_test, preds)\n",
        "  print(f\"Training score : {regressor.score(x_train , y_train):.4f}\")\n",
        "  print(f\"Test Score : {regressor.score(x_test , y_test):.4f}\")\n",
        "  print(f\"K-fold accuracy : {np.mean(cross_validation_score):.4f}\")\n",
        "  print(f\"Standard Deviation of Accuracies in k-fold : {np.std(cross_validation_score):.4f}\")\n",
        "  print(f\"R2 - Score : {score:.4f}\")\n",
        "  print(f\"Mean square log error: {log_error:.4f}\")\n",
        "  training_scores.append(regressor.score(x_train , y_train))\n",
        "  testing_scores.append(regressor.score(x_test , y_test))\n",
        "  cross_val_scores.append(np.mean(cross_validation_score))\n",
        "  r2_scores.append(score)\n",
        "  log_scores.append(log_error)\n",
        "  print()"
      ],
      "metadata": {
        "id": "h24P2ZdAdLza"
      },
      "execution_count": null,
      "outputs": []
    },
    {
      "cell_type": "code",
      "source": [
        "modelling(XGBRegressor(random_state = 42 , objective ='reg:squarederror'), \"XGBRegressor\")\n",
        "modelling(RandomForestRegressor(random_state = 42), \"RandomForestRegressor\")\n",
        "modelling(LinearRegression(), \"LinearRegressor\")\n",
        "modelling(KNeighborsRegressor(), \"KNeightborsRegressor\")\n",
        "modelling(AdaBoostRegressor(random_state = 42), \"AdaboostRegressor\")\n",
        "modelling(lgbm.LGBMRegressor(), \"LGBMRegressor\")"
      ],
      "metadata": {
        "colab": {
          "base_uri": "https://localhost:8080/"
        },
        "id": "ybQE5mgyd4Dp",
        "outputId": "5b7e1006-1920-4116-c6b5-5a0b75c38a14"
      },
      "execution_count": null,
      "outputs": [
        {
          "output_type": "stream",
          "name": "stdout",
          "text": [
            "--------------------------------------Applying XGBRegressor on the given dataset----------------------------------------\n",
            "Training score : 0.8504\n",
            "Test Score : 0.8596\n",
            "K-fold accuracy : 0.8337\n",
            "Standard Deviation of Accuracies in k-fold : 0.0108\n",
            "R2 - Score : 85.9584\n",
            "Mean square log error: 0.0311\n",
            "\n",
            "--------------------------------------Applying RandomForestRegressor on the given dataset----------------------------------------\n",
            "Training score : 0.9837\n",
            "Test Score : 0.9272\n",
            "K-fold accuracy : 0.9007\n",
            "Standard Deviation of Accuracies in k-fold : 0.0164\n",
            "R2 - Score : 92.7178\n",
            "Mean square log error: 0.0151\n",
            "\n",
            "--------------------------------------Applying LinearRegressor on the given dataset----------------------------------------\n",
            "Training score : 0.6871\n",
            "Test Score : 0.6994\n",
            "K-fold accuracy : 0.6804\n",
            "Standard Deviation of Accuracies in k-fold : 0.0187\n",
            "R2 - Score : 69.9428\n",
            "Mean square log error: 0.0634\n",
            "\n",
            "--------------------------------------Applying KNeightborsRegressor on the given dataset----------------------------------------\n",
            "Training score : 0.8592\n",
            "Test Score : 0.8075\n",
            "K-fold accuracy : 0.7689\n",
            "Standard Deviation of Accuracies in k-fold : 0.0169\n",
            "R2 - Score : 80.7498\n",
            "Mean square log error: 0.0405\n",
            "\n",
            "--------------------------------------Applying AdaboostRegressor on the given dataset----------------------------------------\n",
            "Training score : 0.6366\n",
            "Test Score : 0.6530\n",
            "K-fold accuracy : 0.5707\n",
            "Standard Deviation of Accuracies in k-fold : 0.0305\n",
            "R2 - Score : 65.2969\n",
            "Mean square log error: 0.1020\n",
            "\n",
            "--------------------------------------Applying LGBMRegressor on the given dataset----------------------------------------\n",
            "Training score : 0.9352\n",
            "Test Score : 0.9228\n",
            "K-fold accuracy : 0.8941\n",
            "Standard Deviation of Accuracies in k-fold : 0.0128\n",
            "R2 - Score : 92.2776\n",
            "Mean square log error: 0.0173\n",
            "\n"
          ]
        }
      ]
    },
    {
      "cell_type": "code",
      "execution_count": null,
      "metadata": {
        "colab": {
          "base_uri": "https://localhost:8080/",
          "height": 237
        },
        "id": "P2t0RddPmdXk",
        "outputId": "068f5bd9-2b9d-44b8-d1ba-9765ffe6ff2c"
      },
      "outputs": [
        {
          "output_type": "execute_result",
          "data": {
            "text/plain": [
              "<pandas.io.formats.style.Styler at 0x7fe0f7bb6210>"
            ],
            "text/html": [
              "<style type=\"text/css\">\n",
              "#T_34a82_row0_col1 {\n",
              "  background-color: #bdc8e1;\n",
              "  color: #000000;\n",
              "}\n",
              "#T_34a82_row0_col2, #T_34a82_row0_col3 {\n",
              "  background-color: #a5bddb;\n",
              "  color: #000000;\n",
              "}\n",
              "#T_34a82_row0_col4 {\n",
              "  background-color: #9cb9d9;\n",
              "  color: #000000;\n",
              "}\n",
              "#T_34a82_row0_col5 {\n",
              "  background-color: #f1ebf5;\n",
              "  color: #000000;\n",
              "}\n",
              "#T_34a82_row1_col1, #T_34a82_row1_col2, #T_34a82_row1_col3, #T_34a82_row1_col4, #T_34a82_row4_col5 {\n",
              "  background-color: #73a9cf;\n",
              "  color: #f1f1f1;\n",
              "}\n",
              "#T_34a82_row1_col5, #T_34a82_row4_col1, #T_34a82_row4_col2, #T_34a82_row4_col3, #T_34a82_row4_col4 {\n",
              "  background-color: #fff7fb;\n",
              "  color: #000000;\n",
              "}\n",
              "#T_34a82_row2_col1 {\n",
              "  background-color: #f4eef6;\n",
              "  color: #000000;\n",
              "}\n",
              "#T_34a82_row2_col2, #T_34a82_row2_col3 {\n",
              "  background-color: #f2ecf5;\n",
              "  color: #000000;\n",
              "}\n",
              "#T_34a82_row2_col4 {\n",
              "  background-color: #e3e0ee;\n",
              "  color: #000000;\n",
              "}\n",
              "#T_34a82_row2_col5 {\n",
              "  background-color: #c6cce3;\n",
              "  color: #000000;\n",
              "}\n",
              "#T_34a82_row3_col1 {\n",
              "  background-color: #b8c6e0;\n",
              "  color: #000000;\n",
              "}\n",
              "#T_34a82_row3_col2, #T_34a82_row3_col3 {\n",
              "  background-color: #c5cce3;\n",
              "  color: #000000;\n",
              "}\n",
              "#T_34a82_row3_col4 {\n",
              "  background-color: #c0c9e2;\n",
              "  color: #000000;\n",
              "}\n",
              "#T_34a82_row3_col5 {\n",
              "  background-color: #e7e3f0;\n",
              "  color: #000000;\n",
              "}\n",
              "#T_34a82_row5_col1 {\n",
              "  background-color: #8fb4d6;\n",
              "  color: #000000;\n",
              "}\n",
              "#T_34a82_row5_col2, #T_34a82_row5_col3, #T_34a82_row5_col4 {\n",
              "  background-color: #78abd0;\n",
              "  color: #f1f1f1;\n",
              "}\n",
              "#T_34a82_row5_col5 {\n",
              "  background-color: #fdf5fa;\n",
              "  color: #000000;\n",
              "}\n",
              "</style>\n",
              "<table id=\"T_34a82_\" class=\"dataframe\">\n",
              "  <thead>\n",
              "    <tr>\n",
              "      <th class=\"blank level0\" >&nbsp;</th>\n",
              "      <th class=\"col_heading level0 col0\" >Model</th>\n",
              "      <th class=\"col_heading level0 col1\" >Training score</th>\n",
              "      <th class=\"col_heading level0 col2\" >Testing Score</th>\n",
              "      <th class=\"col_heading level0 col3\" >R2 - Score</th>\n",
              "      <th class=\"col_heading level0 col4\" >Cross_val_scores</th>\n",
              "      <th class=\"col_heading level0 col5\" >Mean square log error</th>\n",
              "    </tr>\n",
              "  </thead>\n",
              "  <tbody>\n",
              "    <tr>\n",
              "      <th id=\"T_34a82_level0_row0\" class=\"row_heading level0 row0\" >0</th>\n",
              "      <td id=\"T_34a82_row0_col0\" class=\"data row0 col0\" >XGBRegressor</td>\n",
              "      <td id=\"T_34a82_row0_col1\" class=\"data row0 col1\" >0.850407</td>\n",
              "      <td id=\"T_34a82_row0_col2\" class=\"data row0 col2\" >0.859584</td>\n",
              "      <td id=\"T_34a82_row0_col3\" class=\"data row0 col3\" >85.958376</td>\n",
              "      <td id=\"T_34a82_row0_col4\" class=\"data row0 col4\" >0.833664</td>\n",
              "      <td id=\"T_34a82_row0_col5\" class=\"data row0 col5\" >0.031097</td>\n",
              "    </tr>\n",
              "    <tr>\n",
              "      <th id=\"T_34a82_level0_row1\" class=\"row_heading level0 row1\" >1</th>\n",
              "      <td id=\"T_34a82_row1_col0\" class=\"data row1 col0\" >RandomForestRegressor</td>\n",
              "      <td id=\"T_34a82_row1_col1\" class=\"data row1 col1\" >0.983705</td>\n",
              "      <td id=\"T_34a82_row1_col2\" class=\"data row1 col2\" >0.927178</td>\n",
              "      <td id=\"T_34a82_row1_col3\" class=\"data row1 col3\" >92.717821</td>\n",
              "      <td id=\"T_34a82_row1_col4\" class=\"data row1 col4\" >0.900688</td>\n",
              "      <td id=\"T_34a82_row1_col5\" class=\"data row1 col5\" >0.015056</td>\n",
              "    </tr>\n",
              "    <tr>\n",
              "      <th id=\"T_34a82_level0_row2\" class=\"row_heading level0 row2\" >2</th>\n",
              "      <td id=\"T_34a82_row2_col0\" class=\"data row2 col0\" >Linear Regressor</td>\n",
              "      <td id=\"T_34a82_row2_col1\" class=\"data row2 col1\" >0.687144</td>\n",
              "      <td id=\"T_34a82_row2_col2\" class=\"data row2 col2\" >0.699428</td>\n",
              "      <td id=\"T_34a82_row2_col3\" class=\"data row2 col3\" >69.942783</td>\n",
              "      <td id=\"T_34a82_row2_col4\" class=\"data row2 col4\" >0.680370</td>\n",
              "      <td id=\"T_34a82_row2_col5\" class=\"data row2 col5\" >0.063380</td>\n",
              "    </tr>\n",
              "    <tr>\n",
              "      <th id=\"T_34a82_level0_row3\" class=\"row_heading level0 row3\" >3</th>\n",
              "      <td id=\"T_34a82_row3_col0\" class=\"data row3 col0\" >KNeighborsRegressor</td>\n",
              "      <td id=\"T_34a82_row3_col1\" class=\"data row3 col1\" >0.859190</td>\n",
              "      <td id=\"T_34a82_row3_col2\" class=\"data row3 col2\" >0.807498</td>\n",
              "      <td id=\"T_34a82_row3_col3\" class=\"data row3 col3\" >80.749839</td>\n",
              "      <td id=\"T_34a82_row3_col4\" class=\"data row3 col4\" >0.768938</td>\n",
              "      <td id=\"T_34a82_row3_col5\" class=\"data row3 col5\" >0.040525</td>\n",
              "    </tr>\n",
              "    <tr>\n",
              "      <th id=\"T_34a82_level0_row4\" class=\"row_heading level0 row4\" >4</th>\n",
              "      <td id=\"T_34a82_row4_col0\" class=\"data row4 col0\" >AdaBoostRegressor</td>\n",
              "      <td id=\"T_34a82_row4_col1\" class=\"data row4 col1\" >0.636625</td>\n",
              "      <td id=\"T_34a82_row4_col2\" class=\"data row4 col2\" >0.652969</td>\n",
              "      <td id=\"T_34a82_row4_col3\" class=\"data row4 col3\" >65.296860</td>\n",
              "      <td id=\"T_34a82_row4_col4\" class=\"data row4 col4\" >0.570653</td>\n",
              "      <td id=\"T_34a82_row4_col5\" class=\"data row4 col5\" >0.101954</td>\n",
              "    </tr>\n",
              "    <tr>\n",
              "      <th id=\"T_34a82_level0_row5\" class=\"row_heading level0 row5\" >5</th>\n",
              "      <td id=\"T_34a82_row5_col0\" class=\"data row5 col0\" >LGBMRegressor</td>\n",
              "      <td id=\"T_34a82_row5_col1\" class=\"data row5 col1\" >0.935200</td>\n",
              "      <td id=\"T_34a82_row5_col2\" class=\"data row5 col2\" >0.922776</td>\n",
              "      <td id=\"T_34a82_row5_col3\" class=\"data row5 col3\" >92.277581</td>\n",
              "      <td id=\"T_34a82_row5_col4\" class=\"data row5 col4\" >0.894059</td>\n",
              "      <td id=\"T_34a82_row5_col5\" class=\"data row5 col5\" >0.017273</td>\n",
              "    </tr>\n",
              "  </tbody>\n",
              "</table>\n"
            ]
          },
          "metadata": {},
          "execution_count": 144
        }
      ],
      "source": [
        "score = pd.DataFrame({'Model': Models, 'Training score': training_scores, 'Testing Score': testing_scores, 'R2 - Score' : r2_scores,'Cross_val_scores' : cross_val_scores,'Mean square log error': log_scores})\n",
        "score.style.background_gradient(high=1,axis=0)"
      ]
    },
    {
      "cell_type": "code",
      "execution_count": null,
      "metadata": {
        "colab": {
          "base_uri": "https://localhost:8080/",
          "height": 350
        },
        "id": "PeBPcru9nyEM",
        "outputId": "ce9b295f-b1ea-4bce-9896-a686e624e44f"
      },
      "outputs": [
        {
          "output_type": "display_data",
          "data": {
            "text/plain": [
              "<Figure size 720x360 with 1 Axes>"
            ],
            "image/png": "[encoded data removed]"
          },
          "metadata": {
            "needs_background": "light"
          }
        }
      ],
      "source": [
        "plt.figure(figsize = (10 , 5))\n",
        "sns.barplot(y = \"Model\" , x = \"R2 - Score\" , data = score)\n",
        "plt.title(\"Model Comparision based on R2_Score\");"
      ]
    },
    {
      "cell_type": "code",
      "execution_count": null,
      "metadata": {
        "colab": {
          "base_uri": "https://localhost:8080/",
          "height": 350
        },
        "id": "9FtEQcU1WqwA",
        "outputId": "05aba90e-a4d5-40a5-c0f3-2972dba24117"
      },
      "outputs": [
        {
          "output_type": "display_data",
          "data": {
            "text/plain": [
              "<Figure size 720x360 with 1 Axes>"
            ],
            "image/png": "[encoded data removed]"
          },
          "metadata": {
            "needs_background": "light"
          }
        }
      ],
      "source": [
        "plt.figure(figsize = (10 , 5))\n",
        "sns.barplot(y = \"Model\" , x = \"Mean square log error\" , data = score)\n",
        "plt.title(\"Model Comparision based on Mean square log error\");"
      ]
    },
    {
      "cell_type": "code",
      "execution_count": null,
      "metadata": {
        "colab": {
          "base_uri": "https://localhost:8080/",
          "height": 351
        },
        "id": "Y16yd2qYjZbU",
        "outputId": "3db844fb-bf18-4c2f-b1f0-f482446b6335"
      },
      "outputs": [
        {
          "output_type": "display_data",
          "data": {
            "text/plain": [
              "<Figure size 720x360 with 1 Axes>"
            ],
            "image/png": "[encoded data removed]"
          },
          "metadata": {
            "needs_background": "light"
          }
        }
      ],
      "source": [
        "plt.figure(figsize = (10 , 5))\n",
        "sns.barplot(y = \"Model\" , x = \"Cross_val_scores\" , data = score)\n",
        "plt.title(\"Model Comparision based on Cross_val_scores\");"
      ]
    },
    {
      "cell_type": "markdown",
      "metadata": {
        "id": "gTMA_K1Ann37"
      },
      "source": [
        "We can clearly see that Random Forest Regressor is winning"
      ]
    },
    {
      "cell_type": "code",
      "execution_count": null,
      "metadata": {
        "id": "b1dCbaCIlb0i"
      },
      "outputs": [],
      "source": [
        "random_search_testing_scores = []\n",
        "msle_testing_scores = []"
      ]
    },
    {
      "cell_type": "markdown",
      "metadata": {
        "id": "XnL883CYpUdZ"
      },
      "source": [
        "##Lets find the best parameter for RFC and tune it with hyperparameters using RandomSearch\n"
      ]
    },
    {
      "cell_type": "code",
      "execution_count": null,
      "metadata": {
        "id": "tpBNz31ypmDb"
      },
      "outputs": [],
      "source": [
        "param_dist = {\n",
        "'n_estimators': list(range(10, 300, 5)),\n",
        "'min_samples_leaf': list(range(1, 50)),\n",
        "'max_depth': list(range(2, 30)),\n",
        "'max_features': ['auto', 'sqrt'],\n",
        "'bootstrap': [True, False]\n",
        "}"
      ]
    },
    {
      "cell_type": "code",
      "execution_count": null,
      "metadata": {
        "id": "h1bU273bpzmf"
      },
      "outputs": [],
      "source": [
        "rfc = RandomForestRegressor()\n",
        "random_search = RandomizedSearchCV(rfc, param_distributions = param_dist, n_iter = 10, scoring = 'r2', n_jobs = 1, cv = 5, verbose = 5)"
      ]
    },
    {
      "cell_type": "code",
      "execution_count": null,
      "metadata": {
        "colab": {
          "base_uri": "https://localhost:8080/"
        },
        "id": "aNEjlo8UqBZl",
        "outputId": "66aab651-1a17-4d2d-e566-5e795b3b354c"
      },
      "outputs": [
        {
          "output_type": "stream",
          "name": "stdout",
          "text": [
            "Fitting 5 folds for each of 10 candidates, totalling 50 fits\n",
            "[CV 1/5] END bootstrap=False, max_depth=13, max_features=sqrt, min_samples_leaf=7, n_estimators=185;, score=0.842 total time=   1.0s\n",
            "[CV 2/5] END bootstrap=False, max_depth=13, max_features=sqrt, min_samples_leaf=7, n_estimators=185;, score=0.847 total time=   1.0s\n",
            "[CV 3/5] END bootstrap=False, max_depth=13, max_features=sqrt, min_samples_leaf=7, n_estimators=185;, score=0.831 total time=   1.0s\n",
            "[CV 4/5] END bootstrap=False, max_depth=13, max_features=sqrt, min_samples_leaf=7, n_estimators=185;, score=0.842 total time=   1.0s\n",
            "[CV 5/5] END bootstrap=False, max_depth=13, max_features=sqrt, min_samples_leaf=7, n_estimators=185;, score=0.821 total time=   1.0s\n",
            "[CV 1/5] END bootstrap=False, max_depth=23, max_features=sqrt, min_samples_leaf=29, n_estimators=220;, score=0.785 total time=   1.0s\n",
            "[CV 2/5] END bootstrap=False, max_depth=23, max_features=sqrt, min_samples_leaf=29, n_estimators=220;, score=0.776 total time=   0.9s\n",
            "[CV 3/5] END bootstrap=False, max_depth=23, max_features=sqrt, min_samples_leaf=29, n_estimators=220;, score=0.778 total time=   1.8s\n",
            "[CV 4/5] END bootstrap=False, max_depth=23, max_features=sqrt, min_samples_leaf=29, n_estimators=220;, score=0.786 total time=   1.4s\n",
            "[CV 5/5] END bootstrap=False, max_depth=23, max_features=sqrt, min_samples_leaf=29, n_estimators=220;, score=0.765 total time=   0.9s\n",
            "[CV 1/5] END bootstrap=False, max_depth=23, max_features=sqrt, min_samples_leaf=7, n_estimators=230;, score=0.853 total time=   1.3s\n",
            "[CV 2/5] END bootstrap=False, max_depth=23, max_features=sqrt, min_samples_leaf=7, n_estimators=230;, score=0.854 total time=   1.3s\n",
            "[CV 3/5] END bootstrap=False, max_depth=23, max_features=sqrt, min_samples_leaf=7, n_estimators=230;, score=0.844 total time=   1.3s\n",
            "[CV 4/5] END bootstrap=False, max_depth=23, max_features=sqrt, min_samples_leaf=7, n_estimators=230;, score=0.852 total time=   1.3s\n",
            "[CV 5/5] END bootstrap=False, max_depth=23, max_features=sqrt, min_samples_leaf=7, n_estimators=230;, score=0.836 total time=   1.3s\n",
            "[CV 1/5] END bootstrap=False, max_depth=4, max_features=auto, min_samples_leaf=3, n_estimators=60;, score=0.729 total time=   0.6s\n",
            "[CV 2/5] END bootstrap=False, max_depth=4, max_features=auto, min_samples_leaf=3, n_estimators=60;, score=0.732 total time=   0.6s\n",
            "[CV 3/5] END bootstrap=False, max_depth=4, max_features=auto, min_samples_leaf=3, n_estimators=60;, score=0.702 total time=   0.6s\n",
            "[CV 4/5] END bootstrap=False, max_depth=4, max_features=auto, min_samples_leaf=3, n_estimators=60;, score=0.695 total time=   0.6s\n",
            "[CV 5/5] END bootstrap=False, max_depth=4, max_features=auto, min_samples_leaf=3, n_estimators=60;, score=0.708 total time=   0.6s\n",
            "[CV 1/5] END bootstrap=False, max_depth=20, max_features=auto, min_samples_leaf=28, n_estimators=65;, score=0.835 total time=   1.1s\n",
            "[CV 2/5] END bootstrap=False, max_depth=20, max_features=auto, min_samples_leaf=28, n_estimators=65;, score=0.805 total time=   1.1s\n",
            "[CV 3/5] END bootstrap=False, max_depth=20, max_features=auto, min_samples_leaf=28, n_estimators=65;, score=0.814 total time=   1.1s\n",
            "[CV 4/5] END bootstrap=False, max_depth=20, max_features=auto, min_samples_leaf=28, n_estimators=65;, score=0.803 total time=   1.1s\n",
            "[CV 5/5] END bootstrap=False, max_depth=20, max_features=auto, min_samples_leaf=28, n_estimators=65;, score=0.808 total time=   1.1s\n",
            "[CV 1/5] END bootstrap=False, max_depth=7, max_features=sqrt, min_samples_leaf=10, n_estimators=265;, score=0.756 total time=   1.0s\n",
            "[CV 2/5] END bootstrap=False, max_depth=7, max_features=sqrt, min_samples_leaf=10, n_estimators=265;, score=0.763 total time=   0.9s\n",
            "[CV 3/5] END bootstrap=False, max_depth=7, max_features=sqrt, min_samples_leaf=10, n_estimators=265;, score=0.752 total time=   0.9s\n",
            "[CV 4/5] END bootstrap=False, max_depth=7, max_features=sqrt, min_samples_leaf=10, n_estimators=265;, score=0.759 total time=   0.9s\n",
            "[CV 5/5] END bootstrap=False, max_depth=7, max_features=sqrt, min_samples_leaf=10, n_estimators=265;, score=0.743 total time=   0.9s\n",
            "[CV 1/5] END bootstrap=False, max_depth=21, max_features=auto, min_samples_leaf=23, n_estimators=210;, score=0.851 total time=   3.7s\n",
            "[CV 2/5] END bootstrap=False, max_depth=21, max_features=auto, min_samples_leaf=23, n_estimators=210;, score=0.825 total time=   3.6s\n",
            "[CV 3/5] END bootstrap=False, max_depth=21, max_features=auto, min_samples_leaf=23, n_estimators=210;, score=0.819 total time=   3.7s\n",
            "[CV 4/5] END bootstrap=False, max_depth=21, max_features=auto, min_samples_leaf=23, n_estimators=210;, score=0.815 total time=   4.4s\n",
            "[CV 5/5] END bootstrap=False, max_depth=21, max_features=auto, min_samples_leaf=23, n_estimators=210;, score=0.818 total time=   3.7s\n",
            "[CV 1/5] END bootstrap=False, max_depth=4, max_features=auto, min_samples_leaf=47, n_estimators=240;, score=0.717 total time=   2.3s\n",
            "[CV 2/5] END bootstrap=False, max_depth=4, max_features=auto, min_samples_leaf=47, n_estimators=240;, score=0.705 total time=   2.3s\n",
            "[CV 3/5] END bootstrap=False, max_depth=4, max_features=auto, min_samples_leaf=47, n_estimators=240;, score=0.709 total time=   2.3s\n",
            "[CV 4/5] END bootstrap=False, max_depth=4, max_features=auto, min_samples_leaf=47, n_estimators=240;, score=0.678 total time=   2.3s\n",
            "[CV 5/5] END bootstrap=False, max_depth=4, max_features=auto, min_samples_leaf=47, n_estimators=240;, score=0.702 total time=   2.2s\n",
            "[CV 1/5] END bootstrap=True, max_depth=7, max_features=auto, min_samples_leaf=22, n_estimators=230;, score=0.830 total time=   2.5s\n",
            "[CV 2/5] END bootstrap=True, max_depth=7, max_features=auto, min_samples_leaf=22, n_estimators=230;, score=0.803 total time=   2.5s\n",
            "[CV 3/5] END bootstrap=True, max_depth=7, max_features=auto, min_samples_leaf=22, n_estimators=230;, score=0.815 total time=   2.4s\n",
            "[CV 4/5] END bootstrap=True, max_depth=7, max_features=auto, min_samples_leaf=22, n_estimators=230;, score=0.786 total time=   2.5s\n",
            "[CV 5/5] END bootstrap=True, max_depth=7, max_features=auto, min_samples_leaf=22, n_estimators=230;, score=0.805 total time=   2.4s\n",
            "[CV 1/5] END bootstrap=False, max_depth=3, max_features=auto, min_samples_leaf=42, n_estimators=205;, score=0.630 total time=   1.6s\n",
            "[CV 2/5] END bootstrap=False, max_depth=3, max_features=auto, min_samples_leaf=42, n_estimators=205;, score=0.618 total time=   1.6s\n",
            "[CV 3/5] END bootstrap=False, max_depth=3, max_features=auto, min_samples_leaf=42, n_estimators=205;, score=0.637 total time=   1.6s\n",
            "[CV 4/5] END bootstrap=False, max_depth=3, max_features=auto, min_samples_leaf=42, n_estimators=205;, score=0.593 total time=   1.6s\n",
            "[CV 5/5] END bootstrap=False, max_depth=3, max_features=auto, min_samples_leaf=42, n_estimators=205;, score=0.622 total time=   1.6s\n"
          ]
        },
        {
          "output_type": "execute_result",
          "data": {
            "text/plain": [
              "RandomizedSearchCV(cv=5, estimator=RandomForestRegressor(), n_jobs=1,\n",
              "                   param_distributions={'bootstrap': [True, False],\n",
              "                                        'max_depth': [2, 3, 4, 5, 6, 7, 8, 9,\n",
              "                                                      10, 11, 12, 13, 14, 15,\n",
              "                                                      16, 17, 18, 19, 20, 21,\n",
              "                                                      22, 23, 24, 25, 26, 27,\n",
              "                                                      28, 29],\n",
              "                                        'max_features': ['auto', 'sqrt'],\n",
              "                                        'min_samples_leaf': [1, 2, 3, 4, 5, 6,\n",
              "                                                             7, 8, 9, 10, 11,\n",
              "                                                             12, 13, 14, 15, 16,\n",
              "                                                             17, 18, 19, 20, 21,\n",
              "                                                             22, 23, 24, 25, 26,\n",
              "                                                             27, 28, 29, 30, ...],\n",
              "                                        'n_estimators': [10, 15, 20, 25, 30, 35,\n",
              "                                                         40, 45, 50, 55, 60, 65,\n",
              "                                                         70, 75, 80, 85, 90, 95,\n",
              "                                                         100, 105, 110, 115,\n",
              "                                                         120, 125, 130, 135,\n",
              "                                                         140, 145, 150, 155, ...]},\n",
              "                   scoring='r2', verbose=5)"
            ]
          },
          "metadata": {},
          "execution_count": 151
        }
      ],
      "source": [
        "random_search.fit(x_train , y_train)"
      ]
    },
    {
      "cell_type": "code",
      "execution_count": null,
      "metadata": {
        "colab": {
          "base_uri": "https://localhost:8080/"
        },
        "id": "flA2HBCow9xP",
        "outputId": "c099944c-df4b-4f3a-b90b-dfdf4beb03f6"
      },
      "outputs": [
        {
          "output_type": "execute_result",
          "data": {
            "text/plain": [
              "RandomForestRegressor(bootstrap=False, max_depth=23, max_features='sqrt',\n",
              "                      min_samples_leaf=7, n_estimators=230)"
            ]
          },
          "metadata": {},
          "execution_count": 152
        }
      ],
      "source": [
        "random_search.best_estimator_"
      ]
    },
    {
      "cell_type": "code",
      "execution_count": null,
      "metadata": {
        "colab": {
          "base_uri": "https://localhost:8080/"
        },
        "id": "H2lBoWl5w-sl",
        "outputId": "d20d7a2d-bbea-455b-e7cf-9aee28c3c552"
      },
      "outputs": [
        {
          "output_type": "execute_result",
          "data": {
            "text/plain": [
              "{'bootstrap': False,\n",
              " 'max_depth': 23,\n",
              " 'max_features': 'sqrt',\n",
              " 'min_samples_leaf': 7,\n",
              " 'n_estimators': 230}"
            ]
          },
          "metadata": {},
          "execution_count": 153
        }
      ],
      "source": [
        "random_search.best_params_"
      ]
    },
    {
      "cell_type": "markdown",
      "metadata": {
        "id": "CBjZZxD4jxHD"
      },
      "source": [
        "Testing accuracy from RandomForestRegressor"
      ]
    },
    {
      "cell_type": "code",
      "execution_count": null,
      "metadata": {
        "colab": {
          "base_uri": "https://localhost:8080/"
        },
        "id": "hgBA-KIbxE9W",
        "outputId": "e2a08924-a7dd-41ad-b067-64050b9c8c71"
      },
      "outputs": [
        {
          "output_type": "stream",
          "name": "stdout",
          "text": [
            "The R2-score by applying tuned RandomForestRegressor is : 88.0580\n",
            "The MSLE score by applying tuned RandomForestRegressor is : 0.0222\n"
          ]
        }
      ],
      "source": [
        "preds = random_search.predict(x_test)\n",
        "testing_score = max(0 , 100 * r2_score(y_test , preds))\n",
        "msle = max(0,mean_squared_log_error(y_test,preds))\n",
        "print(f\"The R2-score by applying tuned RandomForestRegressor is : {testing_score:.4f}\")\n",
        "print(f\"The MSLE score by applying tuned RandomForestRegressor is : {msle:.4f}\")\n",
        "random_search_testing_scores.append(testing_score)\n",
        "msle_testing_scores.append(msle)"
      ]
    },
    {
      "cell_type": "markdown",
      "metadata": {
        "id": "6kPUGFpSIdNo"
      },
      "source": [
        "##Lets find the best parameter for LightGBM and tune it with hyperparameters using RandomSearch"
      ]
    },
    {
      "cell_type": "code",
      "execution_count": null,
      "metadata": {
        "id": "-23wOPiOhmY2"
      },
      "outputs": [],
      "source": [
        "params={\n",
        " \"learning_rate\"    : [0.05, 0.10, 0.15, 0.20, 0.25, 0.30 ] ,\n",
        " \"max_depth\"        : [ 3, 4, 5, 6, 8, 10, 12, 15],\n",
        " \"min_child_weight\" : [ 1, 3, 5, 7 ,9],\n",
        " \"gamma\"            : [ 0.0, 0.1, 0.2 , 0.3, 0.4 ],\n",
        " \"colsample_bytree\" : [ 0.3, 0.4, 0.5 , 0.7 ]\n",
        "}"
      ]
    },
    {
      "cell_type": "code",
      "execution_count": null,
      "metadata": {
        "id": "_3VzX3cGh2R2"
      },
      "outputs": [],
      "source": [
        "lgb = lgbm.LGBMRegressor()\n",
        "random_search = RandomizedSearchCV(lgb, param_distributions = params, n_iter = 8, scoring = 'r2', n_jobs = 1, cv = 5, verbose = 3)"
      ]
    },
    {
      "cell_type": "code",
      "execution_count": null,
      "metadata": {
        "colab": {
          "base_uri": "https://localhost:8080/"
        },
        "id": "lpsGHJRdh_H8",
        "outputId": "520b965b-63bb-4b8d-c298-b4c5e7780d31"
      },
      "outputs": [
        {
          "output_type": "stream",
          "name": "stdout",
          "text": [
            "Fitting 5 folds for each of 8 candidates, totalling 40 fits\n",
            "[CV 1/5] END colsample_bytree=0.3, gamma=0.0, learning_rate=0.15, max_depth=6, min_child_weight=7;, score=0.880 total time=   0.1s\n",
            "[CV 2/5] END colsample_bytree=0.3, gamma=0.0, learning_rate=0.15, max_depth=6, min_child_weight=7;, score=0.879 total time=   0.1s\n",
            "[CV 3/5] END colsample_bytree=0.3, gamma=0.0, learning_rate=0.15, max_depth=6, min_child_weight=7;, score=0.869 total time=   0.1s\n",
            "[CV 4/5] END colsample_bytree=0.3, gamma=0.0, learning_rate=0.15, max_depth=6, min_child_weight=7;, score=0.878 total time=   0.1s\n",
            "[CV 5/5] END colsample_bytree=0.3, gamma=0.0, learning_rate=0.15, max_depth=6, min_child_weight=7;, score=0.866 total time=   0.1s\n",
            "[CV 1/5] END colsample_bytree=0.7, gamma=0.0, learning_rate=0.05, max_depth=6, min_child_weight=1;, score=0.876 total time=   0.1s\n",
            "[CV 2/5] END colsample_bytree=0.7, gamma=0.0, learning_rate=0.05, max_depth=6, min_child_weight=1;, score=0.874 total time=   0.1s\n",
            "[CV 3/5] END colsample_bytree=0.7, gamma=0.0, learning_rate=0.05, max_depth=6, min_child_weight=1;, score=0.860 total time=   0.2s\n",
            "[CV 4/5] END colsample_bytree=0.7, gamma=0.0, learning_rate=0.05, max_depth=6, min_child_weight=1;, score=0.857 total time=   0.1s\n",
            "[CV 5/5] END colsample_bytree=0.7, gamma=0.0, learning_rate=0.05, max_depth=6, min_child_weight=1;, score=0.857 total time=   0.1s\n",
            "[CV 1/5] END colsample_bytree=0.3, gamma=0.3, learning_rate=0.1, max_depth=10, min_child_weight=1;, score=0.877 total time=   0.1s\n",
            "[CV 2/5] END colsample_bytree=0.3, gamma=0.3, learning_rate=0.1, max_depth=10, min_child_weight=1;, score=0.875 total time=   0.1s\n",
            "[CV 3/5] END colsample_bytree=0.3, gamma=0.3, learning_rate=0.1, max_depth=10, min_child_weight=1;, score=0.866 total time=   0.1s\n",
            "[CV 4/5] END colsample_bytree=0.3, gamma=0.3, learning_rate=0.1, max_depth=10, min_child_weight=1;, score=0.878 total time=   0.1s\n",
            "[CV 5/5] END colsample_bytree=0.3, gamma=0.3, learning_rate=0.1, max_depth=10, min_child_weight=1;, score=0.865 total time=   0.1s\n",
            "[CV 1/5] END colsample_bytree=0.3, gamma=0.2, learning_rate=0.2, max_depth=6, min_child_weight=3;, score=0.892 total time=   0.1s\n",
            "[CV 2/5] END colsample_bytree=0.3, gamma=0.2, learning_rate=0.2, max_depth=6, min_child_weight=3;, score=0.882 total time=   0.1s\n",
            "[CV 3/5] END colsample_bytree=0.3, gamma=0.2, learning_rate=0.2, max_depth=6, min_child_weight=3;, score=0.874 total time=   0.1s\n",
            "[CV 4/5] END colsample_bytree=0.3, gamma=0.2, learning_rate=0.2, max_depth=6, min_child_weight=3;, score=0.878 total time=   0.1s\n",
            "[CV 5/5] END colsample_bytree=0.3, gamma=0.2, learning_rate=0.2, max_depth=6, min_child_weight=3;, score=0.872 total time=   0.1s\n",
            "[CV 1/5] END colsample_bytree=0.7, gamma=0.4, learning_rate=0.3, max_depth=5, min_child_weight=9;, score=0.903 total time=   0.1s\n",
            "[CV 2/5] END colsample_bytree=0.7, gamma=0.4, learning_rate=0.3, max_depth=5, min_child_weight=9;, score=0.895 total time=   0.1s\n",
            "[CV 3/5] END colsample_bytree=0.7, gamma=0.4, learning_rate=0.3, max_depth=5, min_child_weight=9;, score=0.891 total time=   0.1s\n",
            "[CV 4/5] END colsample_bytree=0.7, gamma=0.4, learning_rate=0.3, max_depth=5, min_child_weight=9;, score=0.888 total time=   0.1s\n",
            "[CV 5/5] END colsample_bytree=0.7, gamma=0.4, learning_rate=0.3, max_depth=5, min_child_weight=9;, score=0.883 total time=   0.1s\n",
            "[CV 1/5] END colsample_bytree=0.7, gamma=0.4, learning_rate=0.05, max_depth=12, min_child_weight=7;, score=0.882 total time=   0.2s\n",
            "[CV 2/5] END colsample_bytree=0.7, gamma=0.4, learning_rate=0.05, max_depth=12, min_child_weight=7;, score=0.880 total time=   0.2s\n",
            "[CV 3/5] END colsample_bytree=0.7, gamma=0.4, learning_rate=0.05, max_depth=12, min_child_weight=7;, score=0.872 total time=   0.2s\n",
            "[CV 4/5] END colsample_bytree=0.7, gamma=0.4, learning_rate=0.05, max_depth=12, min_child_weight=7;, score=0.868 total time=   0.2s\n",
            "[CV 5/5] END colsample_bytree=0.7, gamma=0.4, learning_rate=0.05, max_depth=12, min_child_weight=7;, score=0.863 total time=   0.2s\n",
            "[CV 1/5] END colsample_bytree=0.7, gamma=0.3, learning_rate=0.2, max_depth=15, min_child_weight=9;, score=0.915 total time=   0.1s\n",
            "[CV 2/5] END colsample_bytree=0.7, gamma=0.3, learning_rate=0.2, max_depth=15, min_child_weight=9;, score=0.903 total time=   0.1s\n",
            "[CV 3/5] END colsample_bytree=0.7, gamma=0.3, learning_rate=0.2, max_depth=15, min_child_weight=9;, score=0.898 total time=   0.1s\n",
            "[CV 4/5] END colsample_bytree=0.7, gamma=0.3, learning_rate=0.2, max_depth=15, min_child_weight=9;, score=0.901 total time=   0.2s\n",
            "[CV 5/5] END colsample_bytree=0.7, gamma=0.3, learning_rate=0.2, max_depth=15, min_child_weight=9;, score=0.889 total time=   0.1s\n",
            "[CV 1/5] END colsample_bytree=0.3, gamma=0.0, learning_rate=0.2, max_depth=8, min_child_weight=9;, score=0.895 total time=   0.1s\n",
            "[CV 2/5] END colsample_bytree=0.3, gamma=0.0, learning_rate=0.2, max_depth=8, min_child_weight=9;, score=0.889 total time=   0.1s\n",
            "[CV 3/5] END colsample_bytree=0.3, gamma=0.0, learning_rate=0.2, max_depth=8, min_child_weight=9;, score=0.876 total time=   0.1s\n",
            "[CV 4/5] END colsample_bytree=0.3, gamma=0.0, learning_rate=0.2, max_depth=8, min_child_weight=9;, score=0.883 total time=   0.1s\n",
            "[CV 5/5] END colsample_bytree=0.3, gamma=0.0, learning_rate=0.2, max_depth=8, min_child_weight=9;, score=0.878 total time=   0.1s\n"
          ]
        },
        {
          "output_type": "execute_result",
          "data": {
            "text/plain": [
              "RandomizedSearchCV(cv=5, estimator=LGBMRegressor(), n_iter=8, n_jobs=1,\n",
              "                   param_distributions={'colsample_bytree': [0.3, 0.4, 0.5,\n",
              "                                                             0.7],\n",
              "                                        'gamma': [0.0, 0.1, 0.2, 0.3, 0.4],\n",
              "                                        'learning_rate': [0.05, 0.1, 0.15, 0.2,\n",
              "                                                          0.25, 0.3],\n",
              "                                        'max_depth': [3, 4, 5, 6, 8, 10, 12,\n",
              "                                                      15],\n",
              "                                        'min_child_weight': [1, 3, 5, 7, 9]},\n",
              "                   scoring='r2', verbose=3)"
            ]
          },
          "metadata": {},
          "execution_count": 157
        }
      ],
      "source": [
        "random_search.fit(x_train , y_train)"
      ]
    },
    {
      "cell_type": "code",
      "execution_count": null,
      "metadata": {
        "colab": {
          "base_uri": "https://localhost:8080/"
        },
        "id": "BmI4CR9miDuC",
        "outputId": "46a141e8-d8b7-4c55-8cd7-cb3e88a0e345"
      },
      "outputs": [
        {
          "output_type": "execute_result",
          "data": {
            "text/plain": [
              "LGBMRegressor(colsample_bytree=0.7, gamma=0.3, learning_rate=0.2, max_depth=15,\n",
              "              min_child_weight=9)"
            ]
          },
          "metadata": {},
          "execution_count": 158
        }
      ],
      "source": [
        "random_search.best_estimator_"
      ]
    },
    {
      "cell_type": "code",
      "execution_count": null,
      "metadata": {
        "colab": {
          "base_uri": "https://localhost:8080/"
        },
        "id": "E6e5UrhMiFbE",
        "outputId": "72b1b4df-5e4a-42da-fab9-f639566321f5"
      },
      "outputs": [
        {
          "output_type": "execute_result",
          "data": {
            "text/plain": [
              "{'colsample_bytree': 0.7,\n",
              " 'gamma': 0.3,\n",
              " 'learning_rate': 0.2,\n",
              " 'max_depth': 15,\n",
              " 'min_child_weight': 9}"
            ]
          },
          "metadata": {},
          "execution_count": 159
        }
      ],
      "source": [
        "random_search.best_params_"
      ]
    },
    {
      "cell_type": "markdown",
      "metadata": {
        "id": "8Mxv5VxRj3bW"
      },
      "source": [
        "Testing accuracy from LGBMRegressor"
      ]
    },
    {
      "cell_type": "code",
      "execution_count": null,
      "metadata": {
        "colab": {
          "base_uri": "https://localhost:8080/"
        },
        "id": "SenuIXC7iHxd",
        "outputId": "b3256391-5a0f-4ddd-d5af-bcdfe1c55993"
      },
      "outputs": [
        {
          "output_type": "stream",
          "name": "stdout",
          "text": [
            "The testing score by applying tuned LGBMRegressor is : 92.7011\n",
            "The MSLE score by applying tuned RandomForestRegressor is : 0.0154\n"
          ]
        }
      ],
      "source": [
        "preds = random_search.predict(x_test)\n",
        "testing_score = max(0 , 100 * r2_score(y_test , preds))\n",
        "msle = max(0,mean_squared_log_error(y_test,preds))\n",
        "print(f\"The testing score by applying tuned LGBMRegressor is : {testing_score:.4f}\")\n",
        "print(f\"The MSLE score by applying tuned RandomForestRegressor is : {msle:.4f}\")\n",
        "random_search_testing_scores.append(testing_score)\n",
        "msle_testing_scores.append(msle)"
      ]
    },
    {
      "cell_type": "markdown",
      "metadata": {
        "id": "GukJRgBekA5i"
      },
      "source": [
        "##Lets find the best parameter for LightGBM and tune it with hyperparameters using RandomSearch"
      ]
    },
    {
      "cell_type": "code",
      "execution_count": null,
      "metadata": {
        "id": "FDl5fCwjkCXq"
      },
      "outputs": [],
      "source": [
        "params={\n",
        " \"learning_rate\"    : [0.05, 0.10, 0.15, 0.20, 0.25, 0.30 ] ,\n",
        " \"max_depth\"        : [ 3, 4, 5, 6, 8, 10, 12, 15],\n",
        " \"min_child_weight\" : [ 1, 3, 5, 7 ,9],\n",
        " \"gamma\"            : [ 0.0, 0.1, 0.2 , 0.3, 0.4 ],\n",
        " \"colsample_bytree\" : [ 0.3, 0.4, 0.5 , 0.7 ]\n",
        "}"
      ]
    },
    {
      "cell_type": "code",
      "execution_count": null,
      "metadata": {
        "id": "46ncWP6ykJXg"
      },
      "outputs": [],
      "source": [
        "xgb = XGBRegressor()\n",
        "random_search = RandomizedSearchCV(xgb, param_distributions = params, n_iter = 8, scoring = 'r2', n_jobs = 1, cv = 5, verbose = 3)"
      ]
    },
    {
      "cell_type": "code",
      "execution_count": null,
      "metadata": {
        "colab": {
          "base_uri": "https://localhost:8080/"
        },
        "id": "7NWoA2dikSEi",
        "outputId": "ba64e2a4-56ea-477d-a9b6-a43b047034ab"
      },
      "outputs": [
        {
          "output_type": "stream",
          "name": "stdout",
          "text": [
            "Fitting 5 folds for each of 8 candidates, totalling 40 fits\n",
            "[07:24:40] WARNING: /workspace/src/objective/regression_obj.cu:152: reg:linear is now deprecated in favor of reg:squarederror.\n",
            "[CV 1/5] END colsample_bytree=0.5, gamma=0.1, learning_rate=0.1, max_depth=8, min_child_weight=1;, score=0.920 total time=   1.1s\n",
            "[07:24:41] WARNING: /workspace/src/objective/regression_obj.cu:152: reg:linear is now deprecated in favor of reg:squarederror.\n",
            "[CV 2/5] END colsample_bytree=0.5, gamma=0.1, learning_rate=0.1, max_depth=8, min_child_weight=1;, score=0.910 total time=   1.1s\n",
            "[07:24:42] WARNING: /workspace/src/objective/regression_obj.cu:152: reg:linear is now deprecated in favor of reg:squarederror.\n",
            "[CV 3/5] END colsample_bytree=0.5, gamma=0.1, learning_rate=0.1, max_depth=8, min_child_weight=1;, score=0.911 total time=   1.1s\n",
            "[07:24:43] WARNING: /workspace/src/objective/regression_obj.cu:152: reg:linear is now deprecated in favor of reg:squarederror.\n",
            "[CV 4/5] END colsample_bytree=0.5, gamma=0.1, learning_rate=0.1, max_depth=8, min_child_weight=1;, score=0.912 total time=   1.1s\n",
            "[07:24:44] WARNING: /workspace/src/objective/regression_obj.cu:152: reg:linear is now deprecated in favor of reg:squarederror.\n",
            "[CV 5/5] END colsample_bytree=0.5, gamma=0.1, learning_rate=0.1, max_depth=8, min_child_weight=1;, score=0.895 total time=   1.1s\n",
            "[07:24:45] WARNING: /workspace/src/objective/regression_obj.cu:152: reg:linear is now deprecated in favor of reg:squarederror.\n",
            "[CV 1/5] END colsample_bytree=0.3, gamma=0.2, learning_rate=0.1, max_depth=12, min_child_weight=3;, score=0.915 total time=   1.2s\n",
            "[07:24:47] WARNING: /workspace/src/objective/regression_obj.cu:152: reg:linear is now deprecated in favor of reg:squarederror.\n",
            "[CV 2/5] END colsample_bytree=0.3, gamma=0.2, learning_rate=0.1, max_depth=12, min_child_weight=3;, score=0.902 total time=   1.2s\n",
            "[07:24:48] WARNING: /workspace/src/objective/regression_obj.cu:152: reg:linear is now deprecated in favor of reg:squarederror.\n",
            "[CV 3/5] END colsample_bytree=0.3, gamma=0.2, learning_rate=0.1, max_depth=12, min_child_weight=3;, score=0.891 total time=   1.2s\n",
            "[07:24:49] WARNING: /workspace/src/objective/regression_obj.cu:152: reg:linear is now deprecated in favor of reg:squarederror.\n",
            "[CV 4/5] END colsample_bytree=0.3, gamma=0.2, learning_rate=0.1, max_depth=12, min_child_weight=3;, score=0.902 total time=   1.2s\n",
            "[07:24:50] WARNING: /workspace/src/objective/regression_obj.cu:152: reg:linear is now deprecated in favor of reg:squarederror.\n",
            "[CV 5/5] END colsample_bytree=0.3, gamma=0.2, learning_rate=0.1, max_depth=12, min_child_weight=3;, score=0.892 total time=   1.2s\n",
            "[07:24:51] WARNING: /workspace/src/objective/regression_obj.cu:152: reg:linear is now deprecated in favor of reg:squarederror.\n",
            "[CV 1/5] END colsample_bytree=0.5, gamma=0.0, learning_rate=0.2, max_depth=12, min_child_weight=5;, score=0.919 total time=   1.6s\n",
            "[07:24:53] WARNING: /workspace/src/objective/regression_obj.cu:152: reg:linear is now deprecated in favor of reg:squarederror.\n",
            "[CV 2/5] END colsample_bytree=0.5, gamma=0.0, learning_rate=0.2, max_depth=12, min_child_weight=5;, score=0.909 total time=   1.6s\n",
            "[07:24:54] WARNING: /workspace/src/objective/regression_obj.cu:152: reg:linear is now deprecated in favor of reg:squarederror.\n",
            "[CV 3/5] END colsample_bytree=0.5, gamma=0.0, learning_rate=0.2, max_depth=12, min_child_weight=5;, score=0.906 total time=   1.6s\n",
            "[07:24:56] WARNING: /workspace/src/objective/regression_obj.cu:152: reg:linear is now deprecated in favor of reg:squarederror.\n",
            "[CV 4/5] END colsample_bytree=0.5, gamma=0.0, learning_rate=0.2, max_depth=12, min_child_weight=5;, score=0.899 total time=   1.6s\n",
            "[07:24:58] WARNING: /workspace/src/objective/regression_obj.cu:152: reg:linear is now deprecated in favor of reg:squarederror.\n",
            "[CV 5/5] END colsample_bytree=0.5, gamma=0.0, learning_rate=0.2, max_depth=12, min_child_weight=5;, score=0.899 total time=   1.6s\n",
            "[07:24:59] WARNING: /workspace/src/objective/regression_obj.cu:152: reg:linear is now deprecated in favor of reg:squarederror.\n",
            "[CV 1/5] END colsample_bytree=0.3, gamma=0.1, learning_rate=0.3, max_depth=3, min_child_weight=7;, score=0.857 total time=   0.4s\n",
            "[07:25:00] WARNING: /workspace/src/objective/regression_obj.cu:152: reg:linear is now deprecated in favor of reg:squarederror.\n",
            "[CV 2/5] END colsample_bytree=0.3, gamma=0.1, learning_rate=0.3, max_depth=3, min_child_weight=7;, score=0.857 total time=   0.3s\n",
            "[07:25:00] WARNING: /workspace/src/objective/regression_obj.cu:152: reg:linear is now deprecated in favor of reg:squarederror.\n",
            "[CV 3/5] END colsample_bytree=0.3, gamma=0.1, learning_rate=0.3, max_depth=3, min_child_weight=7;, score=0.843 total time=   0.4s\n",
            "[07:25:00] WARNING: /workspace/src/objective/regression_obj.cu:152: reg:linear is now deprecated in favor of reg:squarederror.\n",
            "[CV 4/5] END colsample_bytree=0.3, gamma=0.1, learning_rate=0.3, max_depth=3, min_child_weight=7;, score=0.841 total time=   0.4s\n",
            "[07:25:01] WARNING: /workspace/src/objective/regression_obj.cu:152: reg:linear is now deprecated in favor of reg:squarederror.\n",
            "[CV 5/5] END colsample_bytree=0.3, gamma=0.1, learning_rate=0.3, max_depth=3, min_child_weight=7;, score=0.840 total time=   0.4s\n",
            "[07:25:01] WARNING: /workspace/src/objective/regression_obj.cu:152: reg:linear is now deprecated in favor of reg:squarederror.\n",
            "[CV 1/5] END colsample_bytree=0.3, gamma=0.4, learning_rate=0.05, max_depth=4, min_child_weight=3;, score=0.818 total time=   0.4s\n",
            "[07:25:01] WARNING: /workspace/src/objective/regression_obj.cu:152: reg:linear is now deprecated in favor of reg:squarederror.\n",
            "[CV 2/5] END colsample_bytree=0.3, gamma=0.4, learning_rate=0.05, max_depth=4, min_child_weight=3;, score=0.818 total time=   0.4s\n",
            "[07:25:02] WARNING: /workspace/src/objective/regression_obj.cu:152: reg:linear is now deprecated in favor of reg:squarederror.\n",
            "[CV 3/5] END colsample_bytree=0.3, gamma=0.4, learning_rate=0.05, max_depth=4, min_child_weight=3;, score=0.808 total time=   0.4s\n",
            "[07:25:02] WARNING: /workspace/src/objective/regression_obj.cu:152: reg:linear is now deprecated in favor of reg:squarederror.\n",
            "[CV 4/5] END colsample_bytree=0.3, gamma=0.4, learning_rate=0.05, max_depth=4, min_child_weight=3;, score=0.811 total time=   0.4s\n",
            "[07:25:03] WARNING: /workspace/src/objective/regression_obj.cu:152: reg:linear is now deprecated in favor of reg:squarederror.\n",
            "[CV 5/5] END colsample_bytree=0.3, gamma=0.4, learning_rate=0.05, max_depth=4, min_child_weight=3;, score=0.802 total time=   0.4s\n",
            "[07:25:03] WARNING: /workspace/src/objective/regression_obj.cu:152: reg:linear is now deprecated in favor of reg:squarederror.\n",
            "[CV 1/5] END colsample_bytree=0.3, gamma=0.0, learning_rate=0.15, max_depth=15, min_child_weight=3;, score=0.919 total time=   1.4s\n",
            "[07:25:05] WARNING: /workspace/src/objective/regression_obj.cu:152: reg:linear is now deprecated in favor of reg:squarederror.\n",
            "[CV 2/5] END colsample_bytree=0.3, gamma=0.0, learning_rate=0.15, max_depth=15, min_child_weight=3;, score=0.903 total time=   1.4s\n",
            "[07:25:06] WARNING: /workspace/src/objective/regression_obj.cu:152: reg:linear is now deprecated in favor of reg:squarederror.\n",
            "[CV 3/5] END colsample_bytree=0.3, gamma=0.0, learning_rate=0.15, max_depth=15, min_child_weight=3;, score=0.892 total time=   1.4s\n",
            "[07:25:08] WARNING: /workspace/src/objective/regression_obj.cu:152: reg:linear is now deprecated in favor of reg:squarederror.\n",
            "[CV 4/5] END colsample_bytree=0.3, gamma=0.0, learning_rate=0.15, max_depth=15, min_child_weight=3;, score=0.900 total time=   1.4s\n",
            "[07:25:09] WARNING: /workspace/src/objective/regression_obj.cu:152: reg:linear is now deprecated in favor of reg:squarederror.\n",
            "[CV 5/5] END colsample_bytree=0.3, gamma=0.0, learning_rate=0.15, max_depth=15, min_child_weight=3;, score=0.888 total time=   2.4s\n",
            "[07:25:11] WARNING: /workspace/src/objective/regression_obj.cu:152: reg:linear is now deprecated in favor of reg:squarederror.\n",
            "[CV 1/5] END colsample_bytree=0.5, gamma=0.2, learning_rate=0.3, max_depth=10, min_child_weight=9;, score=0.921 total time=   1.3s\n",
            "[07:25:13] WARNING: /workspace/src/objective/regression_obj.cu:152: reg:linear is now deprecated in favor of reg:squarederror.\n",
            "[CV 2/5] END colsample_bytree=0.5, gamma=0.2, learning_rate=0.3, max_depth=10, min_child_weight=9;, score=0.906 total time=   1.3s\n",
            "[07:25:14] WARNING: /workspace/src/objective/regression_obj.cu:152: reg:linear is now deprecated in favor of reg:squarederror.\n",
            "[CV 3/5] END colsample_bytree=0.5, gamma=0.2, learning_rate=0.3, max_depth=10, min_child_weight=9;, score=0.900 total time=   1.3s\n",
            "[07:25:15] WARNING: /workspace/src/objective/regression_obj.cu:152: reg:linear is now deprecated in favor of reg:squarederror.\n",
            "[CV 4/5] END colsample_bytree=0.5, gamma=0.2, learning_rate=0.3, max_depth=10, min_child_weight=9;, score=0.903 total time=   1.3s\n",
            "[07:25:17] WARNING: /workspace/src/objective/regression_obj.cu:152: reg:linear is now deprecated in favor of reg:squarederror.\n",
            "[CV 5/5] END colsample_bytree=0.5, gamma=0.2, learning_rate=0.3, max_depth=10, min_child_weight=9;, score=0.892 total time=   1.3s\n",
            "[07:25:18] WARNING: /workspace/src/objective/regression_obj.cu:152: reg:linear is now deprecated in favor of reg:squarederror.\n",
            "[CV 1/5] END colsample_bytree=0.7, gamma=0.2, learning_rate=0.25, max_depth=15, min_child_weight=3;, score=0.921 total time=   2.7s\n",
            "[07:25:21] WARNING: /workspace/src/objective/regression_obj.cu:152: reg:linear is now deprecated in favor of reg:squarederror.\n",
            "[CV 2/5] END colsample_bytree=0.7, gamma=0.2, learning_rate=0.25, max_depth=15, min_child_weight=3;, score=0.897 total time=   2.6s\n",
            "[07:25:23] WARNING: /workspace/src/objective/regression_obj.cu:152: reg:linear is now deprecated in favor of reg:squarederror.\n",
            "[CV 3/5] END colsample_bytree=0.7, gamma=0.2, learning_rate=0.25, max_depth=15, min_child_weight=3;, score=0.904 total time=   2.6s\n",
            "[07:25:26] WARNING: /workspace/src/objective/regression_obj.cu:152: reg:linear is now deprecated in favor of reg:squarederror.\n",
            "[CV 4/5] END colsample_bytree=0.7, gamma=0.2, learning_rate=0.25, max_depth=15, min_child_weight=3;, score=0.894 total time=   2.7s\n",
            "[07:25:29] WARNING: /workspace/src/objective/regression_obj.cu:152: reg:linear is now deprecated in favor of reg:squarederror.\n",
            "[CV 5/5] END colsample_bytree=0.7, gamma=0.2, learning_rate=0.25, max_depth=15, min_child_weight=3;, score=0.892 total time=   2.7s\n",
            "[07:25:31] WARNING: /workspace/src/objective/regression_obj.cu:152: reg:linear is now deprecated in favor of reg:squarederror.\n"
          ]
        },
        {
          "output_type": "execute_result",
          "data": {
            "text/plain": [
              "RandomizedSearchCV(cv=5, estimator=XGBRegressor(), n_iter=8, n_jobs=1,\n",
              "                   param_distributions={'colsample_bytree': [0.3, 0.4, 0.5,\n",
              "                                                             0.7],\n",
              "                                        'gamma': [0.0, 0.1, 0.2, 0.3, 0.4],\n",
              "                                        'learning_rate': [0.05, 0.1, 0.15, 0.2,\n",
              "                                                          0.25, 0.3],\n",
              "                                        'max_depth': [3, 4, 5, 6, 8, 10, 12,\n",
              "                                                      15],\n",
              "                                        'min_child_weight': [1, 3, 5, 7, 9]},\n",
              "                   scoring='r2', verbose=3)"
            ]
          },
          "metadata": {},
          "execution_count": 163
        }
      ],
      "source": [
        "random_search.fit(x_train , y_train)"
      ]
    },
    {
      "cell_type": "code",
      "execution_count": null,
      "metadata": {
        "colab": {
          "base_uri": "https://localhost:8080/"
        },
        "id": "_jNNaWurkd0N",
        "outputId": "3f159740-3834-444d-f535-26f5d79af636"
      },
      "outputs": [
        {
          "output_type": "execute_result",
          "data": {
            "text/plain": [
              "XGBRegressor(colsample_bytree=0.5, gamma=0.1, max_depth=8)"
            ]
          },
          "metadata": {},
          "execution_count": 164
        }
      ],
      "source": [
        "random_search.best_estimator_"
      ]
    },
    {
      "cell_type": "code",
      "execution_count": null,
      "metadata": {
        "colab": {
          "base_uri": "https://localhost:8080/"
        },
        "id": "0UH4DyhAkgQn",
        "outputId": "de784c6a-4e92-475d-a365-55682ada64b6"
      },
      "outputs": [
        {
          "output_type": "execute_result",
          "data": {
            "text/plain": [
              "{'colsample_bytree': 0.5,\n",
              " 'gamma': 0.1,\n",
              " 'learning_rate': 0.1,\n",
              " 'max_depth': 8,\n",
              " 'min_child_weight': 1}"
            ]
          },
          "metadata": {},
          "execution_count": 165
        }
      ],
      "source": [
        "random_search.best_params_"
      ]
    },
    {
      "cell_type": "code",
      "execution_count": null,
      "metadata": {
        "colab": {
          "base_uri": "https://localhost:8080/"
        },
        "id": "R_Xz8-aEkjrk",
        "outputId": "8c006646-e1e8-4a43-a0f3-8a708a228db3"
      },
      "outputs": [
        {
          "output_type": "stream",
          "name": "stdout",
          "text": [
            "The testing score by applying tuned XGBrRegressor is : 93.6263\n",
            "The MSLE score by applying tuned RandomForestRegressor is : 0.0137\n"
          ]
        }
      ],
      "source": [
        "preds = random_search.predict(x_test)\n",
        "testing_score = max(0 , 100 * r2_score(y_test , preds))\n",
        "msle = max(0,mean_squared_log_error(y_test,preds))\n",
        "print(f\"The testing score by applying tuned XGBrRegressor is : {testing_score:.4f}\")\n",
        "print(f\"The MSLE score by applying tuned RandomForestRegressor is : {msle:.4f}\")\n",
        "random_search_testing_scores.append(testing_score)\n",
        "msle_testing_scores.append(msle)"
      ]
    },
    {
      "cell_type": "markdown",
      "source": [
        "##Comparing all three models"
      ],
      "metadata": {
        "id": "Om1_vy-6ztn0"
      }
    },
    {
      "cell_type": "code",
      "execution_count": null,
      "metadata": {
        "colab": {
          "base_uri": "https://localhost:8080/",
          "height": 143
        },
        "id": "bC2Agmc9l2F6",
        "outputId": "55623564-5b13-47ea-e72b-a4030d4525ae"
      },
      "outputs": [
        {
          "output_type": "execute_result",
          "data": {
            "text/plain": [
              "<pandas.io.formats.style.Styler at 0x7fe0f7883ed0>"
            ],
            "text/html": [
              "<style type=\"text/css\">\n",
              "#T_19ce5_row0_col1, #T_19ce5_row2_col2 {\n",
              "  background-color: #fff7fb;\n",
              "  color: #000000;\n",
              "}\n",
              "#T_19ce5_row0_col2 {\n",
              "  background-color: #75a9cf;\n",
              "  color: #f1f1f1;\n",
              "}\n",
              "#T_19ce5_row1_col1 {\n",
              "  background-color: #96b6d7;\n",
              "  color: #000000;\n",
              "}\n",
              "#T_19ce5_row1_col2 {\n",
              "  background-color: #f0eaf4;\n",
              "  color: #000000;\n",
              "}\n",
              "#T_19ce5_row2_col1 {\n",
              "  background-color: #73a9cf;\n",
              "  color: #f1f1f1;\n",
              "}\n",
              "</style>\n",
              "<table id=\"T_19ce5_\" class=\"dataframe\">\n",
              "  <thead>\n",
              "    <tr>\n",
              "      <th class=\"blank level0\" >&nbsp;</th>\n",
              "      <th class=\"col_heading level0 col0\" >Model</th>\n",
              "      <th class=\"col_heading level0 col1\" >R2-score</th>\n",
              "      <th class=\"col_heading level0 col2\" >MSLE</th>\n",
              "    </tr>\n",
              "  </thead>\n",
              "  <tbody>\n",
              "    <tr>\n",
              "      <th id=\"T_19ce5_level0_row0\" class=\"row_heading level0 row0\" >0</th>\n",
              "      <td id=\"T_19ce5_row0_col0\" class=\"data row0 col0\" >RandomForestRegressor</td>\n",
              "      <td id=\"T_19ce5_row0_col1\" class=\"data row0 col1\" >88.058049</td>\n",
              "      <td id=\"T_19ce5_row0_col2\" class=\"data row0 col2\" >0.022243</td>\n",
              "    </tr>\n",
              "    <tr>\n",
              "      <th id=\"T_19ce5_level0_row1\" class=\"row_heading level0 row1\" >1</th>\n",
              "      <td id=\"T_19ce5_row1_col0\" class=\"data row1 col0\" >LightGBM</td>\n",
              "      <td id=\"T_19ce5_row1_col1\" class=\"data row1 col1\" >92.701052</td>\n",
              "      <td id=\"T_19ce5_row1_col2\" class=\"data row1 col2\" >0.015446</td>\n",
              "    </tr>\n",
              "    <tr>\n",
              "      <th id=\"T_19ce5_level0_row2\" class=\"row_heading level0 row2\" >2</th>\n",
              "      <td id=\"T_19ce5_row2_col0\" class=\"data row2 col0\" >XGBRegressor</td>\n",
              "      <td id=\"T_19ce5_row2_col1\" class=\"data row2 col1\" >93.626330</td>\n",
              "      <td id=\"T_19ce5_row2_col2\" class=\"data row2 col2\" >0.013747</td>\n",
              "    </tr>\n",
              "  </tbody>\n",
              "</table>\n"
            ]
          },
          "metadata": {},
          "execution_count": 167
        }
      ],
      "source": [
        "final_testing_score = pd.DataFrame({'Model': ['RandomForestRegressor','LightGBM','XGBRegressor'], 'R2-score': random_search_testing_scores, 'MSLE':msle_testing_scores})\n",
        "final_testing_score.style.background_gradient(high=1,axis=0)"
      ]
    },
    {
      "cell_type": "code",
      "execution_count": null,
      "metadata": {
        "colab": {
          "base_uri": "https://localhost:8080/",
          "height": 350
        },
        "id": "s86OT_IXnRma",
        "outputId": "a4e38516-60fb-4e50-eed4-887ad1447cc0"
      },
      "outputs": [
        {
          "output_type": "display_data",
          "data": {
            "text/plain": [
              "<Figure size 720x360 with 1 Axes>"
            ],
            "image/png": "[encoded data removed]"
          },
          "metadata": {
            "needs_background": "light"
          }
        }
      ],
      "source": [
        "plt.figure(figsize = (10 , 5))\n",
        "sns.barplot(y = \"Model\" , x = \"R2-score\" , data = final_testing_score)\n",
        "plt.title(\"Model Comparision based on Testing Score based on R2- score\");"
      ]
    },
    {
      "cell_type": "code",
      "source": [
        "plt.figure(figsize = (10 , 5))\n",
        "sns.barplot(y = \"Model\" , x = \"MSLE\" , data = final_testing_score)\n",
        "plt.title(\"Model Comparision based on MSLE\");"
      ],
      "metadata": {
        "colab": {
          "base_uri": "https://localhost:8080/",
          "height": 350
        },
        "id": "DiCzpGx45fcY",
        "outputId": "44acef33-9272-4fda-acc1-457e80708fbf"
      },
      "execution_count": null,
      "outputs": [
        {
          "output_type": "display_data",
          "data": {
            "text/plain": [
              "<Figure size 720x360 with 1 Axes>"
            ],
            "image/png": "[encoded data removed]"
          },
          "metadata": {
            "needs_background": "light"
          }
        }
      ]
    },
    {
      "cell_type": "markdown",
      "metadata": {
        "id": "J9dU9H59tYC-"
      },
      "source": [
        "#**Applying PCA on dataset**"
      ]
    },
    {
      "cell_type": "code",
      "execution_count": null,
      "metadata": {
        "colab": {
          "base_uri": "https://localhost:8080/"
        },
        "id": "quc482xmtb-s",
        "outputId": "50476a40-3ed7-4e8b-eeb5-f192fa8a8377"
      },
      "outputs": [
        {
          "output_type": "execute_result",
          "data": {
            "text/plain": [
              "PCA()"
            ]
          },
          "metadata": {},
          "execution_count": 170
        }
      ],
      "source": [
        "pca = PCA()\n",
        "pca.fit(X)"
      ]
    },
    {
      "cell_type": "code",
      "execution_count": null,
      "metadata": {
        "colab": {
          "base_uri": "https://localhost:8080/",
          "height": 312
        },
        "id": "d7zB2OvXtrWC",
        "outputId": "b8b24452-2782-4b69-eb03-94ce6fc925b7"
      },
      "outputs": [
        {
          "output_type": "execute_result",
          "data": {
            "text/plain": [
              "Text(0.5, 1.0, 'PCA visualisation')"
            ]
          },
          "metadata": {},
          "execution_count": 171
        },
        {
          "output_type": "display_data",
          "data": {
            "text/plain": [
              "<Figure size 432x288 with 1 Axes>"
            ],
            "image/png": "[encoded data removed]"
          },
          "metadata": {
            "needs_background": "light"
          }
        }
      ],
      "source": [
        "pca_components = list(pca.explained_variance_ratio_)\n",
        "total_components = list(range(0,X.shape[1]))\n",
        "plt.bar(total_components, pca_components)\n",
        "plt.xlabel(\"PCA components\")\n",
        "plt.ylabel(\"Amount of variance\")\n",
        "plt.title(\"PCA visualisation\")"
      ]
    },
    {
      "cell_type": "markdown",
      "metadata": {
        "id": "THrgzSxCutyI"
      },
      "source": [
        "From the above graph it is confirmed that first two principle components contributes to the most of variance. Hence lets see the exact value of variance which we are able to capture by taking first two PCA's."
      ]
    },
    {
      "cell_type": "code",
      "execution_count": null,
      "metadata": {
        "colab": {
          "base_uri": "https://localhost:8080/",
          "height": 321
        },
        "id": "CcLFf6rcvA6o",
        "outputId": "dfb85af3-7602-4147-a2bc-03f3330c5a17"
      },
      "outputs": [
        {
          "output_type": "execute_result",
          "data": {
            "text/plain": [
              "Text(0.5, 1.0, 'PCA visualisation')"
            ]
          },
          "metadata": {},
          "execution_count": 172
        },
        {
          "output_type": "display_data",
          "data": {
            "text/plain": [
              "<Figure size 432x288 with 1 Axes>"
            ],
            "image/png": "[encoded data removed]"
          },
          "metadata": {
            "needs_background": "light"
          }
        }
      ],
      "source": [
        "normalised_variance_of_pca = []\n",
        "normalised_variance_of_pca.append(pca_components[0])\n",
        "for i in range(1,len(pca_components)):\n",
        "  normalised_variance_of_pca.append(normalised_variance_of_pca[i-1] + pca_components[i])\n",
        "plt.bar(total_components, normalised_variance_of_pca)\n",
        "plt.xlabel(\"PCA components\")\n",
        "plt.ylabel(\"Total amount of variance by taking these much PCA'S\")\n",
        "plt.title(\"PCA visualisation\")"
      ]
    },
    {
      "cell_type": "code",
      "execution_count": null,
      "metadata": {
        "colab": {
          "base_uri": "https://localhost:8080/"
        },
        "id": "KatsSC3Jv4oK",
        "outputId": "730d0819-7d20-4772-9f29-5620db0288e8"
      },
      "outputs": [
        {
          "output_type": "execute_result",
          "data": {
            "text/plain": [
              "[0.6150931884633992,\n",
              " 0.9227688920767105,\n",
              " 0.9602310603666079,\n",
              " 0.9663199775205772,\n",
              " 0.9718328286911916,\n",
              " 0.9767069146086225,\n",
              " 0.9813174537856075,\n",
              " 0.9853711373123951,\n",
              " 0.9888217871626862,\n",
              " 0.9913757581208954,\n",
              " 0.9933422187477721,\n",
              " 0.9950545815768501,\n",
              " 0.9957948950860552,\n",
              " 0.9964562357173996,\n",
              " 0.9970483307270039,\n",
              " 0.9975974330597096,\n",
              " 0.9980586649128226,\n",
              " 0.9984865292950968,\n",
              " 0.998871960323814,\n",
              " 0.9991757122842385,\n",
              " 0.999469235721406,\n",
              " 0.9996893173106719,\n",
              " 0.9997920846928092,\n",
              " 0.9998819541044754,\n",
              " 0.9999581837461328,\n",
              " 0.9999774930864805,\n",
              " 0.9999838213876407,\n",
              " 0.9999892320201136,\n",
              " 0.9999926591950842,\n",
              " 0.9999947703881308,\n",
              " 0.999996084686832,\n",
              " 0.999997199975419,\n",
              " 0.9999979491645429,\n",
              " 0.9999983931487021,\n",
              " 0.9999988359567765,\n",
              " 0.9999992758561559,\n",
              " 0.9999996447443406,\n",
              " 1.0,\n",
              " 1.0,\n",
              " 1.0,\n",
              " 1.0,\n",
              " 1.0]"
            ]
          },
          "metadata": {},
          "execution_count": 173
        }
      ],
      "source": [
        "normalised_variance_of_pca"
      ]
    },
    {
      "cell_type": "markdown",
      "metadata": {
        "id": "FW3TI_nOwWL9"
      },
      "source": [
        "So from above values if we take n_components = 7 the we are able to capture about 98 % of variance."
      ]
    },
    {
      "cell_type": "code",
      "execution_count": null,
      "metadata": {
        "colab": {
          "base_uri": "https://localhost:8080/",
          "height": 424
        },
        "id": "prlkGCt1wxYX",
        "outputId": "5ca62273-24a3-4de2-b84f-c2478fa90df1"
      },
      "outputs": [
        {
          "output_type": "execute_result",
          "data": {
            "text/plain": [
              "            PCA1       PCA2      PCA3      PCA4      PCA5      PCA6      PCA7  \\\n",
              "0      15.900540   1.238495 -0.272692 -1.115256  1.183977 -0.398289 -0.481939   \n",
              "1     -12.987662  13.776769  6.228482 -0.615696 -0.825967 -0.071580  1.429630   \n",
              "2     -10.089364  20.561511  4.001122  1.172764  0.360514  1.125221  0.342327   \n",
              "3     -10.324938  21.581066 -4.622670  2.188382 -0.059973 -0.618843 -1.957883   \n",
              "4      -5.313424  21.728380 -4.189789 -0.039976 -0.040512 -1.864152  0.589321   \n",
              "...          ...        ...       ...       ...       ...       ...       ...   \n",
              "10677  15.962536  -6.682024  0.583578  1.729765 -1.390227 -1.802866  0.293535   \n",
              "10678  15.971417  -6.692304  0.632804 -1.200362 -0.782271 -2.262804 -0.332652   \n",
              "10679  15.883207   1.272082 -0.262852 -1.530804 -0.025908  0.538197  0.005115   \n",
              "10680  15.876020   1.273421 -0.334557 -0.380650 -0.894389  0.026344  0.147009   \n",
              "10681  -9.824461   4.684430  5.627428  0.985467 -1.876519 -0.316930  0.839141   \n",
              "\n",
              "           PCA8      PCA9     PCA10    Price  \n",
              "0     -2.287862  0.593010 -0.087721   3897.0  \n",
              "1      0.665934  1.616730 -0.901656   7662.0  \n",
              "2     -0.842224 -0.049587 -0.074901  13882.0  \n",
              "3      0.416767 -1.057321 -0.679356   6218.0  \n",
              "4      1.071679  1.417677 -1.006676  13302.0  \n",
              "...         ...       ...       ...      ...  \n",
              "10677  0.072149 -0.304018 -0.432760   4107.0  \n",
              "10678 -0.138695 -0.742683 -0.117706   4145.0  \n",
              "10679 -0.371797 -0.625209  0.771618   7229.0  \n",
              "10680  0.181443  1.981535 -0.003914  12648.0  \n",
              "10681 -0.048018 -0.330804 -1.579588  11753.0  \n",
              "\n",
              "[10682 rows x 11 columns]"
            ],
            "text/html": [
              "\n",
              "  <div id=\"df-1ab59678-9f60-49d7-9c3a-84b55fc626fb\">\n",
              "    <div class=\"colab-df-container\">\n",
              "      <div>\n",
              "<style scoped>\n",
              "    .dataframe tbody tr th:only-of-type {\n",
              "        vertical-align: middle;\n",
              "    }\n",
              "\n",
              "    .dataframe tbody tr th {\n",
              "        vertical-align: top;\n",
              "    }\n",
              "\n",
              "    .dataframe thead th {\n",
              "        text-align: right;\n",
              "    }\n",
              "</style>\n",
              "<table border=\"1\" class=\"dataframe\">\n",
              "  <thead>\n",
              "    <tr style=\"text-align: right;\">\n",
              "      <th></th>\n",
              "      <th>PCA1</th>\n",
              "      <th>PCA2</th>\n",
              "      <th>PCA3</th>\n",
              "      <th>PCA4</th>\n",
              "      <th>PCA5</th>\n",
              "      <th>PCA6</th>\n",
              "      <th>PCA7</th>\n",
              "      <th>PCA8</th>\n",
              "      <th>PCA9</th>\n",
              "      <th>PCA10</th>\n",
              "      <th>Price</th>\n",
              "    </tr>\n",
              "  </thead>\n",
              "  <tbody>\n",
              "    <tr>\n",
              "      <th>0</th>\n",
              "      <td>15.900540</td>\n",
              "      <td>1.238495</td>\n",
              "      <td>-0.272692</td>\n",
              "      <td>-1.115256</td>\n",
              "      <td>1.183977</td>\n",
              "      <td>-0.398289</td>\n",
              "      <td>-0.481939</td>\n",
              "      <td>-2.287862</td>\n",
              "      <td>0.593010</td>\n",
              "      <td>-0.087721</td>\n",
              "      <td>3897.0</td>\n",
              "    </tr>\n",
              "    <tr>\n",
              "      <th>1</th>\n",
              "      <td>-12.987662</td>\n",
              "      <td>13.776769</td>\n",
              "      <td>6.228482</td>\n",
              "      <td>-0.615696</td>\n",
              "      <td>-0.825967</td>\n",
              "      <td>-0.071580</td>\n",
              "      <td>1.429630</td>\n",
              "      <td>0.665934</td>\n",
              "      <td>1.616730</td>\n",
              "      <td>-0.901656</td>\n",
              "      <td>7662.0</td>\n",
              "    </tr>\n",
              "    <tr>\n",
              "      <th>2</th>\n",
              "      <td>-10.089364</td>\n",
              "      <td>20.561511</td>\n",
              "      <td>4.001122</td>\n",
              "      <td>1.172764</td>\n",
              "      <td>0.360514</td>\n",
              "      <td>1.125221</td>\n",
              "      <td>0.342327</td>\n",
              "      <td>-0.842224</td>\n",
              "      <td>-0.049587</td>\n",
              "      <td>-0.074901</td>\n",
              "      <td>13882.0</td>\n",
              "    </tr>\n",
              "    <tr>\n",
              "      <th>3</th>\n",
              "      <td>-10.324938</td>\n",
              "      <td>21.581066</td>\n",
              "      <td>-4.622670</td>\n",
              "      <td>2.188382</td>\n",
              "      <td>-0.059973</td>\n",
              "      <td>-0.618843</td>\n",
              "      <td>-1.957883</td>\n",
              "      <td>0.416767</td>\n",
              "      <td>-1.057321</td>\n",
              "      <td>-0.679356</td>\n",
              "      <td>6218.0</td>\n",
              "    </tr>\n",
              "    <tr>\n",
              "      <th>4</th>\n",
              "      <td>-5.313424</td>\n",
              "      <td>21.728380</td>\n",
              "      <td>-4.189789</td>\n",
              "      <td>-0.039976</td>\n",
              "      <td>-0.040512</td>\n",
              "      <td>-1.864152</td>\n",
              "      <td>0.589321</td>\n",
              "      <td>1.071679</td>\n",
              "      <td>1.417677</td>\n",
              "      <td>-1.006676</td>\n",
              "      <td>13302.0</td>\n",
              "    </tr>\n",
              "    <tr>\n",
              "      <th>...</th>\n",
              "      <td>...</td>\n",
              "      <td>...</td>\n",
              "      <td>...</td>\n",
              "      <td>...</td>\n",
              "      <td>...</td>\n",
              "      <td>...</td>\n",
              "      <td>...</td>\n",
              "      <td>...</td>\n",
              "      <td>...</td>\n",
              "      <td>...</td>\n",
              "      <td>...</td>\n",
              "    </tr>\n",
              "    <tr>\n",
              "      <th>10677</th>\n",
              "      <td>15.962536</td>\n",
              "      <td>-6.682024</td>\n",
              "      <td>0.583578</td>\n",
              "      <td>1.729765</td>\n",
              "      <td>-1.390227</td>\n",
              "      <td>-1.802866</td>\n",
              "      <td>0.293535</td>\n",
              "      <td>0.072149</td>\n",
              "      <td>-0.304018</td>\n",
              "      <td>-0.432760</td>\n",
              "      <td>4107.0</td>\n",
              "    </tr>\n",
              "    <tr>\n",
              "      <th>10678</th>\n",
              "      <td>15.971417</td>\n",
              "      <td>-6.692304</td>\n",
              "      <td>0.632804</td>\n",
              "      <td>-1.200362</td>\n",
              "      <td>-0.782271</td>\n",
              "      <td>-2.262804</td>\n",
              "      <td>-0.332652</td>\n",
              "      <td>-0.138695</td>\n",
              "      <td>-0.742683</td>\n",
              "      <td>-0.117706</td>\n",
              "      <td>4145.0</td>\n",
              "    </tr>\n",
              "    <tr>\n",
              "      <th>10679</th>\n",
              "      <td>15.883207</td>\n",
              "      <td>1.272082</td>\n",
              "      <td>-0.262852</td>\n",
              "      <td>-1.530804</td>\n",
              "      <td>-0.025908</td>\n",
              "      <td>0.538197</td>\n",
              "      <td>0.005115</td>\n",
              "      <td>-0.371797</td>\n",
              "      <td>-0.625209</td>\n",
              "      <td>0.771618</td>\n",
              "      <td>7229.0</td>\n",
              "    </tr>\n",
              "    <tr>\n",
              "      <th>10680</th>\n",
              "      <td>15.876020</td>\n",
              "      <td>1.273421</td>\n",
              "      <td>-0.334557</td>\n",
              "      <td>-0.380650</td>\n",
              "      <td>-0.894389</td>\n",
              "      <td>0.026344</td>\n",
              "      <td>0.147009</td>\n",
              "      <td>0.181443</td>\n",
              "      <td>1.981535</td>\n",
              "      <td>-0.003914</td>\n",
              "      <td>12648.0</td>\n",
              "    </tr>\n",
              "    <tr>\n",
              "      <th>10681</th>\n",
              "      <td>-9.824461</td>\n",
              "      <td>4.684430</td>\n",
              "      <td>5.627428</td>\n",
              "      <td>0.985467</td>\n",
              "      <td>-1.876519</td>\n",
              "      <td>-0.316930</td>\n",
              "      <td>0.839141</td>\n",
              "      <td>-0.048018</td>\n",
              "      <td>-0.330804</td>\n",
              "      <td>-1.579588</td>\n",
              "      <td>11753.0</td>\n",
              "    </tr>\n",
              "  </tbody>\n",
              "</table>\n",
              "<p>10682 rows × 11 columns</p>\n",
              "</div>\n",
              "      <button class=\"colab-df-convert\" onclick=\"convertToInteractive('df-1ab59678-9f60-49d7-9c3a-84b55fc626fb')\"\n",
              "              title=\"Convert this dataframe to an interactive table.\"\n",
              "              style=\"display:none;\">\n",
              "        \n",
              "  <svg xmlns=\"http://www.w3.org/2000/svg\" height=\"24px\"viewBox=\"0 0 24 24\"\n",
              "       width=\"24px\">\n",
              "    <path d=\"M0 0h24v24H0V0z\" fill=\"none\"/>\n",
              "    <path d=\"M18.56 5.44l.94 2.06.94-2.06 2.06-.94-2.06-.94-.94-2.06-.94 2.06-2.06.94zm-11 1L8.5 8.5l.94-2.06 2.06-.94-2.06-.94L8.5 2.5l-.94 2.06-2.06.94zm10 10l.94 2.06.94-2.06 2.06-.94-2.06-.94-.94-2.06-.94 2.06-2.06.94z\"/><path d=\"M17.41 7.96l-1.37-1.37c-.4-.4-.92-.59-1.43-.59-.52 0-1.04.2-1.43.59L10.3 9.45l-7.72 7.72c-.78.78-.78 2.05 0 2.83L4 21.41c.39.39.9.59 1.41.59.51 0 1.02-.2 1.41-.59l7.78-7.78 2.81-2.81c.8-.78.8-2.07 0-2.86zM5.41 20L4 18.59l7.72-7.72 1.47 1.35L5.41 20z\"/>\n",
              "  </svg>\n",
              "      </button>\n",
              "      \n",
              "  <style>\n",
              "    .colab-df-container {\n",
              "      display:flex;\n",
              "      flex-wrap:wrap;\n",
              "      gap: 12px;\n",
              "    }\n",
              "\n",
              "    .colab-df-convert {\n",
              "      background-color: #E8F0FE;\n",
              "      border: none;\n",
              "      border-radius: 50%;\n",
              "      cursor: pointer;\n",
              "      display: none;\n",
              "      fill: #1967D2;\n",
              "      height: 32px;\n",
              "      padding: 0 0 0 0;\n",
              "      width: 32px;\n",
              "    }\n",
              "\n",
              "    .colab-df-convert:hover {\n",
              "      background-color: #E2EBFA;\n",
              "      box-shadow: 0px 1px 2px rgba(60, 64, 67, 0.3), 0px 1px 3px 1px rgba(60, 64, 67, 0.15);\n",
              "      fill: #174EA6;\n",
              "    }\n",
              "\n",
              "    [theme=dark] .colab-df-convert {\n",
              "      background-color: #3B4455;\n",
              "      fill: #D2E3FC;\n",
              "    }\n",
              "\n",
              "    [theme=dark] .colab-df-convert:hover {\n",
              "      background-color: #434B5C;\n",
              "      box-shadow: 0px 1px 3px 1px rgba(0, 0, 0, 0.15);\n",
              "      filter: drop-shadow(0px 1px 2px rgba(0, 0, 0, 0.3));\n",
              "      fill: #FFFFFF;\n",
              "    }\n",
              "  </style>\n",
              "\n",
              "      <script>\n",
              "        const buttonEl =\n",
              "          document.querySelector('#df-1ab59678-9f60-49d7-9c3a-84b55fc626fb button.colab-df-convert');\n",
              "        buttonEl.style.display =\n",
              "          google.colab.kernel.accessAllowed ? 'block' : 'none';\n",
              "\n",
              "        async function convertToInteractive(key) {\n",
              "          const element = document.querySelector('#df-1ab59678-9f60-49d7-9c3a-84b55fc626fb');\n",
              "          const dataTable =\n",
              "            await google.colab.kernel.invokeFunction('convertToInteractive',\n",
              "                                                     [key], {});\n",
              "          if (!dataTable) return;\n",
              "\n",
              "          const docLinkHtml = 'Like what you see? Visit the ' +\n",
              "            '<a target=\"_blank\" href=https://colab.research.google.com/notebooks/data_table.ipynb>data table notebook</a>'\n",
              "            + ' to learn more about interactive tables.';\n",
              "          element.innerHTML = '';\n",
              "          dataTable['output_type'] = 'display_data';\n",
              "          await google.colab.output.renderOutput(dataTable, element);\n",
              "          const docLink = document.createElement('div');\n",
              "          docLink.innerHTML = docLinkHtml;\n",
              "          element.appendChild(docLink);\n",
              "        }\n",
              "      </script>\n",
              "    </div>\n",
              "  </div>\n",
              "  "
            ]
          },
          "metadata": {},
          "execution_count": 174
        }
      ],
      "source": [
        "values = pca.transform(X)\n",
        "pca_data = pd.DataFrame(columns = ['PCA1','PCA2','PCA3','PCA4','PCA5','PCA6','PCA7','PCA8','PCA9','PCA10'], data = values[:,:10])\n",
        "pca_data['Price'] = Y\n",
        "pca_data"
      ]
    },
    {
      "cell_type": "code",
      "execution_count": null,
      "metadata": {
        "id": "3oFb9vl3-OU1"
      },
      "outputs": [],
      "source": [
        "X_pca = data.drop(columns = ['Price'], axis = 1)\n",
        "Y_pca = data[['Price']]\n",
        "x_train, x_test, y_train, y_test = train_test_split(X_pca,Y_pca,test_size = 0.3, random_state = 42)"
      ]
    },
    {
      "cell_type": "code",
      "execution_count": null,
      "metadata": {
        "id": "SA6i25uF_dr5"
      },
      "outputs": [],
      "source": [
        "param_dist = {\n",
        "'n_estimators': list(range(10, 300, 5)),\n",
        "'min_samples_leaf': list(range(1, 50)),\n",
        "'max_depth': list(range(2, 30)),\n",
        "'max_features': ['auto', 'sqrt'],\n",
        "'bootstrap': [True, False]\n",
        "}"
      ]
    },
    {
      "cell_type": "code",
      "execution_count": null,
      "metadata": {
        "id": "XBZgtLozDldg"
      },
      "outputs": [],
      "source": [
        "random_search_testing_scores_pca = []\n",
        "MLSE_scores_pca = []"
      ]
    },
    {
      "cell_type": "code",
      "execution_count": null,
      "metadata": {
        "colab": {
          "base_uri": "https://localhost:8080/"
        },
        "id": "leYeyUZ_99lF",
        "outputId": "ad6711a8-65b3-4a0e-f2c8-372c5ac647af"
      },
      "outputs": [
        {
          "output_type": "stream",
          "name": "stdout",
          "text": [
            "Fitting 5 folds for each of 10 candidates, totalling 50 fits\n",
            "[CV 1/5] END bootstrap=True, max_depth=22, max_features=sqrt, min_samples_leaf=21, n_estimators=35;, score=0.779 total time=   0.3s\n",
            "[CV 2/5] END bootstrap=True, max_depth=22, max_features=sqrt, min_samples_leaf=21, n_estimators=35;, score=0.771 total time=   0.1s\n",
            "[CV 3/5] END bootstrap=True, max_depth=22, max_features=sqrt, min_samples_leaf=21, n_estimators=35;, score=0.774 total time=   0.2s\n",
            "[CV 4/5] END bootstrap=True, max_depth=22, max_features=sqrt, min_samples_leaf=21, n_estimators=35;, score=0.780 total time=   0.1s\n",
            "[CV 5/5] END bootstrap=True, max_depth=22, max_features=sqrt, min_samples_leaf=21, n_estimators=35;, score=0.760 total time=   0.1s\n",
            "[CV 1/5] END bootstrap=True, max_depth=12, max_features=auto, min_samples_leaf=23, n_estimators=115;, score=0.848 total time=   1.5s\n",
            "[CV 2/5] END bootstrap=True, max_depth=12, max_features=auto, min_samples_leaf=23, n_estimators=115;, score=0.818 total time=   1.4s\n",
            "[CV 3/5] END bootstrap=True, max_depth=12, max_features=auto, min_samples_leaf=23, n_estimators=115;, score=0.831 total time=   1.4s\n",
            "[CV 4/5] END bootstrap=True, max_depth=12, max_features=auto, min_samples_leaf=23, n_estimators=115;, score=0.800 total time=   2.1s\n",
            "[CV 5/5] END bootstrap=True, max_depth=12, max_features=auto, min_samples_leaf=23, n_estimators=115;, score=0.821 total time=   1.4s\n",
            "[CV 1/5] END bootstrap=False, max_depth=19, max_features=auto, min_samples_leaf=47, n_estimators=35;, score=0.802 total time=   0.5s\n",
            "[CV 2/5] END bootstrap=False, max_depth=19, max_features=auto, min_samples_leaf=47, n_estimators=35;, score=0.783 total time=   0.6s\n",
            "[CV 3/5] END bootstrap=False, max_depth=19, max_features=auto, min_samples_leaf=47, n_estimators=35;, score=0.789 total time=   0.6s\n",
            "[CV 4/5] END bootstrap=False, max_depth=19, max_features=auto, min_samples_leaf=47, n_estimators=35;, score=0.758 total time=   0.6s\n",
            "[CV 5/5] END bootstrap=False, max_depth=19, max_features=auto, min_samples_leaf=47, n_estimators=35;, score=0.779 total time=   0.6s\n",
            "[CV 1/5] END bootstrap=True, max_depth=20, max_features=sqrt, min_samples_leaf=34, n_estimators=240;, score=0.751 total time=   0.9s\n",
            "[CV 2/5] END bootstrap=True, max_depth=20, max_features=sqrt, min_samples_leaf=34, n_estimators=240;, score=0.742 total time=   0.9s\n",
            "[CV 3/5] END bootstrap=True, max_depth=20, max_features=sqrt, min_samples_leaf=34, n_estimators=240;, score=0.739 total time=   0.9s\n",
            "[CV 4/5] END bootstrap=True, max_depth=20, max_features=sqrt, min_samples_leaf=34, n_estimators=240;, score=0.751 total time=   0.9s\n",
            "[CV 5/5] END bootstrap=True, max_depth=20, max_features=sqrt, min_samples_leaf=34, n_estimators=240;, score=0.727 total time=   0.9s\n",
            "[CV 1/5] END bootstrap=False, max_depth=21, max_features=sqrt, min_samples_leaf=21, n_estimators=140;, score=0.798 total time=   0.6s\n",
            "[CV 2/5] END bootstrap=False, max_depth=21, max_features=sqrt, min_samples_leaf=21, n_estimators=140;, score=0.803 total time=   0.6s\n",
            "[CV 3/5] END bootstrap=False, max_depth=21, max_features=sqrt, min_samples_leaf=21, n_estimators=140;, score=0.795 total time=   0.6s\n",
            "[CV 4/5] END bootstrap=False, max_depth=21, max_features=sqrt, min_samples_leaf=21, n_estimators=140;, score=0.802 total time=   0.6s\n",
            "[CV 5/5] END bootstrap=False, max_depth=21, max_features=sqrt, min_samples_leaf=21, n_estimators=140;, score=0.782 total time=   0.6s\n",
            "[CV 1/5] END bootstrap=False, max_depth=19, max_features=auto, min_samples_leaf=10, n_estimators=170;, score=0.865 total time=   3.5s\n",
            "[CV 2/5] END bootstrap=False, max_depth=19, max_features=auto, min_samples_leaf=10, n_estimators=170;, score=0.852 total time=   3.4s\n",
            "[CV 3/5] END bootstrap=False, max_depth=19, max_features=auto, min_samples_leaf=10, n_estimators=170;, score=0.835 total time=   3.6s\n",
            "[CV 4/5] END bootstrap=False, max_depth=19, max_features=auto, min_samples_leaf=10, n_estimators=170;, score=0.842 total time=   3.5s\n",
            "[CV 5/5] END bootstrap=False, max_depth=19, max_features=auto, min_samples_leaf=10, n_estimators=170;, score=0.837 total time=   3.5s\n",
            "[CV 1/5] END bootstrap=False, max_depth=19, max_features=sqrt, min_samples_leaf=8, n_estimators=120;, score=0.846 total time=   0.7s\n",
            "[CV 2/5] END bootstrap=False, max_depth=19, max_features=sqrt, min_samples_leaf=8, n_estimators=120;, score=0.848 total time=   0.7s\n",
            "[CV 3/5] END bootstrap=False, max_depth=19, max_features=sqrt, min_samples_leaf=8, n_estimators=120;, score=0.833 total time=   0.7s\n",
            "[CV 4/5] END bootstrap=False, max_depth=19, max_features=sqrt, min_samples_leaf=8, n_estimators=120;, score=0.848 total time=   0.7s\n",
            "[CV 5/5] END bootstrap=False, max_depth=19, max_features=sqrt, min_samples_leaf=8, n_estimators=120;, score=0.830 total time=   0.7s\n",
            "[CV 1/5] END bootstrap=False, max_depth=15, max_features=auto, min_samples_leaf=1, n_estimators=160;, score=0.874 total time=   4.3s\n",
            "[CV 2/5] END bootstrap=False, max_depth=15, max_features=auto, min_samples_leaf=1, n_estimators=160;, score=0.869 total time=   4.2s\n",
            "[CV 3/5] END bootstrap=False, max_depth=15, max_features=auto, min_samples_leaf=1, n_estimators=160;, score=0.828 total time=   4.3s\n",
            "[CV 4/5] END bootstrap=False, max_depth=15, max_features=auto, min_samples_leaf=1, n_estimators=160;, score=0.841 total time=   4.3s\n",
            "[CV 5/5] END bootstrap=False, max_depth=15, max_features=auto, min_samples_leaf=1, n_estimators=160;, score=0.817 total time=   4.3s\n",
            "[CV 1/5] END bootstrap=False, max_depth=10, max_features=auto, min_samples_leaf=31, n_estimators=200;, score=0.834 total time=   3.3s\n",
            "[CV 2/5] END bootstrap=False, max_depth=10, max_features=auto, min_samples_leaf=31, n_estimators=200;, score=0.798 total time=   3.3s\n",
            "[CV 3/5] END bootstrap=False, max_depth=10, max_features=auto, min_samples_leaf=31, n_estimators=200;, score=0.812 total time=   3.3s\n",
            "[CV 4/5] END bootstrap=False, max_depth=10, max_features=auto, min_samples_leaf=31, n_estimators=200;, score=0.797 total time=   3.3s\n",
            "[CV 5/5] END bootstrap=False, max_depth=10, max_features=auto, min_samples_leaf=31, n_estimators=200;, score=0.809 total time=   3.3s\n",
            "[CV 1/5] END bootstrap=False, max_depth=27, max_features=auto, min_samples_leaf=15, n_estimators=145;, score=0.866 total time=   2.7s\n",
            "[CV 2/5] END bootstrap=False, max_depth=27, max_features=auto, min_samples_leaf=15, n_estimators=145;, score=0.844 total time=   2.7s\n",
            "[CV 3/5] END bootstrap=False, max_depth=27, max_features=auto, min_samples_leaf=15, n_estimators=145;, score=0.829 total time=   2.8s\n",
            "[CV 4/5] END bootstrap=False, max_depth=27, max_features=auto, min_samples_leaf=15, n_estimators=145;, score=0.818 total time=   2.8s\n",
            "[CV 5/5] END bootstrap=False, max_depth=27, max_features=auto, min_samples_leaf=15, n_estimators=145;, score=0.833 total time=   2.8s\n"
          ]
        },
        {
          "output_type": "execute_result",
          "data": {
            "text/plain": [
              "RandomizedSearchCV(cv=5, estimator=RandomForestRegressor(), n_jobs=1,\n",
              "                   param_distributions={'bootstrap': [True, False],\n",
              "                                        'max_depth': [2, 3, 4, 5, 6, 7, 8, 9,\n",
              "                                                      10, 11, 12, 13, 14, 15,\n",
              "                                                      16, 17, 18, 19, 20, 21,\n",
              "                                                      22, 23, 24, 25, 26, 27,\n",
              "                                                      28, 29],\n",
              "                                        'max_features': ['auto', 'sqrt'],\n",
              "                                        'min_samples_leaf': [1, 2, 3, 4, 5, 6,\n",
              "                                                             7, 8, 9, 10, 11,\n",
              "                                                             12, 13, 14, 15, 16,\n",
              "                                                             17, 18, 19, 20, 21,\n",
              "                                                             22, 23, 24, 25, 26,\n",
              "                                                             27, 28, 29, 30, ...],\n",
              "                                        'n_estimators': [10, 15, 20, 25, 30, 35,\n",
              "                                                         40, 45, 50, 55, 60, 65,\n",
              "                                                         70, 75, 80, 85, 90, 95,\n",
              "                                                         100, 105, 110, 115,\n",
              "                                                         120, 125, 130, 135,\n",
              "                                                         140, 145, 150, 155, ...]},\n",
              "                   scoring='r2', verbose=5)"
            ]
          },
          "metadata": {},
          "execution_count": 178
        }
      ],
      "source": [
        "rfc_pca = RandomForestRegressor()\n",
        "random_search_pca_rfc = RandomizedSearchCV(rfc_pca, param_distributions = param_dist, n_iter = 10, scoring = 'r2', n_jobs = 1, cv = 5, verbose = 5)\n",
        "random_search_pca_rfc.fit(x_train, y_train)"
      ]
    },
    {
      "cell_type": "code",
      "execution_count": null,
      "metadata": {
        "colab": {
          "base_uri": "https://localhost:8080/"
        },
        "id": "uNntPAJ4-_o6",
        "outputId": "975246a5-ffab-46c8-c497-e531576d9895"
      },
      "outputs": [
        {
          "output_type": "execute_result",
          "data": {
            "text/plain": [
              "RandomForestRegressor(bootstrap=False, max_depth=19, min_samples_leaf=10,\n",
              "                      n_estimators=170)"
            ]
          },
          "metadata": {},
          "execution_count": 179
        }
      ],
      "source": [
        "random_search_pca_rfc.best_estimator_"
      ]
    },
    {
      "cell_type": "code",
      "execution_count": null,
      "metadata": {
        "colab": {
          "base_uri": "https://localhost:8080/"
        },
        "id": "v3402G6Z_Cy_",
        "outputId": "58f48a57-092d-4811-ba50-c22d4b514e10"
      },
      "outputs": [
        {
          "output_type": "execute_result",
          "data": {
            "text/plain": [
              "{'bootstrap': False,\n",
              " 'max_depth': 19,\n",
              " 'max_features': 'auto',\n",
              " 'min_samples_leaf': 10,\n",
              " 'n_estimators': 170}"
            ]
          },
          "metadata": {},
          "execution_count": 180
        }
      ],
      "source": [
        "random_search_pca_rfc.best_params_"
      ]
    },
    {
      "cell_type": "code",
      "execution_count": null,
      "metadata": {
        "colab": {
          "base_uri": "https://localhost:8080/"
        },
        "id": "sTNjNpSd_NU2",
        "outputId": "0dce9771-6051-48f6-af99-7fd21f3394a2"
      },
      "outputs": [
        {
          "output_type": "stream",
          "name": "stdout",
          "text": [
            "The testing score by applying tuned RandomForestRegressor is : 87.9066\n"
          ]
        }
      ],
      "source": [
        "preds = random_search_pca_rfc.predict(x_test)\n",
        "testing_score = max(0 , 100 * r2_score(y_test , preds))\n",
        "mlse = max(0,mean_squared_log_error(y_test,preds))\n",
        "print(f\"The testing score by applying tuned RandomForestRegressor is : {testing_score:.4f}\")\n",
        "random_search_testing_scores_pca.append(testing_score)\n",
        "MLSE_scores_pca.append(mlse)"
      ]
    },
    {
      "cell_type": "code",
      "execution_count": null,
      "metadata": {
        "id": "zmyJfS_4_9OT"
      },
      "outputs": [],
      "source": [
        "params={\n",
        " \"learning_rate\"    : [0.05, 0.10, 0.15, 0.20, 0.25, 0.30 ] ,\n",
        " \"max_depth\"        : [ 3, 4, 5, 6, 8, 10, 12, 15],\n",
        " \"min_child_weight\" : [ 1, 3, 5, 7 ,9],\n",
        " \"gamma\"            : [ 0.0, 0.1, 0.2 , 0.3, 0.4 ],\n",
        " \"colsample_bytree\" : [ 0.3, 0.4, 0.5 , 0.7 ]\n",
        "}"
      ]
    },
    {
      "cell_type": "code",
      "execution_count": null,
      "metadata": {
        "id": "cZ2dFKuqADmt"
      },
      "outputs": [],
      "source": [
        "lgb_pca = lgbm.LGBMRegressor()\n",
        "random_search_pca_lgb = RandomizedSearchCV(lgb_pca, param_distributions = params, n_iter = 8, scoring = 'r2', n_jobs = 1, cv = 5, verbose = 3)"
      ]
    },
    {
      "cell_type": "code",
      "execution_count": null,
      "metadata": {
        "colab": {
          "base_uri": "https://localhost:8080/"
        },
        "id": "aGCL4-IqAJGm",
        "outputId": "23411abd-e9f4-4604-a800-85096ba067c4"
      },
      "outputs": [
        {
          "output_type": "stream",
          "name": "stdout",
          "text": [
            "Fitting 5 folds for each of 8 candidates, totalling 40 fits\n",
            "[CV 1/5] END colsample_bytree=0.7, gamma=0.2, learning_rate=0.2, max_depth=15, min_child_weight=7;, score=0.915 total time=   0.1s\n",
            "[CV 2/5] END colsample_bytree=0.7, gamma=0.2, learning_rate=0.2, max_depth=15, min_child_weight=7;, score=0.903 total time=   0.1s\n",
            "[CV 3/5] END colsample_bytree=0.7, gamma=0.2, learning_rate=0.2, max_depth=15, min_child_weight=7;, score=0.898 total time=   0.1s\n",
            "[CV 4/5] END colsample_bytree=0.7, gamma=0.2, learning_rate=0.2, max_depth=15, min_child_weight=7;, score=0.901 total time=   0.1s\n",
            "[CV 5/5] END colsample_bytree=0.7, gamma=0.2, learning_rate=0.2, max_depth=15, min_child_weight=7;, score=0.889 total time=   0.1s\n",
            "[CV 1/5] END colsample_bytree=0.3, gamma=0.4, learning_rate=0.15, max_depth=12, min_child_weight=9;, score=0.887 total time=   0.1s\n",
            "[CV 2/5] END colsample_bytree=0.3, gamma=0.4, learning_rate=0.15, max_depth=12, min_child_weight=9;, score=0.886 total time=   0.1s\n",
            "[CV 3/5] END colsample_bytree=0.3, gamma=0.4, learning_rate=0.15, max_depth=12, min_child_weight=9;, score=0.876 total time=   0.1s\n",
            "[CV 4/5] END colsample_bytree=0.3, gamma=0.4, learning_rate=0.15, max_depth=12, min_child_weight=9;, score=0.885 total time=   0.1s\n",
            "[CV 5/5] END colsample_bytree=0.3, gamma=0.4, learning_rate=0.15, max_depth=12, min_child_weight=9;, score=0.873 total time=   0.1s\n",
            "[CV 1/5] END colsample_bytree=0.3, gamma=0.0, learning_rate=0.2, max_depth=3, min_child_weight=9;, score=0.848 total time=   0.1s\n",
            "[CV 2/5] END colsample_bytree=0.3, gamma=0.0, learning_rate=0.2, max_depth=3, min_child_weight=9;, score=0.850 total time=   0.1s\n",
            "[CV 3/5] END colsample_bytree=0.3, gamma=0.0, learning_rate=0.2, max_depth=3, min_child_weight=9;, score=0.840 total time=   0.1s\n",
            "[CV 4/5] END colsample_bytree=0.3, gamma=0.0, learning_rate=0.2, max_depth=3, min_child_weight=9;, score=0.840 total time=   0.1s\n",
            "[CV 5/5] END colsample_bytree=0.3, gamma=0.0, learning_rate=0.2, max_depth=3, min_child_weight=9;, score=0.835 total time=   0.1s\n",
            "[CV 1/5] END colsample_bytree=0.4, gamma=0.0, learning_rate=0.15, max_depth=5, min_child_weight=7;, score=0.878 total time=   0.1s\n",
            "[CV 2/5] END colsample_bytree=0.4, gamma=0.0, learning_rate=0.15, max_depth=5, min_child_weight=7;, score=0.879 total time=   0.1s\n",
            "[CV 3/5] END colsample_bytree=0.4, gamma=0.0, learning_rate=0.15, max_depth=5, min_child_weight=7;, score=0.871 total time=   0.1s\n",
            "[CV 4/5] END colsample_bytree=0.4, gamma=0.0, learning_rate=0.15, max_depth=5, min_child_weight=7;, score=0.873 total time=   0.1s\n",
            "[CV 5/5] END colsample_bytree=0.4, gamma=0.0, learning_rate=0.15, max_depth=5, min_child_weight=7;, score=0.861 total time=   0.1s\n",
            "[CV 1/5] END colsample_bytree=0.3, gamma=0.4, learning_rate=0.25, max_depth=6, min_child_weight=3;, score=0.896 total time=   0.1s\n",
            "[CV 2/5] END colsample_bytree=0.3, gamma=0.4, learning_rate=0.25, max_depth=6, min_child_weight=3;, score=0.886 total time=   0.1s\n",
            "[CV 3/5] END colsample_bytree=0.3, gamma=0.4, learning_rate=0.25, max_depth=6, min_child_weight=3;, score=0.876 total time=   0.1s\n",
            "[CV 4/5] END colsample_bytree=0.3, gamma=0.4, learning_rate=0.25, max_depth=6, min_child_weight=3;, score=0.881 total time=   0.1s\n",
            "[CV 5/5] END colsample_bytree=0.3, gamma=0.4, learning_rate=0.25, max_depth=6, min_child_weight=3;, score=0.875 total time=   0.1s\n",
            "[CV 1/5] END colsample_bytree=0.7, gamma=0.1, learning_rate=0.05, max_depth=6, min_child_weight=9;, score=0.876 total time=   0.1s\n",
            "[CV 2/5] END colsample_bytree=0.7, gamma=0.1, learning_rate=0.05, max_depth=6, min_child_weight=9;, score=0.874 total time=   0.2s\n",
            "[CV 3/5] END colsample_bytree=0.7, gamma=0.1, learning_rate=0.05, max_depth=6, min_child_weight=9;, score=0.860 total time=   0.2s\n",
            "[CV 4/5] END colsample_bytree=0.7, gamma=0.1, learning_rate=0.05, max_depth=6, min_child_weight=9;, score=0.857 total time=   0.1s\n",
            "[CV 5/5] END colsample_bytree=0.7, gamma=0.1, learning_rate=0.05, max_depth=6, min_child_weight=9;, score=0.857 total time=   0.1s\n",
            "[CV 1/5] END colsample_bytree=0.5, gamma=0.1, learning_rate=0.15, max_depth=5, min_child_weight=1;, score=0.882 total time=   0.1s\n",
            "[CV 2/5] END colsample_bytree=0.5, gamma=0.1, learning_rate=0.15, max_depth=5, min_child_weight=1;, score=0.888 total time=   0.1s\n",
            "[CV 3/5] END colsample_bytree=0.5, gamma=0.1, learning_rate=0.15, max_depth=5, min_child_weight=1;, score=0.877 total time=   0.1s\n",
            "[CV 4/5] END colsample_bytree=0.5, gamma=0.1, learning_rate=0.15, max_depth=5, min_child_weight=1;, score=0.878 total time=   0.1s\n",
            "[CV 5/5] END colsample_bytree=0.5, gamma=0.1, learning_rate=0.15, max_depth=5, min_child_weight=1;, score=0.868 total time=   0.1s\n",
            "[CV 1/5] END colsample_bytree=0.4, gamma=0.1, learning_rate=0.25, max_depth=12, min_child_weight=9;, score=0.904 total time=   0.1s\n",
            "[CV 2/5] END colsample_bytree=0.4, gamma=0.1, learning_rate=0.25, max_depth=12, min_child_weight=9;, score=0.898 total time=   0.1s\n",
            "[CV 3/5] END colsample_bytree=0.4, gamma=0.1, learning_rate=0.25, max_depth=12, min_child_weight=9;, score=0.888 total time=   0.1s\n",
            "[CV 4/5] END colsample_bytree=0.4, gamma=0.1, learning_rate=0.25, max_depth=12, min_child_weight=9;, score=0.898 total time=   0.1s\n",
            "[CV 5/5] END colsample_bytree=0.4, gamma=0.1, learning_rate=0.25, max_depth=12, min_child_weight=9;, score=0.883 total time=   0.1s\n"
          ]
        },
        {
          "output_type": "execute_result",
          "data": {
            "text/plain": [
              "RandomizedSearchCV(cv=5, estimator=LGBMRegressor(), n_iter=8, n_jobs=1,\n",
              "                   param_distributions={'colsample_bytree': [0.3, 0.4, 0.5,\n",
              "                                                             0.7],\n",
              "                                        'gamma': [0.0, 0.1, 0.2, 0.3, 0.4],\n",
              "                                        'learning_rate': [0.05, 0.1, 0.15, 0.2,\n",
              "                                                          0.25, 0.3],\n",
              "                                        'max_depth': [3, 4, 5, 6, 8, 10, 12,\n",
              "                                                      15],\n",
              "                                        'min_child_weight': [1, 3, 5, 7, 9]},\n",
              "                   scoring='r2', verbose=3)"
            ]
          },
          "metadata": {},
          "execution_count": 184
        }
      ],
      "source": [
        "random_search_pca_lgb.fit(x_train,y_train)"
      ]
    },
    {
      "cell_type": "code",
      "execution_count": null,
      "metadata": {
        "colab": {
          "base_uri": "https://localhost:8080/"
        },
        "id": "plB1RSJpAb7I",
        "outputId": "6167a206-9986-42db-b9be-5239d0a9fbca"
      },
      "outputs": [
        {
          "output_type": "execute_result",
          "data": {
            "text/plain": [
              "LGBMRegressor(colsample_bytree=0.7, gamma=0.2, learning_rate=0.2, max_depth=15,\n",
              "              min_child_weight=7)"
            ]
          },
          "metadata": {},
          "execution_count": 185
        }
      ],
      "source": [
        "random_search_pca_lgb.best_estimator_"
      ]
    },
    {
      "cell_type": "code",
      "execution_count": null,
      "metadata": {
        "colab": {
          "base_uri": "https://localhost:8080/"
        },
        "id": "_q2B1KU-AjlY",
        "outputId": "32221cff-745d-4fe9-bd9d-73052d177de7"
      },
      "outputs": [
        {
          "output_type": "stream",
          "name": "stdout",
          "text": [
            "The testing score by applying tuned LgbmRegressor is : 91.6828\n"
          ]
        }
      ],
      "source": [
        "preds_lgbm_pca = random_search_pca_lgb.predict(x_test)\n",
        "testing_score_lgbm_pca = max(0 , 100 * r2_score(y_test , preds_lgbm_pca))\n",
        "mlse = max(0,mean_squared_log_error(y_test,preds_lgbm_pca))\n",
        "print(f\"The testing score by applying tuned LgbmRegressor is : {testing_score_lgbm_pca:.4f}\")\n",
        "random_search_testing_scores_pca.append(testing_score_lgbm_pca)\n",
        "MLSE_scores_pca.append(mlse)"
      ]
    },
    {
      "cell_type": "code",
      "execution_count": null,
      "metadata": {
        "id": "lh53op8OBWQf"
      },
      "outputs": [],
      "source": [
        "params={\n",
        " \"learning_rate\"    : [0.05, 0.10, 0.15, 0.20, 0.25, 0.30 ] ,\n",
        " \"max_depth\"        : [ 3, 4, 5, 6, 8, 10, 12, 15],\n",
        " \"min_child_weight\" : [ 1, 3, 5, 7 ,9],\n",
        " \"gamma\"            : [ 0.0, 0.1, 0.2 , 0.3, 0.4 ],\n",
        " \"colsample_bytree\" : [ 0.3, 0.4, 0.5 , 0.7 ]\n",
        "}"
      ]
    },
    {
      "cell_type": "code",
      "execution_count": null,
      "metadata": {
        "id": "rFBTvBCOBaRf"
      },
      "outputs": [],
      "source": [
        "xgb_pca = XGBRegressor()\n",
        "random_search_pca_xgb = RandomizedSearchCV(xgb_pca, param_distributions = params, n_iter = 8, scoring = 'r2', n_jobs = 1, cv = 5, verbose = 3)"
      ]
    },
    {
      "cell_type": "code",
      "execution_count": null,
      "metadata": {
        "colab": {
          "base_uri": "https://localhost:8080/"
        },
        "id": "3jX1lUunBg3D",
        "outputId": "6a89e782-9a42-4de3-e861-a4fe2a295b28"
      },
      "outputs": [
        {
          "output_type": "stream",
          "name": "stdout",
          "text": [
            "Fitting 5 folds for each of 8 candidates, totalling 40 fits\n",
            "[07:27:15] WARNING: /workspace/src/objective/regression_obj.cu:152: reg:linear is now deprecated in favor of reg:squarederror.\n",
            "[CV 1/5] END colsample_bytree=0.7, gamma=0.3, learning_rate=0.05, max_depth=15, min_child_weight=1;, score=0.923 total time=   2.7s\n",
            "[07:27:18] WARNING: /workspace/src/objective/regression_obj.cu:152: reg:linear is now deprecated in favor of reg:squarederror.\n",
            "[CV 2/5] END colsample_bytree=0.7, gamma=0.3, learning_rate=0.05, max_depth=15, min_child_weight=1;, score=0.914 total time=   2.7s\n",
            "[07:27:21] WARNING: /workspace/src/objective/regression_obj.cu:152: reg:linear is now deprecated in favor of reg:squarederror.\n",
            "[CV 3/5] END colsample_bytree=0.7, gamma=0.3, learning_rate=0.05, max_depth=15, min_child_weight=1;, score=0.908 total time=   2.7s\n",
            "[07:27:23] WARNING: /workspace/src/objective/regression_obj.cu:152: reg:linear is now deprecated in favor of reg:squarederror.\n",
            "[CV 4/5] END colsample_bytree=0.7, gamma=0.3, learning_rate=0.05, max_depth=15, min_child_weight=1;, score=0.916 total time=   2.7s\n",
            "[07:27:26] WARNING: /workspace/src/objective/regression_obj.cu:152: reg:linear is now deprecated in favor of reg:squarederror.\n",
            "[CV 5/5] END colsample_bytree=0.7, gamma=0.3, learning_rate=0.05, max_depth=15, min_child_weight=1;, score=0.893 total time=   2.7s\n",
            "[07:27:29] WARNING: /workspace/src/objective/regression_obj.cu:152: reg:linear is now deprecated in favor of reg:squarederror.\n",
            "[CV 1/5] END colsample_bytree=0.5, gamma=0.2, learning_rate=0.05, max_depth=6, min_child_weight=7;, score=0.879 total time=   0.8s\n",
            "[07:27:29] WARNING: /workspace/src/objective/regression_obj.cu:152: reg:linear is now deprecated in favor of reg:squarederror.\n",
            "[CV 2/5] END colsample_bytree=0.5, gamma=0.2, learning_rate=0.05, max_depth=6, min_child_weight=7;, score=0.880 total time=   0.8s\n",
            "[07:27:30] WARNING: /workspace/src/objective/regression_obj.cu:152: reg:linear is now deprecated in favor of reg:squarederror.\n",
            "[CV 3/5] END colsample_bytree=0.5, gamma=0.2, learning_rate=0.05, max_depth=6, min_child_weight=7;, score=0.867 total time=   0.8s\n",
            "[07:27:31] WARNING: /workspace/src/objective/regression_obj.cu:152: reg:linear is now deprecated in favor of reg:squarederror.\n",
            "[CV 4/5] END colsample_bytree=0.5, gamma=0.2, learning_rate=0.05, max_depth=6, min_child_weight=7;, score=0.875 total time=   0.8s\n",
            "[07:27:32] WARNING: /workspace/src/objective/regression_obj.cu:152: reg:linear is now deprecated in favor of reg:squarederror.\n",
            "[CV 5/5] END colsample_bytree=0.5, gamma=0.2, learning_rate=0.05, max_depth=6, min_child_weight=7;, score=0.861 total time=   0.8s\n",
            "[07:27:33] WARNING: /workspace/src/objective/regression_obj.cu:152: reg:linear is now deprecated in favor of reg:squarederror.\n",
            "[CV 1/5] END colsample_bytree=0.7, gamma=0.2, learning_rate=0.3, max_depth=4, min_child_weight=1;, score=0.905 total time=   0.6s\n",
            "[07:27:33] WARNING: /workspace/src/objective/regression_obj.cu:152: reg:linear is now deprecated in favor of reg:squarederror.\n",
            "[CV 2/5] END colsample_bytree=0.7, gamma=0.2, learning_rate=0.3, max_depth=4, min_child_weight=1;, score=0.889 total time=   0.6s\n",
            "[07:27:34] WARNING: /workspace/src/objective/regression_obj.cu:152: reg:linear is now deprecated in favor of reg:squarederror.\n",
            "[CV 3/5] END colsample_bytree=0.7, gamma=0.2, learning_rate=0.3, max_depth=4, min_child_weight=1;, score=0.881 total time=   0.6s\n",
            "[07:27:35] WARNING: /workspace/src/objective/regression_obj.cu:152: reg:linear is now deprecated in favor of reg:squarederror.\n",
            "[CV 4/5] END colsample_bytree=0.7, gamma=0.2, learning_rate=0.3, max_depth=4, min_child_weight=1;, score=0.878 total time=   0.6s\n",
            "[07:27:35] WARNING: /workspace/src/objective/regression_obj.cu:152: reg:linear is now deprecated in favor of reg:squarederror.\n",
            "[CV 5/5] END colsample_bytree=0.7, gamma=0.2, learning_rate=0.3, max_depth=4, min_child_weight=1;, score=0.870 total time=   0.6s\n",
            "[07:27:36] WARNING: /workspace/src/objective/regression_obj.cu:152: reg:linear is now deprecated in favor of reg:squarederror.\n",
            "[CV 1/5] END colsample_bytree=0.4, gamma=0.4, learning_rate=0.3, max_depth=8, min_child_weight=1;, score=0.912 total time=   0.9s\n",
            "[07:27:37] WARNING: /workspace/src/objective/regression_obj.cu:152: reg:linear is now deprecated in favor of reg:squarederror.\n",
            "[CV 2/5] END colsample_bytree=0.4, gamma=0.4, learning_rate=0.3, max_depth=8, min_child_weight=1;, score=0.904 total time=   0.9s\n",
            "[07:27:38] WARNING: /workspace/src/objective/regression_obj.cu:152: reg:linear is now deprecated in favor of reg:squarederror.\n",
            "[CV 3/5] END colsample_bytree=0.4, gamma=0.4, learning_rate=0.3, max_depth=8, min_child_weight=1;, score=0.903 total time=   0.9s\n",
            "[07:27:38] WARNING: /workspace/src/objective/regression_obj.cu:152: reg:linear is now deprecated in favor of reg:squarederror.\n",
            "[CV 4/5] END colsample_bytree=0.4, gamma=0.4, learning_rate=0.3, max_depth=8, min_child_weight=1;, score=0.896 total time=   0.9s\n",
            "[07:27:39] WARNING: /workspace/src/objective/regression_obj.cu:152: reg:linear is now deprecated in favor of reg:squarederror.\n",
            "[CV 5/5] END colsample_bytree=0.4, gamma=0.4, learning_rate=0.3, max_depth=8, min_child_weight=1;, score=0.891 total time=   0.9s\n",
            "[07:27:40] WARNING: /workspace/src/objective/regression_obj.cu:152: reg:linear is now deprecated in favor of reg:squarederror.\n",
            "[CV 1/5] END colsample_bytree=0.5, gamma=0.3, learning_rate=0.15, max_depth=12, min_child_weight=5;, score=0.920 total time=   1.6s\n",
            "[07:27:42] WARNING: /workspace/src/objective/regression_obj.cu:152: reg:linear is now deprecated in favor of reg:squarederror.\n",
            "[CV 2/5] END colsample_bytree=0.5, gamma=0.3, learning_rate=0.15, max_depth=12, min_child_weight=5;, score=0.915 total time=   1.6s\n",
            "[07:27:43] WARNING: /workspace/src/objective/regression_obj.cu:152: reg:linear is now deprecated in favor of reg:squarederror.\n",
            "[CV 3/5] END colsample_bytree=0.5, gamma=0.3, learning_rate=0.15, max_depth=12, min_child_weight=5;, score=0.909 total time=   1.6s\n",
            "[07:27:45] WARNING: /workspace/src/objective/regression_obj.cu:152: reg:linear is now deprecated in favor of reg:squarederror.\n",
            "[CV 4/5] END colsample_bytree=0.5, gamma=0.3, learning_rate=0.15, max_depth=12, min_child_weight=5;, score=0.906 total time=   1.6s\n",
            "[07:27:47] WARNING: /workspace/src/objective/regression_obj.cu:152: reg:linear is now deprecated in favor of reg:squarederror.\n",
            "[CV 5/5] END colsample_bytree=0.5, gamma=0.3, learning_rate=0.15, max_depth=12, min_child_weight=5;, score=0.897 total time=   1.6s\n",
            "[07:27:48] WARNING: /workspace/src/objective/regression_obj.cu:152: reg:linear is now deprecated in favor of reg:squarederror.\n",
            "[CV 1/5] END colsample_bytree=0.4, gamma=0.1, learning_rate=0.25, max_depth=15, min_child_weight=1;, score=0.906 total time=   1.9s\n",
            "[07:27:50] WARNING: /workspace/src/objective/regression_obj.cu:152: reg:linear is now deprecated in favor of reg:squarederror.\n",
            "[CV 2/5] END colsample_bytree=0.4, gamma=0.1, learning_rate=0.25, max_depth=15, min_child_weight=1;, score=0.889 total time=   1.9s\n",
            "[07:27:52] WARNING: /workspace/src/objective/regression_obj.cu:152: reg:linear is now deprecated in favor of reg:squarederror.\n",
            "[CV 3/5] END colsample_bytree=0.4, gamma=0.1, learning_rate=0.25, max_depth=15, min_child_weight=1;, score=0.890 total time=   1.9s\n",
            "[07:27:54] WARNING: /workspace/src/objective/regression_obj.cu:152: reg:linear is now deprecated in favor of reg:squarederror.\n",
            "[CV 4/5] END colsample_bytree=0.4, gamma=0.1, learning_rate=0.25, max_depth=15, min_child_weight=1;, score=0.890 total time=   1.9s\n",
            "[07:27:56] WARNING: /workspace/src/objective/regression_obj.cu:152: reg:linear is now deprecated in favor of reg:squarederror.\n",
            "[CV 5/5] END colsample_bytree=0.4, gamma=0.1, learning_rate=0.25, max_depth=15, min_child_weight=1;, score=0.876 total time=   1.9s\n",
            "[07:27:58] WARNING: /workspace/src/objective/regression_obj.cu:152: reg:linear is now deprecated in favor of reg:squarederror.\n",
            "[CV 1/5] END colsample_bytree=0.3, gamma=0.2, learning_rate=0.25, max_depth=8, min_child_weight=5;, score=0.922 total time=   0.7s\n",
            "[07:27:59] WARNING: /workspace/src/objective/regression_obj.cu:152: reg:linear is now deprecated in favor of reg:squarederror.\n",
            "[CV 2/5] END colsample_bytree=0.3, gamma=0.2, learning_rate=0.25, max_depth=8, min_child_weight=5;, score=0.904 total time=   0.8s\n",
            "[07:27:59] WARNING: /workspace/src/objective/regression_obj.cu:152: reg:linear is now deprecated in favor of reg:squarederror.\n",
            "[CV 3/5] END colsample_bytree=0.3, gamma=0.2, learning_rate=0.25, max_depth=8, min_child_weight=5;, score=0.899 total time=   0.8s\n",
            "[07:28:00] WARNING: /workspace/src/objective/regression_obj.cu:152: reg:linear is now deprecated in favor of reg:squarederror.\n",
            "[CV 4/5] END colsample_bytree=0.3, gamma=0.2, learning_rate=0.25, max_depth=8, min_child_weight=5;, score=0.901 total time=   0.7s\n",
            "[07:28:01] WARNING: /workspace/src/objective/regression_obj.cu:152: reg:linear is now deprecated in favor of reg:squarederror.\n",
            "[CV 5/5] END colsample_bytree=0.3, gamma=0.2, learning_rate=0.25, max_depth=8, min_child_weight=5;, score=0.893 total time=   0.8s\n",
            "[07:28:02] WARNING: /workspace/src/objective/regression_obj.cu:152: reg:linear is now deprecated in favor of reg:squarederror.\n",
            "[CV 1/5] END colsample_bytree=0.4, gamma=0.2, learning_rate=0.05, max_depth=8, min_child_weight=7;, score=0.890 total time=   0.9s\n",
            "[07:28:03] WARNING: /workspace/src/objective/regression_obj.cu:152: reg:linear is now deprecated in favor of reg:squarederror.\n",
            "[CV 2/5] END colsample_bytree=0.4, gamma=0.2, learning_rate=0.05, max_depth=8, min_child_weight=7;, score=0.884 total time=   0.9s\n",
            "[07:28:04] WARNING: /workspace/src/objective/regression_obj.cu:152: reg:linear is now deprecated in favor of reg:squarederror.\n",
            "[CV 3/5] END colsample_bytree=0.4, gamma=0.2, learning_rate=0.05, max_depth=8, min_child_weight=7;, score=0.873 total time=   0.9s\n",
            "[07:28:05] WARNING: /workspace/src/objective/regression_obj.cu:152: reg:linear is now deprecated in favor of reg:squarederror.\n",
            "[CV 4/5] END colsample_bytree=0.4, gamma=0.2, learning_rate=0.05, max_depth=8, min_child_weight=7;, score=0.885 total time=   0.9s\n",
            "[07:28:05] WARNING: /workspace/src/objective/regression_obj.cu:152: reg:linear is now deprecated in favor of reg:squarederror.\n",
            "[CV 5/5] END colsample_bytree=0.4, gamma=0.2, learning_rate=0.05, max_depth=8, min_child_weight=7;, score=0.866 total time=   0.9s\n",
            "[07:28:06] WARNING: /workspace/src/objective/regression_obj.cu:152: reg:linear is now deprecated in favor of reg:squarederror.\n"
          ]
        },
        {
          "output_type": "execute_result",
          "data": {
            "text/plain": [
              "RandomizedSearchCV(cv=5, estimator=XGBRegressor(), n_iter=8, n_jobs=1,\n",
              "                   param_distributions={'colsample_bytree': [0.3, 0.4, 0.5,\n",
              "                                                             0.7],\n",
              "                                        'gamma': [0.0, 0.1, 0.2, 0.3, 0.4],\n",
              "                                        'learning_rate': [0.05, 0.1, 0.15, 0.2,\n",
              "                                                          0.25, 0.3],\n",
              "                                        'max_depth': [3, 4, 5, 6, 8, 10, 12,\n",
              "                                                      15],\n",
              "                                        'min_child_weight': [1, 3, 5, 7, 9]},\n",
              "                   scoring='r2', verbose=3)"
            ]
          },
          "metadata": {},
          "execution_count": 189
        }
      ],
      "source": [
        "random_search_pca_xgb.fit(x_train, y_train)"
      ]
    },
    {
      "cell_type": "code",
      "execution_count": null,
      "metadata": {
        "colab": {
          "base_uri": "https://localhost:8080/"
        },
        "id": "EMiU8jgsBuRW",
        "outputId": "1af16433-7d42-47ae-9112-b70e4d119681"
      },
      "outputs": [
        {
          "output_type": "stream",
          "name": "stdout",
          "text": [
            "The testing score by applying tuned XgbRegressor is : 92.3840\n"
          ]
        }
      ],
      "source": [
        "preds_xgb_pca = random_search_pca_xgb.predict(x_test)\n",
        "testing_score_xgb_pca = max(0 , 100 * r2_score(y_test , preds_xgb_pca))\n",
        "mlse = max(0,mean_squared_log_error(y_test,preds_xgb_pca))\n",
        "print(f\"The testing score by applying tuned XgbRegressor is : {testing_score_xgb_pca:.4f}\")\n",
        "random_search_testing_scores_pca.append(testing_score_xgb_pca)\n",
        "MLSE_scores_pca.append(mlse)"
      ]
    },
    {
      "cell_type": "markdown",
      "source": [
        "##Comapring all three models after applying PCA"
      ],
      "metadata": {
        "id": "FKKxzwwL0KUM"
      }
    },
    {
      "cell_type": "code",
      "execution_count": null,
      "metadata": {
        "colab": {
          "base_uri": "https://localhost:8080/",
          "height": 143
        },
        "id": "1aoLyDe1DgnY",
        "outputId": "553ec3cd-a6db-453a-ca60-4a8a56e35358"
      },
      "outputs": [
        {
          "output_type": "execute_result",
          "data": {
            "text/plain": [
              "<pandas.io.formats.style.Styler at 0x7fe0f1cbf290>"
            ],
            "text/html": [
              "<style type=\"text/css\">\n",
              "#T_e3ff9_row0_col1, #T_e3ff9_row2_col2 {\n",
              "  background-color: #fff7fb;\n",
              "  color: #000000;\n",
              "}\n",
              "#T_e3ff9_row0_col2, #T_e3ff9_row2_col1 {\n",
              "  background-color: #73a9cf;\n",
              "  color: #f1f1f1;\n",
              "}\n",
              "#T_e3ff9_row1_col1 {\n",
              "  background-color: #94b6d7;\n",
              "  color: #000000;\n",
              "}\n",
              "#T_e3ff9_row1_col2 {\n",
              "  background-color: #e6e2ef;\n",
              "  color: #000000;\n",
              "}\n",
              "</style>\n",
              "<table id=\"T_e3ff9_\" class=\"dataframe\">\n",
              "  <thead>\n",
              "    <tr>\n",
              "      <th class=\"blank level0\" >&nbsp;</th>\n",
              "      <th class=\"col_heading level0 col0\" >Model</th>\n",
              "      <th class=\"col_heading level0 col1\" >R2-Score</th>\n",
              "      <th class=\"col_heading level0 col2\" >MLSE</th>\n",
              "    </tr>\n",
              "  </thead>\n",
              "  <tbody>\n",
              "    <tr>\n",
              "      <th id=\"T_e3ff9_level0_row0\" class=\"row_heading level0 row0\" >0</th>\n",
              "      <td id=\"T_e3ff9_row0_col0\" class=\"data row0 col0\" >RandomForestRegressor</td>\n",
              "      <td id=\"T_e3ff9_row0_col1\" class=\"data row0 col1\" >87.906624</td>\n",
              "      <td id=\"T_e3ff9_row0_col2\" class=\"data row0 col2\" >0.022873</td>\n",
              "    </tr>\n",
              "    <tr>\n",
              "      <th id=\"T_e3ff9_level0_row1\" class=\"row_heading level0 row1\" >1</th>\n",
              "      <td id=\"T_e3ff9_row1_col0\" class=\"data row1 col0\" >LightGBM</td>\n",
              "      <td id=\"T_e3ff9_row1_col1\" class=\"data row1 col1\" >91.682792</td>\n",
              "      <td id=\"T_e3ff9_row1_col2\" class=\"data row1 col2\" >0.016453</td>\n",
              "    </tr>\n",
              "    <tr>\n",
              "      <th id=\"T_e3ff9_level0_row2\" class=\"row_heading level0 row2\" >2</th>\n",
              "      <td id=\"T_e3ff9_row2_col0\" class=\"data row2 col0\" >XGBRegressor</td>\n",
              "      <td id=\"T_e3ff9_row2_col1\" class=\"data row2 col1\" >92.384028</td>\n",
              "      <td id=\"T_e3ff9_row2_col2\" class=\"data row2 col2\" >0.013637</td>\n",
              "    </tr>\n",
              "  </tbody>\n",
              "</table>\n"
            ]
          },
          "metadata": {},
          "execution_count": 191
        }
      ],
      "source": [
        "final_testing_score = pd.DataFrame({'Model': ['RandomForestRegressor','LightGBM','XGBRegressor'], 'R2-Score': random_search_testing_scores_pca, 'MLSE' : MLSE_scores_pca})\n",
        "final_testing_score.style.background_gradient(high=1,axis=0)"
      ]
    },
    {
      "cell_type": "code",
      "execution_count": null,
      "metadata": {
        "colab": {
          "base_uri": "https://localhost:8080/",
          "height": 350
        },
        "id": "7qQwPRk0D9Ry",
        "outputId": "3abc3181-60a6-480c-82d2-3a9fbf071527"
      },
      "outputs": [
        {
          "output_type": "display_data",
          "data": {
            "text/plain": [
              "<Figure size 720x360 with 1 Axes>"
            ],
            "image/png": "[encoded data removed]"
          },
          "metadata": {
            "needs_background": "light"
          }
        }
      ],
      "source": [
        "plt.figure(figsize = (10 , 5))\n",
        "sns.barplot(y = \"Model\" , x = \"R2-Score\" , data = final_testing_score)\n",
        "plt.title(\"Model Comparision based on R2-Score after applying PCA based on R2- score\");"
      ]
    },
    {
      "cell_type": "code",
      "source": [
        "plt.figure(figsize = (10 , 5))\n",
        "sns.barplot(y = \"Model\" , x = \"MLSE\" , data = final_testing_score)\n",
        "plt.title(\"Model Comparision based on MLSE after applying PCA based on MLSE\");"
      ],
      "metadata": {
        "colab": {
          "base_uri": "https://localhost:8080/",
          "height": 350
        },
        "id": "oKOqOTOhbkDl",
        "outputId": "84afeb87-a98e-43c4-b62f-2be990bee3bc"
      },
      "execution_count": null,
      "outputs": [
        {
          "output_type": "display_data",
          "data": {
            "text/plain": [
              "<Figure size 720x360 with 1 Axes>"
            ],
            "image/png": "[encoded data removed]"
          },
          "metadata": {
            "needs_background": "light"
          }
        }
      ]
    },
    {
      "cell_type": "markdown",
      "source": [
        "##Final Price Prediction"
      ],
      "metadata": {
        "id": "dO-17HyS0UPo"
      }
    },
    {
      "cell_type": "markdown",
      "metadata": {
        "id": "6R9sYWvvN5Ry"
      },
      "source": [
        "Since we have seen that without applying pca and after applying pca our XGBregreesor and lgbmregressor are giving us maximum r2-score so let's the final price be predicted by the average of the two price predicted by these models."
      ]
    },
    {
      "cell_type": "code",
      "execution_count": null,
      "metadata": {
        "id": "i70xbicIVZGX"
      },
      "outputs": [],
      "source": [
        "final_predicted_price = []\n",
        "for i in range(len(preds_xgb_pca)):\n",
        "  final_predicted_price.append((preds_xgb_pca[i] + preds_lgbm_pca[i]) / 2)"
      ]
    },
    {
      "cell_type": "code",
      "execution_count": null,
      "metadata": {
        "colab": {
          "base_uri": "https://localhost:8080/"
        },
        "id": "uSubCuPUhpdW",
        "outputId": "db4a1ebe-8342-45bc-8ac2-c962bd629b88"
      },
      "outputs": [
        {
          "output_type": "stream",
          "name": "stdout",
          "text": [
            "The testing score by applying tuned combination of XGB Regressor and LGBM Regressor is : 92.5631\n"
          ]
        }
      ],
      "source": [
        "final_testing_score = max(0 , 100 * r2_score(y_test , final_predicted_price))\n",
        "print(f\"The testing score by applying tuned combination of XGB Regressor and LGBM Regressor is : {final_testing_score:.4f}\")"
      ]
    },
    {
      "cell_type": "markdown",
      "metadata": {
        "id": "-U416XJne1d1"
      },
      "source": [
        "#<h2 align = center><strong> Pipeline </strong></h2>\n",
        "<img src = \"https://github.com/Shrut26/Flight-Ticket-Price-Prediction/blob/main/pipeline.png?raw=true\" />"
      ]
    },
    {
      "cell_type": "code",
      "execution_count": null,
      "metadata": {
        "id": "xw3iNZ2vxRZL"
      },
      "outputs": [],
      "source": [
        "def Pipeline(X,Y):\n",
        "  #data extraction and preprocessing are exactly the same done their headings\n",
        "  pca = PCA()\n",
        "  pca.fit(X) \n",
        "  values = pca.transform(X)\n",
        "  pca_data = pd.DataFrame(columns = ['PCA1','PCA2','PCA3','PCA4','PCA5','PCA6','PCA7','PCA8','PCA9','PCA10'], data = values[:,:10])\n",
        "  pca_data['Price'] = Y\n",
        "  final_predicted_price = []\n",
        "  for i in range(len(preds_xgb_pca)):\n",
        "    final_predicted_price.append((preds_xgb_pca[i] + preds_lgbm_pca[i]) / 2)\n",
        "  final_testing_score = max(0 , 100 * r2_score(y_test , final_predicted_price))\n",
        "  print(f\"The testing score by applying tuned combination of XGB Regressor and LGBM Regressor is : {final_testing_score:.4f}\")"
      ]
    },
    {
      "cell_type": "code",
      "execution_count": null,
      "metadata": {
        "colab": {
          "base_uri": "https://localhost:8080/"
        },
        "id": "Y_EzHPI_zcUn",
        "outputId": "af24774d-54e4-45ff-d04e-e74416314acc"
      },
      "outputs": [
        {
          "output_type": "stream",
          "name": "stdout",
          "text": [
            "The testing score by applying tuned combination of XGB Regressor and LGBM Regressor is : 92.5631\n"
          ]
        }
      ],
      "source": [
        "Pipeline(X,Y)"
      ]
    }
  ],
  "metadata": {
    "colab": {
      "name": "Flight Ticket Price Prediction.ipynb",
      "provenance": [],
      "collapsed_sections": [
        "PAn9lRMRi7tn",
        "u8L0ZL10oIl0",
        "pKLQdCOnkE_c",
        "39djXTnVlusm",
        "rNxtU3d2Fp9A",
        "FJSqAeZJH3c_"
      ]
    },
    "kernelspec": {
      "display_name": "Python 3",
      "name": "python3"
    },
    "language_info": {
      "name": "python"
    }
  },
  "nbformat": 4,
  "nbformat_minor": 0
}